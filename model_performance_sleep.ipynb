{
 "cells": [
  {
   "cell_type": "markdown",
   "id": "185fa197-cd04-42ea-a49f-c995a35d9cde",
   "metadata": {},
   "source": [
    "# Importing libraries and supressing the visualization error"
   ]
  },
  {
   "cell_type": "code",
   "execution_count": 15,
   "id": "e27898e1-53c9-44d4-bf51-8f7b117a332d",
   "metadata": {
    "tags": []
   },
   "outputs": [],
   "source": [
    "import matplotlib.pyplot as plt\n",
    "from matplotlib import rcParams\n",
    "\n",
    "# Set default font to DejaVu Sans\n",
    "rcParams['font.sans-serif'] = ['DejaVu Sans']"
   ]
  },
  {
   "cell_type": "code",
   "execution_count": 17,
   "id": "90bd0592-8020-401e-827e-aa65ea107569",
   "metadata": {
    "tags": []
   },
   "outputs": [],
   "source": [
    "import pandas as pd \n",
    "import glob\n",
    "import numpy as np\n",
    "from sklearn.model_selection import train_test_split\n",
    "from sklearn.preprocessing import StandardScaler\n",
    "from sklearn.metrics import accuracy_score, classification_report, confusion_matrix\n",
    "from xgboost import XGBClassifier\n",
    "import matplotlib.pyplot as plt\n",
    "from scipy.stats import friedmanchisquare\n",
    "from sklearn.model_selection import cross_val_predict, KFold\n",
    "from sklearn.tree import DecisionTreeRegressor\n",
    "from sklearn.svm import SVR\n",
    "from sklearn.ensemble import RandomForestRegressor, AdaBoostRegressor\n",
    "from sklearn.linear_model import LassoCV, Ridge\n",
    "from sklearn.neighbors import KNeighborsRegressor\n",
    "from xgboost import XGBRegressor\n",
    "from sklearn.metrics import mean_absolute_error, mean_squared_error, r2_score, explained_variance_score\n",
    "from sklearn.preprocessing import StandardScaler\n",
    "from scipy.stats import friedmanchisquare\n",
    "from sklearn.model_selection import KFold"
   ]
  },
  {
   "cell_type": "markdown",
   "id": "50364d6e-5bb7-4ba3-b033-eb029f1cac79",
   "metadata": {},
   "source": [
    " # Reading all the data"
   ]
  },
  {
   "cell_type": "code",
   "execution_count": 3,
   "id": "d3453b64-cfdf-48a6-8884-7911889ce6d9",
   "metadata": {
    "tags": []
   },
   "outputs": [],
   "source": [
    "df_all=pd.read_csv('data_compiled.csv')"
   ]
  },
  {
   "cell_type": "code",
   "execution_count": 4,
   "id": "a0790b67-16d7-4935-871a-a812395e0b21",
   "metadata": {
    "tags": []
   },
   "outputs": [],
   "source": [
    "df_all.drop(['Unnamed: 0'],axis=1, inplace=True)"
   ]
  },
  {
   "cell_type": "code",
   "execution_count": 5,
   "id": "06ed836e-8164-473c-9358-74a2681d30b9",
   "metadata": {
    "tags": []
   },
   "outputs": [],
   "source": [
    "df_all=df_all.dropna()"
   ]
  },
  {
   "cell_type": "code",
   "execution_count": 6,
   "id": "4e0f3a74-59ef-4c75-a3fc-35f959990242",
   "metadata": {
    "tags": []
   },
   "outputs": [],
   "source": [
    "#categorical_features=['Participant','Gender'] categorical features are already one hot encoded"
   ]
  },
  {
   "cell_type": "code",
   "execution_count": 7,
   "id": "be777206-f5ce-4baa-8107-db435064d147",
   "metadata": {
    "tags": []
   },
   "outputs": [],
   "source": [
    "other_features=['HR_Mean', 'HR_Max', 'HR_Std', 'HR_Skew', 'HR_Q1G',\n",
    "       'HR_Q3G', 'EDA_Mean', 'EDA_Max', 'EDA_Std', 'EDA_Skew', 'EDA_Q1G',\n",
    "       'EDA_Q3G', 'TEMP_Mean', 'TEMP_Max', 'TEMP_Std', 'TEMP_Skew', 'TEMP_Q1G',\n",
    "       'TEMP_Q3G', 'ACC_Mean', 'ACC_Max', 'ACC_Std', 'ACC_Skew', 'ACC_Q1G',\n",
    "       'ACC_Q3G', 'BVP_Mean', 'BVP_Max', 'BVP_Std', 'BVP_Skew', 'BVP_Q1G',\n",
    "       'BVP_Q3G', 'PeakEDA', 'maxHRV', 'minHRV', 'medianHRV', 'SDNN', 'NN50',\n",
    "       'pNN50', 'RMSSD', 'calories2hr', 'protien2hr', 'sugar2hr', 'carbs2hr',\n",
    "       'protien8hr', 'sugar8hr', 'carbs8hr', 'calories24hr', 'protien24hr',\n",
    "       'sugar24hr', 'carbs24hr', 'Eat', 'Eatcnt2hr', 'Eatcnt8hr', 'Eatcnt24hr',\n",
    "       'Eatmean2hr', 'Eatmean8hr', 'Eatmean24hr', 'Minfrommid', 'Hourfrommid',\n",
    "       'EDA_Min', 'calories8hr', 'TEMP_Min', 'BVP_Min', 'ACC_Min', 'HR_Min',\n",
    "       'HR_Mean_Historical', 'HR_Std_Historical', 'ACC_Mean_Historical',\n",
    "       'ACC_Std_Historical', 'Activity_Bouts', 'Activity24',\n",
    "       'Activity1h']"
   ]
  },
  {
   "cell_type": "code",
   "execution_count": 9,
   "id": "26883ae3-8a6c-4512-a8d2-d1da4763a686",
   "metadata": {
    "tags": []
   },
   "outputs": [],
   "source": [
    "categorical_features=['Participant','Gender']"
   ]
  },
  {
   "cell_type": "code",
   "execution_count": 8,
   "id": "add814d5-d6c4-4c8b-8a7c-6bb45a01a17d",
   "metadata": {
    "tags": []
   },
   "outputs": [],
   "source": [
    "all_sleep_features=['total_sleep_time','percent_time_asleep','waso','sleep_onset_latency',\n",
    "                    'number_wake_bouts', 'stage_0_count','stage_2_count','stage_3_count',\n",
    "                    'stage_5_count','stage_0_count_log','total_sleep_time_log',\n",
    "                    'percent_time_asleep_log','stage_0_count_boxcox','stage_0_count_yeojohnson',\n",
    "                    'stage_0_count_rank','stage_0_count_standardized','total_sleep_timelog',\n",
    "                    'percent_time_asleeplog','wasolog','sleep_onset_latencylog','number_wake_boutslog',\n",
    "                    'stage_0_countlog','stage_1_countlog','stage_2_countlog','stage_3_countlog','stage_5_countlog',\n",
    "                    'total_sleep_time_boxcox','total_sleep_time_yeojohnson','total_sleep_time_rank','percent_time_asleep_boxcox',\n",
    "                    'percent_time_asleep_yeojohnson','percent_time_asleep_rank','waso_boxcox','waso_yeojohnson','waso_rank',\n",
    "                    'sleep_onset_latency_yeojohnson','sleep_onset_latency_rank','number_wake_bouts_boxcox','number_wake_bouts_yeojohnson',\n",
    "                    'number_wake_bouts_rank','stage_1_count_boxcox','stage_1_count_yeojohnson','stage_1_count_rank','stage_2_count_boxcox',\n",
    "                    'stage_2_count_yeojohnson','stage_2_count_rank','stage_3_count_boxcox','stage_3_count_yeojohnson','stage_3_count_rank',\n",
    "                    'stage_5_count_boxcox','stage_5_count_yeojohnson','stage_5_count_rank','stage_0_count_percent','stage_1_count_percent',\n",
    "                    'stage_2_count_percent','stage_3_count_percent','stage_5_count_percent','stage_1_count_percent_diff_from_recommended',\n",
    "                    'stage_2_count_percent_diff_from_recommended','stage_3_count_percent_diff_from_recommended',\n",
    "                    'stage_5_count_percent_diff_from_recommended']"
   ]
  },
  {
   "cell_type": "markdown",
   "id": "e085e624-440b-429c-8285-9d305091a63b",
   "metadata": {},
   "source": [
    "Let us use only the selected transformed features \n",
    "the table defining them is given here\n",
    "| Feature                          | Original | Log Transformation | Box-Cox Transformation | Yeo-Johnson Transformation | Rank-Based Inverse Normal Transformation |\n",
    "|----------------------------------|----------|---------------------|------------------------|----------------------------|------------------------------------------|\n",
    "| total_sleep_time                 | ✖        | ✔                   | ✖                      | ✖                          | ✔                                        |\n",
    "| percent_time_asleep              | ✖        | ✔                   | ✖                      | ✖                          | ✔                                        |\n",
    "| waso                             | ✔        | ✖                   | ✖                      | ✖                          | ✖                                        |\n",
    "| sleep_onset_latency              | ✖        | ✖                   | ✖                      | ✖                          | ✔                                        |\n",
    "| number_wake_bouts                | ✔        | ✖                   | ✖                      | ✖                          | ✖                                        |\n",
    "| stage_0_count                    | ✖        | ✖                   | ✖                      | ✖                          | ✔                                        |\n",
    "| stage_1_count                    | ✖        | ✖                   | ✖                      | ✖                          | ✔                                        |\n",
    "| stage_2_count                    | ✖        | ✖                   | ✖                      | ✖                          | ✔                                        |\n",
    "| stage_3_count                    | ✖        | ✖                   | ✖                      | ✔                          | ✖                                        |\n",
    "| stage_5_count                    | ✖        | ✖                   | ✖                      | ✔                          | ✖                                        |"
   ]
  },
  {
   "cell_type": "code",
   "execution_count": 9,
   "id": "cfd02b81-a9fc-4f17-8dd1-4f8f0eda9399",
   "metadata": {
    "tags": []
   },
   "outputs": [],
   "source": [
    "transformed_sleep_features=['waso','number_wake_bouts','stage_0_count_log','total_sleep_time_log',\n",
    "                    'percent_time_asleep_log', 'total_sleep_timelog', 'percent_time_asleeplog','total_sleep_time_rank',\n",
    "                    'percent_time_asleep_rank','sleep_onset_latency_rank','stage_1_count_rank','stage_3_count_yeojohnson',\n",
    "                    'stage_2_count_rank','stage_3_count_rank','stage_5_count_yeojohnson','stage_0_count_percent','stage_1_count_percent',\n",
    "                    'stage_2_count_percent','stage_3_count_percent','stage_5_count_percent','stage_1_count_percent_diff_from_recommended',\n",
    "                    'stage_2_count_percent_diff_from_recommended','stage_3_count_percent_diff_from_recommended',\n",
    "                    'stage_5_count_percent_diff_from_recommended']"
   ]
  },
  {
   "cell_type": "code",
   "execution_count": 10,
   "id": "fd3c6131-5e50-4d14-8778-5b9d2aa14e0d",
   "metadata": {
    "tags": []
   },
   "outputs": [],
   "source": [
    "unmodified_sleep_features= ['total_sleep_time','percent_time_asleep','waso','sleep_onset_latency',\n",
    "                    'number_wake_bouts', 'stage_0_count','stage_2_count','stage_3_count',\n",
    "                    'stage_5_count']\n"
   ]
  },
  {
   "cell_type": "code",
   "execution_count": 11,
   "id": "26463494-7eb3-43ab-a661-64aa4b424fb8",
   "metadata": {
    "tags": []
   },
   "outputs": [],
   "source": [
    "feature_sets = {\n",
    "    'other_features': other_features,\n",
    "    'other_features + unmodified_sleep_features': other_features + unmodified_sleep_features,\n",
    "    'other_features + transformed_sleep_features': other_features + transformed_sleep_features,\n",
    "    'other_features + all_sleep_features': other_features + all_sleep_features\n",
    "}\n"
   ]
  },
  {
   "cell_type": "code",
   "execution_count": null,
   "id": "5d44438b-82d4-416f-a178-ae52ac160a06",
   "metadata": {},
   "outputs": [],
   "source": []
  },
  {
   "cell_type": "markdown",
   "id": "7a09169c-d384-458d-9f3b-5a22778a5038",
   "metadata": {
    "tags": []
   },
   "source": [
    "# Getting the results for different feature sets and models"
   ]
  },
  {
   "cell_type": "code",
   "execution_count": 12,
   "id": "5aae5aef-9c6f-4da8-b0db-59a1e4e21e06",
   "metadata": {
    "tags": []
   },
   "outputs": [],
   "source": [
    "import pandas as pd\n",
    "import numpy as np\n",
    "from scipy.stats import friedmanchisquare\n",
    "from sklearn.model_selection import cross_val_predict, KFold\n",
    "from sklearn.tree import DecisionTreeRegressor\n",
    "from sklearn.svm import SVR\n",
    "from sklearn.ensemble import RandomForestRegressor, AdaBoostRegressor\n",
    "from sklearn.linear_model import LassoCV, Ridge\n",
    "from sklearn.neighbors import KNeighborsRegressor\n",
    "from xgboost import XGBRegressor\n",
    "from sklearn.metrics import mean_absolute_error, mean_squared_error, r2_score, explained_variance_score\n",
    "from sklearn.preprocessing import StandardScaler\n",
    "from scipy.stats import friedmanchisquare\n",
    "from sklearn.model_selection import KFold\n",
    "from tqdm import tqdm"
   ]
  },
  {
   "cell_type": "code",
   "execution_count": 13,
   "id": "dc6969d7-efb7-47de-8ea3-cf72b38c8080",
   "metadata": {
    "tags": []
   },
   "outputs": [],
   "source": [
    "# Define models\n",
    "models = {\n",
    "    'DT': DecisionTreeRegressor(),\n",
    "    'SVM': SVR(),\n",
    "    'RF': RandomForestRegressor(),\n",
    "    'KNN': KNeighborsRegressor(),\n",
    "    'LassoCV': LassoCV(),\n",
    "    'Ridge': Ridge(),\n",
    "    'AdaBoost': AdaBoostRegressor(),\n",
    "    'XGBOOST': XGBRegressor()\n",
    "}"
   ]
  },
  {
   "cell_type": "code",
   "execution_count": null,
   "id": "7dcc7b4e-c067-4b08-a3d5-b26e42bffab6",
   "metadata": {
    "tags": []
   },
   "outputs": [
    {
     "name": "stderr",
     "output_type": "stream",
     "text": [
      "\n",
      "                                                                          \r"
     ]
    },
    {
     "name": "stdout",
     "output_type": "stream",
     "text": [
      "Average MAE for DT on other_features: 8.1355 ± 0.3267\n"
     ]
    },
    {
     "name": "stderr",
     "output_type": "stream",
     "text": [
      "                                                                                                      \r"
     ]
    },
    {
     "name": "stdout",
     "output_type": "stream",
     "text": [
      "Average MAE for DT on other_features + unmodified_sleep_features: 6.8294 ± 0.2752\n"
     ]
    },
    {
     "name": "stderr",
     "output_type": "stream",
     "text": [
      "                                                                                                       \r"
     ]
    },
    {
     "name": "stdout",
     "output_type": "stream",
     "text": [
      "Average MAE for DT on other_features + transformed_sleep_features: 6.6071 ± 0.2143\n"
     ]
    },
    {
     "name": "stderr",
     "output_type": "stream",
     "text": [
      "                                                                                               \n",
      "Models:  12%|█▎        | 1/8 [01:13<08:33, 73.41s/it]\u001b[A"
     ]
    },
    {
     "name": "stdout",
     "output_type": "stream",
     "text": [
      "Average MAE for DT on other_features + all_sleep_features: 6.6047 ± 0.3250\n"
     ]
    },
    {
     "name": "stderr",
     "output_type": "stream",
     "text": [
      "                                                                           \r"
     ]
    },
    {
     "name": "stdout",
     "output_type": "stream",
     "text": [
      "Average MAE for SVM on other_features: 16.1494 ± 0.3992\n"
     ]
    },
    {
     "name": "stderr",
     "output_type": "stream",
     "text": [
      "SVM - other_features + unmodified_sleep_features Folds:  80%|████████  | 8/10 [03:41<00:54, 27.41s/it]"
     ]
    }
   ],
   "source": [
    "results = []\n",
    "\n",
    "kf = KFold(n_splits=10, shuffle=True, random_state=42)\n",
    "maes=[]\n",
    "# Outer loop for each model\n",
    "for name, model in tqdm(models.items(), desc='Models', position=1,leave=False):\n",
    "    for set_name, feature_set in feature_sets.items():\n",
    "        X_subset = df_all[feature_set]\n",
    "        y=df_all['IG']\n",
    "        \n",
    "        for fold, (train_index, test_index) in enumerate(tqdm(kf.split(X_subset), desc=f'{name} - {set_name} Folds', leave=False, position=0, total=kf.get_n_splits()), 1):\n",
    "            X_train, X_test = X_subset.iloc[train_index], X_subset.iloc[test_index]\n",
    "            y_train, y_test = y.iloc[train_index], y.iloc[test_index]\n",
    "\n",
    "            model.fit(X_train, y_train)\n",
    "            y_pred = model.predict(X_test)\n",
    "\n",
    "            mae = mean_absolute_error(y_test, y_pred)\n",
    "            mape = np.mean(np.abs((y_test - y_pred) / y_test)) * 100\n",
    "            r2 = r2_score(y_test, y_pred)\n",
    "            n, p = X_test.shape\n",
    "            adj_r2 = 1 - (1 - r2) * (n - 1) / (n - p - 1)\n",
    "            msle = mean_squared_error(y_test, y_pred, squared=False)\n",
    "            ev = explained_variance_score(y_test, y_pred)\n",
    "            rmse = np.sqrt(mean_squared_error(y_test, y_pred))\n",
    "            maes.append(mae)\n",
    "\n",
    "            results.append({\n",
    "                'Model': name,\n",
    "                'Feature Set': set_name,\n",
    "                'Fold': fold,\n",
    "                'MAE': mae,\n",
    "                'MAPE': mape,\n",
    "                'R2': r2,\n",
    "                'Adjusted R2': adj_r2,\n",
    "                'MSLE': msle,\n",
    "                'Explained Variance': ev,\n",
    "                'RMSE': rmse\n",
    "            })\n",
    "        mean_mae = np.mean(maes)\n",
    "        std_mae = np.std(maes)\n",
    "        maes=[]\n",
    "        print(f'Average MAE for {name} on {set_name}: {mean_mae:.4f} ± {std_mae:.4f}')\n",
    "\n",
    "# Convert results to a DataFrame\n",
    "results_df = pd.DataFrame(results)\n",
    "\n",
    "# Calculate mean and standard deviation for MAE\n",
    "mae_metrics = results_df.groupby(['Model', 'Feature Set'])['MAE'].agg(['mean', 'std'])\n",
    "\n",
    "# Print the average MAE ± STD for each model and feature set\n",
    "print(\"\\nAverage MAE ± STD for each model and feature set:\")\n",
    "for idx, row in mae_metrics.iterrows():\n",
    "    print(f\"{idx[0]} - {idx[1]}: {row['mean']:.4f} ± {row['std']:.4f}\")\n",
    "\n",
    "# Save the results to a CSV file\n",
    "results_df.to_csv('model_performance_metrics_regression.csv', index=False)\n",
    "\n",
    "print(\"Model performance metrics have been saved to 'model_performance_metrics_regression.csv'.\")"
   ]
  },
  {
   "cell_type": "markdown",
   "id": "046e7c92-37b1-43b1-b53f-d428aa0149b6",
   "metadata": {},
   "source": [
    "Let us see what would be the accuracy of RF model if only sleep features are used. (we use the 70/30) split."
   ]
  }
 ],
 "metadata": {
  "kernelspec": {
   "display_name": "Python 3.10.5 (gimkl-2022a)",
   "language": "python",
   "name": "python3105-gimkl-2022a"
  },
  "language_info": {
   "codemirror_mode": {
    "name": "ipython",
    "version": 3
   },
   "file_extension": ".py",
   "mimetype": "text/x-python",
   "name": "python",
   "nbconvert_exporter": "python",
   "pygments_lexer": "ipython3",
   "version": "3.10.5"
  },
  "toc-autonumbering": true
 },
 "nbformat": 4,
 "nbformat_minor": 5
}
