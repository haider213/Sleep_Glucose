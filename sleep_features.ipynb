{
 "cells": [
  {
   "cell_type": "markdown",
   "id": "1ee886ca-f6a5-40be-8e79-468176b90d70",
   "metadata": {
    "tags": []
   },
   "source": [
    "# Import relavent libraries"
   ]
  },
  {
   "cell_type": "code",
   "execution_count": 1,
   "id": "8f0956c5-6a82-42d6-977a-348bc8cedcd0",
   "metadata": {
    "tags": []
   },
   "outputs": [],
   "source": [
    "import warnings\n",
    "warnings.filterwarnings(\"ignore\", message=\"numpy.dtype size changed\")\n",
    "warnings.filterwarnings(\"ignore\", message=\"numpy.ufunc size changed\")"
   ]
  },
  {
   "cell_type": "code",
   "execution_count": 6,
   "id": "3bf1b8bf-46e4-4175-bce3-c768452c49c6",
   "metadata": {
    "tags": []
   },
   "outputs": [
    {
     "name": "stdout",
     "output_type": "stream",
     "text": [
      "Requirement already satisfied: numpy in /scale_wlg_persistent/filesets/home/wsf4491/.local/Python-3.9-gimkl-2020a/lib/python3.9/site-packages (2.0.1)\n",
      "\u001b[33mWARNING: You are using pip version 21.1.1; however, version 24.1.2 is available.\n",
      "You should consider upgrading via the '/opt/nesi/CS400_centos7_bdw/Python/3.9.5-gimkl-2020a/bin/python -m pip install --upgrade pip' command.\u001b[0m\n",
      "Note: you may need to restart the kernel to use updated packages.\n"
     ]
    }
   ],
   "source": [
    "pip install numpy --upgrade --user"
   ]
  },
  {
   "cell_type": "code",
   "execution_count": 2,
   "id": "070d1e17-1733-42fe-a790-a10597925d8e",
   "metadata": {
    "tags": []
   },
   "outputs": [],
   "source": [
    "import pandas as pd \n",
    "import glob\n",
    "import numpy as np\n",
    "from sklearn.experimental import enable_iterative_imputer\n",
    "from sklearn.impute import IterativeImputer\n"
   ]
  },
  {
   "cell_type": "code",
   "execution_count": 169,
   "id": "da966b1e-1126-4747-a9c0-5e4b93089230",
   "metadata": {
    "tags": []
   },
   "outputs": [],
   "source": [
    "directory = '/nesi/nobackup/aut03802/dataset_sleep/sleep_classifiers/outputs/features'\n",
    "features_csv = '/nesi/project/aut03802/Data/sleep_plus_features.csv'"
   ]
  },
  {
   "cell_type": "code",
   "execution_count": 170,
   "id": "205dc712-1504-4195-8549-d96ae84249d9",
   "metadata": {
    "tags": []
   },
   "outputs": [
    {
     "data": {
      "text/html": [
       "<div>\n",
       "<style scoped>\n",
       "    .dataframe tbody tr th:only-of-type {\n",
       "        vertical-align: middle;\n",
       "    }\n",
       "\n",
       "    .dataframe tbody tr th {\n",
       "        vertical-align: top;\n",
       "    }\n",
       "\n",
       "    .dataframe thead th {\n",
       "        text-align: right;\n",
       "    }\n",
       "</style>\n",
       "<table border=\"1\" class=\"dataframe\">\n",
       "  <thead>\n",
       "    <tr style=\"text-align: right;\">\n",
       "      <th></th>\n",
       "      <th>ID</th>\n",
       "      <th>Gender</th>\n",
       "      <th>HbA1c</th>\n",
       "    </tr>\n",
       "  </thead>\n",
       "  <tbody>\n",
       "    <tr>\n",
       "      <th>0</th>\n",
       "      <td>13</td>\n",
       "      <td>MALE</td>\n",
       "      <td>5.7</td>\n",
       "    </tr>\n",
       "    <tr>\n",
       "      <th>1</th>\n",
       "      <td>1</td>\n",
       "      <td>FEMALE</td>\n",
       "      <td>5.5</td>\n",
       "    </tr>\n",
       "    <tr>\n",
       "      <th>2</th>\n",
       "      <td>3</td>\n",
       "      <td>FEMALE</td>\n",
       "      <td>5.9</td>\n",
       "    </tr>\n",
       "    <tr>\n",
       "      <th>3</th>\n",
       "      <td>4</td>\n",
       "      <td>FEMALE</td>\n",
       "      <td>6.4</td>\n",
       "    </tr>\n",
       "    <tr>\n",
       "      <th>4</th>\n",
       "      <td>5</td>\n",
       "      <td>FEMALE</td>\n",
       "      <td>5.7</td>\n",
       "    </tr>\n",
       "    <tr>\n",
       "      <th>5</th>\n",
       "      <td>2</td>\n",
       "      <td>MALE</td>\n",
       "      <td>5.6</td>\n",
       "    </tr>\n",
       "    <tr>\n",
       "      <th>6</th>\n",
       "      <td>6</td>\n",
       "      <td>FEMALE</td>\n",
       "      <td>5.8</td>\n",
       "    </tr>\n",
       "    <tr>\n",
       "      <th>7</th>\n",
       "      <td>7</td>\n",
       "      <td>FEMALE</td>\n",
       "      <td>5.3</td>\n",
       "    </tr>\n",
       "    <tr>\n",
       "      <th>8</th>\n",
       "      <td>8</td>\n",
       "      <td>FEMALE</td>\n",
       "      <td>5.6</td>\n",
       "    </tr>\n",
       "    <tr>\n",
       "      <th>9</th>\n",
       "      <td>10</td>\n",
       "      <td>FEMALE</td>\n",
       "      <td>6.0</td>\n",
       "    </tr>\n",
       "    <tr>\n",
       "      <th>10</th>\n",
       "      <td>9</td>\n",
       "      <td>MALE</td>\n",
       "      <td>6.1</td>\n",
       "    </tr>\n",
       "    <tr>\n",
       "      <th>11</th>\n",
       "      <td>11</td>\n",
       "      <td>MALE</td>\n",
       "      <td>6.0</td>\n",
       "    </tr>\n",
       "    <tr>\n",
       "      <th>12</th>\n",
       "      <td>12</td>\n",
       "      <td>MALE</td>\n",
       "      <td>5.6</td>\n",
       "    </tr>\n",
       "    <tr>\n",
       "      <th>13</th>\n",
       "      <td>14</td>\n",
       "      <td>MALE</td>\n",
       "      <td>5.5</td>\n",
       "    </tr>\n",
       "    <tr>\n",
       "      <th>14</th>\n",
       "      <td>15</td>\n",
       "      <td>FEMALE</td>\n",
       "      <td>5.5</td>\n",
       "    </tr>\n",
       "    <tr>\n",
       "      <th>15</th>\n",
       "      <td>16</td>\n",
       "      <td>MALE</td>\n",
       "      <td>5.5</td>\n",
       "    </tr>\n",
       "  </tbody>\n",
       "</table>\n",
       "</div>"
      ],
      "text/plain": [
       "    ID  Gender  HbA1c\n",
       "0   13    MALE    5.7\n",
       "1    1  FEMALE    5.5\n",
       "2    3  FEMALE    5.9\n",
       "3    4  FEMALE    6.4\n",
       "4    5  FEMALE    5.7\n",
       "5    2    MALE    5.6\n",
       "6    6  FEMALE    5.8\n",
       "7    7  FEMALE    5.3\n",
       "8    8  FEMALE    5.6\n",
       "9   10  FEMALE    6.0\n",
       "10   9    MALE    6.1\n",
       "11  11    MALE    6.0\n",
       "12  12    MALE    5.6\n",
       "13  14    MALE    5.5\n",
       "14  15  FEMALE    5.5\n",
       "15  16    MALE    5.5"
      ]
     },
     "execution_count": 170,
     "metadata": {},
     "output_type": "execute_result"
    }
   ],
   "source": [
    "import pandas as pd\n",
    "\n",
    "# Define the data\n",
    "data = {\n",
    "    'ID': [13, 1, 3, 4, 5, 2, 6, 7, 8, 10, 9, 11, 12, 14, 15, 16],\n",
    "    'Gender': ['MALE', 'FEMALE', 'FEMALE', 'FEMALE', 'FEMALE', 'MALE', 'FEMALE', 'FEMALE', 'FEMALE', 'FEMALE', 'MALE', 'MALE', 'MALE', 'MALE', 'FEMALE', 'MALE'],\n",
    "    'HbA1c': [5.7, 5.5, 5.9, 6.4, 5.7, 5.6, 5.8, 5.3, 5.6, 6.0, 6.1, 6.0, 5.6, 5.5, 5.5, 5.5]\n",
    "}\n",
    "\n",
    "# Create the DataFrame\n",
    "df = pd.DataFrame(data)\n",
    "\n",
    "df"
   ]
  },
  {
   "cell_type": "code",
   "execution_count": 171,
   "id": "d77241d7-b4f2-43cb-88ea-cb6a2cca05dd",
   "metadata": {
    "tags": []
   },
   "outputs": [],
   "source": [
    "features_csv ='/nesi/project/aut03802/Data/features.csv'"
   ]
  },
  {
   "cell_type": "code",
   "execution_count": 5,
   "id": "25c8ddad-9259-4871-845c-6bec6dd1e7b7",
   "metadata": {
    "tags": []
   },
   "outputs": [
    {
     "data": {
      "text/plain": [
       "0    36855\n",
       "Name: Gender, dtype: int64"
      ]
     },
     "execution_count": 5,
     "metadata": {},
     "output_type": "execute_result"
    }
   ],
   "source": [
    "features_data = pd.read_csv(features_csv)\n",
    "features_data['Gender'].value_counts()"
   ]
  },
  {
   "cell_type": "code",
   "execution_count": 135,
   "id": "515f6e2e-dedb-42eb-9e67-f614319a7721",
   "metadata": {
    "tags": []
   },
   "outputs": [
    {
     "data": {
      "text/plain": [
       "0.0    28792\n",
       "Name: PeakEDA_2hrsum, dtype: int64"
      ]
     },
     "execution_count": 135,
     "metadata": {},
     "output_type": "execute_result"
    }
   ],
   "source": [
    "features_data['PeakEDA_2hrsum'].value_counts()"
   ]
  },
  {
   "cell_type": "code",
   "execution_count": 4,
   "id": "841056c2-89d6-449a-b401-8cc88b71750c",
   "metadata": {
    "tags": []
   },
   "outputs": [],
   "source": [
    "import os "
   ]
  },
  {
   "cell_type": "code",
   "execution_count": 5,
   "id": "2130f154-ce2e-417f-b78f-7f92fbf858e8",
   "metadata": {
    "tags": []
   },
   "outputs": [],
   "source": [
    "# Function to calculate sleep stage counts\n",
    "def calculate_sleep_stage_counts(file_path):\n",
    "    sleep_data = pd.read_csv(file_path)\n",
    "    stage_counts = sleep_data['psg_predicted'].value_counts().to_dict()\n",
    "    return stage_counts"
   ]
  },
  {
   "cell_type": "code",
   "execution_count": 8,
   "id": "d2ce7d6b-fbf9-401b-9868-285ff748e617",
   "metadata": {
    "tags": []
   },
   "outputs": [],
   "source": [
    "# Initialize a dictionary to hold sleep stage counts for each participant and night\n",
    "sleep_stage_counts = {}\n",
    "\n",
    "# Iterate through files and calculate sleep stage counts\n",
    "for file in os.listdir(directory):\n",
    "    if not file.startswith('participant') and not file.endswith('.out') and 'features' not in file and file.endswith('.csv'):\n",
    "        path_file = os.path.join(directory, file)\n",
    "        participant_id = file.split('_')[0]\n",
    "        night = file.split('_')[2]\n",
    "        counts = calculate_sleep_stage_counts(path_file)\n",
    "        sleep_stage_counts[(participant_id, night)] = counts"
   ]
  },
  {
   "cell_type": "code",
   "execution_count": 15,
   "id": "a7a179eb-15e5-4fa3-92d9-55f03c44ca82",
   "metadata": {
    "tags": []
   },
   "outputs": [
    {
     "data": {
      "text/plain": [
       "{('013', '4'): {2.0: 381, 1.0: 253, 0.0: 153, 5.0: 51, 3.0: 8},\n",
       " ('010', '5'): {2.0: 286, 3.0: 193, 1.0: 182, 0.0: 144, 5.0: 90},\n",
       " ('002', '2'): {1.0: 486, 2.0: 199, 0.0: 100, 5.0: 90, 3.0: 60},\n",
       " ('015', '1'): {1.0: 370, 2.0: 301, 0.0: 132, 5.0: 61, 3.0: 54},\n",
       " ('002', '1'): {1.0: 391, 2.0: 233, 3.0: 131, 0.0: 94, 5.0: 75},\n",
       " ('002', '4'): {2.0: 283, 1.0: 255, 0.0: 139, 3.0: 125, 5.0: 115},\n",
       " ('004', '1'): {1.0: 240, 2.0: 184, 0.0: 100, 5.0: 65, 3.0: 51},\n",
       " ('011', '6'): {0.0: 295, 2.0: 214, 1.0: 213, 3.0: 100, 5.0: 97},\n",
       " ('009', '5'): {0.0: 225, 2.0: 208, 1.0: 203, 5.0: 97, 3.0: 60},\n",
       " ('012', '2'): {1.0: 319, 2.0: 284, 3.0: 123, 0.0: 118, 5.0: 102},\n",
       " ('003', '5'): {1.0: 81, 5.0: 49, 3.0: 27, 2.0: 27, 0.0: 20},\n",
       " ('005', '6'): {2.0: 348, 1.0: 241, 0.0: 182, 5.0: 51, 3.0: 28},\n",
       " ('005', '9'): {2.0: 290, 1.0: 216, 0.0: 149, 3.0: 125, 5.0: 94},\n",
       " ('006', '2'): {1.0: 432, 2.0: 214, 0.0: 127, 5.0: 45, 3.0: 22},\n",
       " ('004', '7'): {2.0: 381, 1.0: 235, 0.0: 200, 5.0: 76, 3.0: 19},\n",
       " ('014', '7'): {1.0: 350, 2.0: 216, 0.0: 126, 3.0: 100, 5.0: 53},\n",
       " ('009', '6'): {2.0: 312, 1.0: 245, 0.0: 149, 3.0: 123, 5.0: 87},\n",
       " ('009', '3'): {1.0: 342, 0.0: 282, 2.0: 176, 3.0: 76, 5.0: 63},\n",
       " ('003', '3'): {1.0: 23, 5.0: 22, 2.0: 9, 0.0: 6, 3.0: 3},\n",
       " ('011', '9'): {1.0: 117, 2.0: 85, 3.0: 22, 0.0: 18, 5.0: 11},\n",
       " ('011', '7'): {1.0: 198, 2.0: 149, 0.0: 79, 5.0: 67, 3.0: 2},\n",
       " ('008', '6'): {1.0: 336, 2.0: 255, 3.0: 124, 0.0: 100, 5.0: 80},\n",
       " ('011', '4'): {1.0: 10, 3.0: 8, 5.0: 8, 2.0: 6, 0.0: 2},\n",
       " ('012', '4'): {1.0: 277, 2.0: 267, 0.0: 165, 5.0: 111, 3.0: 111},\n",
       " ('016', '4'): {1.0: 395, 2.0: 266, 0.0: 146, 5.0: 75, 3.0: 44},\n",
       " ('010', '8'): {1.0: 291, 2.0: 101, 3.0: 84, 0.0: 60, 5.0: 44},\n",
       " ('005', '2'): {2.0: 306, 1.0: 255, 0.0: 157, 3.0: 130, 5.0: 58},\n",
       " ('008', '2'): {1.0: 376, 2.0: 183, 0.0: 154, 5.0: 115, 3.0: 96},\n",
       " ('011', '8'): {1.0: 427, 2.0: 192, 0.0: 130, 5.0: 90, 3.0: 76},\n",
       " ('012', '8'): {2.0: 331, 1.0: 270, 0.0: 179, 3.0: 80, 5.0: 55},\n",
       " ('013', '1'): {2.0: 384, 1.0: 282, 0.0: 178, 5.0: 45, 3.0: 17},\n",
       " ('005', '4'): {2.0: 309, 1.0: 251, 0.0: 159, 3.0: 110, 5.0: 45},\n",
       " ('002', '6'): {1.0: 526, 0.0: 131, 5.0: 111, 2.0: 102, 3.0: 41},\n",
       " ('004', '6'): {1.0: 450, 2.0: 167, 0.0: 121, 3.0: 106, 5.0: 95},\n",
       " ('008', '3'): {2.0: 260, 1.0: 144, 0.0: 103, 5.0: 80, 3.0: 38},\n",
       " ('015', '2'): {1.0: 535, 2.0: 161, 0.0: 131, 5.0: 81, 3.0: 9},\n",
       " ('015', '4'): {1.0: 196, 5.0: 84, 2.0: 70, 0.0: 68, 3.0: 13},\n",
       " ('016', '3'): {1.0: 439, 2.0: 203, 5.0: 98, 0.0: 96, 3.0: 68},\n",
       " ('006', '5'): {1.0: 377, 2.0: 238, 0.0: 131, 5.0: 50, 3.0: 35},\n",
       " ('014', '6'): {2.0: 333, 0.0: 278, 3.0: 99, 1.0: 87, 5.0: 64},\n",
       " ('003', '7'): {2.0: 349, 1.0: 283, 0.0: 173, 3.0: 78, 5.0: 51},\n",
       " ('013', '3'): {2.0: 432, 1.0: 222, 0.0: 180, 3.0: 52, 5.0: 30},\n",
       " ('013', '9'): {1.0: 175, 5.0: 73, 0.0: 41},\n",
       " ('005', '8'): {1.0: 301, 2.0: 260, 3.0: 115, 0.0: 103, 5.0: 79},\n",
       " ('006', '3'): {1.0: 320, 2.0: 287, 0.0: 139, 3.0: 107, 5.0: 77},\n",
       " ('013', '6'): {2.0: 400, 1.0: 280, 0.0: 148, 3.0: 42, 5.0: 41},\n",
       " ('010', '3'): {1.0: 387, 2.0: 173, 0.0: 123, 3.0: 107, 5.0: 74},\n",
       " ('016', '5'): {1.0: 378, 2.0: 270, 0.0: 158, 5.0: 81, 3.0: 49},\n",
       " ('003', '1'): {2.0: 318, 1.0: 291, 0.0: 203, 5.0: 65, 3.0: 53},\n",
       " ('014', '5'): {2.0: 385, 1.0: 276, 0.0: 183, 3.0: 40, 5.0: 39},\n",
       " ('013', '7'): {2.0: 380, 1.0: 339, 0.0: 179, 5.0: 34, 3.0: 8},\n",
       " ('012', '5'): {0.0: 249, 1.0: 224, 5.0: 99, 3.0: 80, 2.0: 76},\n",
       " ('004', '2'): {2.0: 287, 1.0: 282, 0.0: 145, 3.0: 108, 5.0: 87},\n",
       " ('007', '2'): {1.0: 464, 2.0: 169, 0.0: 133, 5.0: 108, 3.0: 67},\n",
       " ('005', '1'): {2.0: 346, 1.0: 253, 0.0: 152, 3.0: 146, 5.0: 39},\n",
       " ('014', '3'): {1.0: 401, 2.0: 173, 0.0: 137, 5.0: 101, 3.0: 57},\n",
       " ('007', '5'): {1.0: 402, 2.0: 186, 5.0: 142, 0.0: 129, 3.0: 87},\n",
       " ('008', '8'): {1.0: 269, 2.0: 128, 5.0: 119, 0.0: 107, 3.0: 89},\n",
       " ('013', '8'): {2.0: 393, 5.0: 219, 0.0: 191, 3.0: 116, 1.0: 7},\n",
       " ('011', '3'): {1.0: 482, 0.0: 135, 3.0: 122, 2.0: 113, 5.0: 85},\n",
       " ('009', '7'): {2.0: 267, 0.0: 224, 1.0: 111, 5.0: 95, 3.0: 76},\n",
       " ('002', '5'): {1.0: 500, 2.0: 151, 0.0: 148, 5.0: 89, 3.0: 53},\n",
       " ('005', '5'): {2.0: 394, 1.0: 239, 0.0: 176, 5.0: 81, 3.0: 57},\n",
       " ('015', '5'): {1.0: 450, 0.0: 193, 5.0: 146, 2.0: 101, 3.0: 27},\n",
       " ('010', '4'): {2.0: 311, 1.0: 264, 3.0: 168, 0.0: 97, 5.0: 68},\n",
       " ('014', '1'): {2.0: 73, 5.0: 48, 1.0: 43, 0.0: 33, 3.0: 27},\n",
       " ('008', '4'): {1.0: 320, 2.0: 266, 3.0: 119, 0.0: 111, 5.0: 102},\n",
       " ('008', '7'): {1.0: 51, 5.0: 49, 2.0: 43, 3.0: 17, 0.0: 11},\n",
       " ('005', '7'): {2.0: 260, 1.0: 230, 0.0: 159, 5.0: 111, 3.0: 77},\n",
       " ('010', '6'): {2.0: 207, 1.0: 192, 3.0: 177, 0.0: 75, 5.0: 45},\n",
       " ('007', '8'): {1.0: 215, 2.0: 205, 0.0: 109, 3.0: 82, 5.0: 53},\n",
       " ('006', '4'): {0.0: 270, 2.0: 234, 1.0: 149, 5.0: 79, 3.0: 65},\n",
       " ('012', '1'): {2.0: 284, 1.0: 254, 0.0: 148, 5.0: 126, 3.0: 121},\n",
       " ('012', '6'): {2.0: 286, 1.0: 210, 3.0: 170, 0.0: 131, 5.0: 91},\n",
       " ('012', '7'): {1.0: 341, 2.0: 260, 0.0: 141, 5.0: 94, 3.0: 83},\n",
       " ('005', '3'): {2.0: 222, 1.0: 194, 0.0: 118, 3.0: 70, 5.0: 43},\n",
       " ('010', '1'): {2.0: 277, 1.0: 254, 3.0: 164, 5.0: 90, 0.0: 88},\n",
       " ('012', '3'): {2.0: 293, 1.0: 216, 0.0: 120, 3.0: 83, 5.0: 78},\n",
       " ('003', '4'): {1.0: 152, 2.0: 87, 0.0: 69, 5.0: 60, 3.0: 48},\n",
       " ('016', '1'): {2.0: 328, 1.0: 291, 0.0: 141, 3.0: 98, 5.0: 63},\n",
       " ('004', '3'): {2.0: 360, 1.0: 241, 0.0: 128, 5.0: 93, 3.0: 45},\n",
       " ('010', '2'): {1.0: 532, 2.0: 120, 0.0: 107, 5.0: 87, 3.0: 72},\n",
       " ('002', '7'): {1.0: 450, 2.0: 139, 0.0: 108, 5.0: 89, 3.0: 28},\n",
       " ('013', '5'): {2.0: 423, 1.0: 257, 0.0: 194, 3.0: 42, 5.0: 24},\n",
       " ('002', '3'): {1.0: 456, 2.0: 171, 0.0: 156, 5.0: 115, 3.0: 33},\n",
       " ('014', '4'): {1.0: 249, 2.0: 192, 0.0: 100, 3.0: 79, 5.0: 71},\n",
       " ('009', '4'): {1.0: 348, 2.0: 242, 0.0: 143, 5.0: 104, 3.0: 92},\n",
       " ('007', '1'): {1.0: 356, 2.0: 261, 0.0: 120, 3.0: 107, 5.0: 71},\n",
       " ('011', '5'): {1.0: 447, 2.0: 180, 0.0: 148, 5.0: 81, 3.0: 55},\n",
       " ('014', '2'): {1.0: 343, 2.0: 239, 0.0: 165, 5.0: 98, 3.0: 75},\n",
       " ('007', '4'): {1.0: 380, 2.0: 227, 0.0: 171, 5.0: 94, 3.0: 49},\n",
       " ('009', '2'): {2.0: 314, 1.0: 302, 0.0: 124, 3.0: 96, 5.0: 83},\n",
       " ('008', '1'): {1.0: 367, 2.0: 188, 5.0: 148, 0.0: 125, 3.0: 125},\n",
       " ('011', '2'): {1.0: 444, 2.0: 188, 0.0: 137, 5.0: 102, 3.0: 41},\n",
       " ('010', '7'): {1.0: 302, 2.0: 192, 3.0: 139, 0.0: 96, 5.0: 16},\n",
       " ('016', '2'): {2.0: 263, 1.0: 89, 3.0: 70, 0.0: 62, 5.0: 41},\n",
       " ('015', '3'): {1.0: 312, 2.0: 301, 0.0: 156, 5.0: 103, 3.0: 62},\n",
       " ('007', '7'): {2.0: 313, 1.0: 288, 0.0: 144, 3.0: 106, 5.0: 78},\n",
       " ('004', '5'): {2.0: 345, 1.0: 274, 0.0: 174, 5.0: 73, 3.0: 7},\n",
       " ('009', '1'): {2.0: 340, 1.0: 262, 0.0: 153, 5.0: 91, 3.0: 85},\n",
       " ('004', '4'): {2.0: 395, 1.0: 296, 0.0: 156, 5.0: 60, 3.0: 30},\n",
       " ('013', '2'): {2.0: 435, 1.0: 227, 0.0: 165, 3.0: 57, 5.0: 46},\n",
       " ('016', '7'): {5.0: 13, 0.0: 12, 1.0: 10, 3.0: 7, 2.0: 4},\n",
       " ('006', '6'): {2.0: 157, 1.0: 153, 5.0: 150, 0.0: 82, 3.0: 34},\n",
       " ('016', '6'): {2.0: 349, 1.0: 317, 0.0: 178, 5.0: 57, 3.0: 40},\n",
       " ('008', '9'): {1.0: 467, 2.0: 164, 0.0: 108, 3.0: 80, 5.0: 78},\n",
       " ('007', '3'): {1.0: 384, 2.0: 210, 3.0: 117, 0.0: 114, 5.0: 93},\n",
       " ('008', '5'): {2.0: 266, 1.0: 254, 3.0: 191, 0.0: 121, 5.0: 95},\n",
       " ('011', '1'): {1.0: 355, 2.0: 209, 0.0: 135, 5.0: 86, 3.0: 78},\n",
       " ('003', '6'): {2.0: 328, 1.0: 318, 0.0: 147, 5.0: 85, 3.0: 56},\n",
       " ('006', '1'): {1.0: 401, 2.0: 211, 0.0: 149, 5.0: 106, 3.0: 81},\n",
       " ('007', '6'): {2.0: 179, 5.0: 178, 1.0: 124, 0.0: 90, 3.0: 61},\n",
       " ('003', '2'): {2.0: 320, 1.0: 268, 0.0: 157, 5.0: 127, 3.0: 59}}"
      ]
     },
     "execution_count": 15,
     "metadata": {},
     "output_type": "execute_result"
    }
   ],
   "source": [
    "sleep_stage_counts"
   ]
  },
  {
   "cell_type": "code",
   "execution_count": 41,
   "id": "2839daef-0d42-4b37-959d-88d43d40d460",
   "metadata": {
    "tags": []
   },
   "outputs": [],
   "source": [
    "def get_sleep_stage_counts(participant, night):\n",
    "    if (participant,night) in sleep_stage_counts:\n",
    "        return sleep_stage_counts[participant, night]\n",
    "    else:\n",
    "        \n",
    "        return {2.0: 0, 1.0: 0, 0.0: 0, 5.0: 0, 3.0: 0}\n",
    "        \n",
    "    \n",
    "    "
   ]
  },
  {
   "cell_type": "code",
   "execution_count": 42,
   "id": "73543a90-a3b3-478d-83df-f210a869099e",
   "metadata": {
    "tags": []
   },
   "outputs": [
    {
     "data": {
      "text/plain": [
       "{2.0: 0, 1.0: 0, 0.0: 0, 5.0: 0, 3.0: 0}"
      ]
     },
     "execution_count": 42,
     "metadata": {},
     "output_type": "execute_result"
    }
   ],
   "source": [
    "get_sleep_stage_counts('003', '10')"
   ]
  },
  {
   "cell_type": "code",
   "execution_count": 44,
   "id": "1cb702a9-9871-48ad-b6cd-86d8e4c6c2a0",
   "metadata": {
    "tags": []
   },
   "outputs": [],
   "source": [
    "for index, row in features_data.iterrows():\n",
    "    day_x = row['day_of_impact']\n",
    "    participant_id = int(row['Participant'])\n",
    "    participant_id = f'{participant_id:03}'\n",
    "    #print(participant_id)\n",
    "    \n",
    "    counts = get_sleep_stage_counts(participant_id, str(day_x))\n",
    "    #print(counts)\n",
    "    if counts:\n",
    "        for stage in range(6):  # Assuming there are 6 stages (adjust as per your data)\n",
    "            col_name = f'stage_{stage}_count'\n",
    "            features_data.at[index, col_name] = counts.get(stage, 0)\n",
    "    else:\n",
    "        # Handle case where no sleep stage counts found for this participant and day_x\n",
    "        continue\n"
   ]
  },
  {
   "cell_type": "code",
   "execution_count": 1,
   "id": "118f75f4-45e9-4b9c-b945-6c9123c77901",
   "metadata": {
    "tags": []
   },
   "outputs": [
    {
     "ename": "NameError",
     "evalue": "name 'features_data' is not defined",
     "output_type": "error",
     "traceback": [
      "\u001b[0;31m---------------------------------------------------------------------------\u001b[0m",
      "\u001b[0;31mNameError\u001b[0m                                 Traceback (most recent call last)",
      "\u001b[0;32m<ipython-input-1-bcdd42aa2f07>\u001b[0m in \u001b[0;36m<module>\u001b[0;34m\u001b[0m\n\u001b[0;32m----> 1\u001b[0;31m \u001b[0mfeatures_data\u001b[0m\u001b[0;34m.\u001b[0m\u001b[0mto_csv\u001b[0m\u001b[0;34m(\u001b[0m\u001b[0;34m'all_sleep.csv'\u001b[0m\u001b[0;34m)\u001b[0m\u001b[0;34m\u001b[0m\u001b[0;34m\u001b[0m\u001b[0m\n\u001b[0m",
      "\u001b[0;31mNameError\u001b[0m: name 'features_data' is not defined"
     ]
    }
   ],
   "source": [
    "features_data.to_csv('all_sleep.csv')"
   ]
  },
  {
   "cell_type": "code",
   "execution_count": 172,
   "id": "adf76ba3-0e22-4aec-8562-8213180dfcf9",
   "metadata": {
    "tags": []
   },
   "outputs": [
    {
     "name": "stdout",
     "output_type": "stream",
     "text": [
      "Total Data: 21765\n",
      "Missing Data: 0\n",
      "Actual Instances of Data: 21765\n"
     ]
    }
   ],
   "source": [
    "df_features=pd.read_csv('all_sleep.csv')\n",
    "print(\"Total Data:\",len(df_features))\n",
    "print(\"Missing Data:\",df_features.isnull().any(axis=1).sum())\n",
    "print(\"Actual Instances of Data:\",len(df_features)-df_features.isnull().any(axis=1).sum())\n",
    "\n",
    "df_features.drop(['Unnamed: 0','Unnamed: 0.1','day_x','day_of_impact','day_y'],axis=1, inplace=True)"
   ]
  },
  {
   "cell_type": "code",
   "execution_count": 94,
   "id": "69f081be-8f23-442b-8d44-effbeba65a32",
   "metadata": {
    "tags": []
   },
   "outputs": [
    {
     "data": {
      "text/plain": [
       "0        0.0\n",
       "1        0.0\n",
       "2        0.0\n",
       "3        0.0\n",
       "4        0.0\n",
       "        ... \n",
       "21760    0.0\n",
       "21761    0.0\n",
       "21762    0.0\n",
       "21763    0.0\n",
       "21764    0.0\n",
       "Name: HbA1c, Length: 21765, dtype: float64"
      ]
     },
     "execution_count": 94,
     "metadata": {},
     "output_type": "execute_result"
    }
   ],
   "source": [
    "df_features['HbA1c']"
   ]
  },
  {
   "cell_type": "code",
   "execution_count": 100,
   "id": "a291ddf7-14c4-4d01-8fd0-f473ce13f0ac",
   "metadata": {
    "tags": []
   },
   "outputs": [
    {
     "data": {
      "text/plain": [
       "0.0    21765\n",
       "Name: Gender, dtype: int64"
      ]
     },
     "execution_count": 100,
     "metadata": {},
     "output_type": "execute_result"
    }
   ],
   "source": [
    "df_features['Gender'].value_counts()"
   ]
  },
  {
   "cell_type": "code",
   "execution_count": 101,
   "id": "dc2ecdaf-6f09-4587-ba18-803459f97d41",
   "metadata": {},
   "outputs": [
    {
     "data": {
      "text/plain": [
       "5.0     2254\n",
       "8.0     2011\n",
       "9.0     1921\n",
       "10.0    1857\n",
       "12.0    1834\n",
       "13.0    1768\n",
       "2.0     1721\n",
       "11.0    1716\n",
       "16.0    1663\n",
       "6.0     1340\n",
       "4.0     1234\n",
       "14.0    1140\n",
       "3.0     1022\n",
       "15.0     284\n",
       "Name: Participant, dtype: int64"
      ]
     },
     "execution_count": 101,
     "metadata": {},
     "output_type": "execute_result"
    }
   ],
   "source": [
    "df_features['Participant'].value_counts()"
   ]
  },
  {
   "cell_type": "code",
   "execution_count": 173,
   "id": "58df5c05-aa75-4bd1-a3c3-aaa936f49b04",
   "metadata": {
    "tags": []
   },
   "outputs": [],
   "source": [
    "df_features = df_features.merge(df[['ID', 'Gender']], left_on='Participant', right_on='ID', how='left')"
   ]
  },
  {
   "cell_type": "code",
   "execution_count": 67,
   "id": "20303039-1442-490c-832f-f7e0b4bd748f",
   "metadata": {
    "tags": []
   },
   "outputs": [
    {
     "data": {
      "text/plain": [
       "0        MALE\n",
       "1        MALE\n",
       "2        MALE\n",
       "3        MALE\n",
       "4        MALE\n",
       "         ... \n",
       "21760    MALE\n",
       "21761    MALE\n",
       "21762    MALE\n",
       "21763    MALE\n",
       "21764    MALE\n",
       "Name: Gender_y, Length: 21765, dtype: object"
      ]
     },
     "execution_count": 67,
     "metadata": {},
     "output_type": "execute_result"
    }
   ],
   "source": [
    "df_features['Gender_y']"
   ]
  },
  {
   "cell_type": "code",
   "execution_count": 69,
   "id": "cd6aae3d-09b3-4e2e-bde5-bfde4d41ccc7",
   "metadata": {
    "tags": []
   },
   "outputs": [
    {
     "data": {
      "text/plain": [
       "0        0.0\n",
       "1        0.0\n",
       "2        0.0\n",
       "3        0.0\n",
       "4        0.0\n",
       "        ... \n",
       "21760    0.0\n",
       "21761    0.0\n",
       "21762    0.0\n",
       "21763    0.0\n",
       "21764    0.0\n",
       "Name: Gender_x, Length: 21765, dtype: float64"
      ]
     },
     "execution_count": 69,
     "metadata": {},
     "output_type": "execute_result"
    }
   ],
   "source": [
    "df_features['Gender_x']"
   ]
  },
  {
   "cell_type": "code",
   "execution_count": 174,
   "id": "e102d28e-c897-431f-99a2-f55352675c19",
   "metadata": {
    "tags": []
   },
   "outputs": [],
   "source": [
    "df_features = df_features.merge(df[['ID', 'HbA1c']], left_on='Participant', right_on='ID', how='left')"
   ]
  },
  {
   "cell_type": "code",
   "execution_count": 175,
   "id": "d3e90cae-4f46-4212-ac76-4894a59f6cf3",
   "metadata": {
    "tags": []
   },
   "outputs": [],
   "source": [
    "df_features = df_features.drop('HbA1c_x', axis=1)"
   ]
  },
  {
   "cell_type": "code",
   "execution_count": 176,
   "id": "27532526-6c91-472e-8b5d-63b921275642",
   "metadata": {
    "tags": []
   },
   "outputs": [],
   "source": [
    "df_features = df_features.drop('Gender_x', axis=1)"
   ]
  },
  {
   "cell_type": "code",
   "execution_count": 177,
   "id": "91c2734f-0291-4ee8-b253-a8ea124e8cf5",
   "metadata": {
    "tags": []
   },
   "outputs": [],
   "source": [
    "df_features = df_features.drop('ID_x', axis=1)"
   ]
  },
  {
   "cell_type": "code",
   "execution_count": 178,
   "id": "b454676b-5482-4ee7-9829-2dd899140778",
   "metadata": {
    "tags": []
   },
   "outputs": [],
   "source": [
    "df_features=df_features.drop('ID_y', axis=1)"
   ]
  },
  {
   "cell_type": "code",
   "execution_count": 179,
   "id": "916f659f-5a18-4ec1-9331-b524689b56e0",
   "metadata": {
    "tags": []
   },
   "outputs": [],
   "source": [
    "df_features=df_features.rename(columns={\"Gender_y\": \"Gender\", \"HbA1c_y\": \"HbA1c\"})"
   ]
  },
  {
   "cell_type": "code",
   "execution_count": 180,
   "id": "9b30137f-7145-4c7d-8441-0b81334bf978",
   "metadata": {
    "tags": []
   },
   "outputs": [],
   "source": [
    "zero_cols=['PeakEDA_2hrsum',\n",
    " 'PeakEDA_2hrmean',\n",
    " 'meanHRV',\n",
    " 'calories8r',\n",
    " 'WakeTime',\n",
    " 'Wake_Time',\n",
    " 'stage_4_count']\n",
    "for col in zero_cols:\n",
    "    df_features=df_features.drop(col, axis=1)\n",
    "    "
   ]
  },
  {
   "cell_type": "code",
   "execution_count": 130,
   "id": "e3fd8416-d7ad-45e0-8aee-da53062d9d41",
   "metadata": {},
   "outputs": [],
   "source": [
    "#df_features_IG=df_features.drop('IG',axis=1)"
   ]
  },
  {
   "cell_type": "code",
   "execution_count": 181,
   "id": "91532695-5027-46f3-9181-fe86ec7906a9",
   "metadata": {
    "tags": []
   },
   "outputs": [
    {
     "name": "stdout",
     "output_type": "stream",
     "text": [
      "Total Data: 21765\n",
      "Missing Data: 0\n",
      "Actual Instances of Data: 21765\n"
     ]
    }
   ],
   "source": [
    "print(\"Total Data:\",len(df_features))\n",
    "print(\"Missing Data:\",df_features.isnull().any(axis=1).sum())\n",
    "print(\"Actual Instances of Data:\",len(df_features)-df_features.isnull().any(axis=1).sum())"
   ]
  },
  {
   "cell_type": "code",
   "execution_count": 12,
   "id": "2b27eced-b0b5-4707-9226-22a6c9319b82",
   "metadata": {
    "tags": []
   },
   "outputs": [
    {
     "name": "stdout",
     "output_type": "stream",
     "text": [
      "Rows with all stage counts as zero: 1915\n"
     ]
    }
   ],
   "source": [
    "# Identify rows where all specified columns have a value of zero\n",
    "zero_stages = (df_features[['stage_0_count', 'stage_1_count', 'stage_2_count', \n",
    "                            'stage_3_count', 'stage_4_count', 'stage_5_count']] == 0).all(axis=1)\n",
    "\n",
    "# Display the number of rows that match the condition\n",
    "print(\"Rows with all stage counts as zero:\", zero_stages.sum())"
   ]
  },
  {
   "cell_type": "code",
   "execution_count": 183,
   "id": "f320a460-80cd-4c12-b31d-f79ad4ca1196",
   "metadata": {
    "tags": []
   },
   "outputs": [
    {
     "data": {
      "text/html": [
       "<div>\n",
       "<style scoped>\n",
       "    .dataframe tbody tr th:only-of-type {\n",
       "        vertical-align: middle;\n",
       "    }\n",
       "\n",
       "    .dataframe tbody tr th {\n",
       "        vertical-align: top;\n",
       "    }\n",
       "\n",
       "    .dataframe thead th {\n",
       "        text-align: right;\n",
       "    }\n",
       "</style>\n",
       "<table border=\"1\" class=\"dataframe\">\n",
       "  <thead>\n",
       "    <tr style=\"text-align: right;\">\n",
       "      <th></th>\n",
       "      <th>Time</th>\n",
       "      <th>IG</th>\n",
       "      <th>Participant</th>\n",
       "      <th>HR_Mean</th>\n",
       "      <th>HR_Max</th>\n",
       "      <th>HR_Std</th>\n",
       "      <th>HR_Skew</th>\n",
       "      <th>HR_Q1G</th>\n",
       "      <th>HR_Q3G</th>\n",
       "      <th>EDA_Mean</th>\n",
       "      <th>...</th>\n",
       "      <th>waso</th>\n",
       "      <th>sleep_onset_latency</th>\n",
       "      <th>number_wake_bouts</th>\n",
       "      <th>stage_0_count</th>\n",
       "      <th>stage_1_count</th>\n",
       "      <th>stage_2_count</th>\n",
       "      <th>stage_3_count</th>\n",
       "      <th>stage_5_count</th>\n",
       "      <th>Gender</th>\n",
       "      <th>HbA1c</th>\n",
       "    </tr>\n",
       "  </thead>\n",
       "  <tbody>\n",
       "    <tr>\n",
       "      <th>0</th>\n",
       "      <td>2020-07-17 00:03:24</td>\n",
       "      <td>97.0</td>\n",
       "      <td>16.0</td>\n",
       "      <td>73.225681</td>\n",
       "      <td>73.57</td>\n",
       "      <td>0.234825</td>\n",
       "      <td>-0.862047</td>\n",
       "      <td>73.108174</td>\n",
       "      <td>73.313689</td>\n",
       "      <td>0.301333</td>\n",
       "      <td>...</td>\n",
       "      <td>838.0</td>\n",
       "      <td>22.0</td>\n",
       "      <td>36.0</td>\n",
       "      <td>62.0</td>\n",
       "      <td>89.0</td>\n",
       "      <td>263.0</td>\n",
       "      <td>70.0</td>\n",
       "      <td>41.0</td>\n",
       "      <td>MALE</td>\n",
       "      <td>5.5</td>\n",
       "    </tr>\n",
       "    <tr>\n",
       "      <th>1</th>\n",
       "      <td>2020-07-17 00:08:23</td>\n",
       "      <td>95.0</td>\n",
       "      <td>16.0</td>\n",
       "      <td>72.758239</td>\n",
       "      <td>73.57</td>\n",
       "      <td>0.351658</td>\n",
       "      <td>0.620606</td>\n",
       "      <td>72.608911</td>\n",
       "      <td>72.921836</td>\n",
       "      <td>0.359451</td>\n",
       "      <td>...</td>\n",
       "      <td>838.0</td>\n",
       "      <td>22.0</td>\n",
       "      <td>36.0</td>\n",
       "      <td>62.0</td>\n",
       "      <td>89.0</td>\n",
       "      <td>263.0</td>\n",
       "      <td>70.0</td>\n",
       "      <td>41.0</td>\n",
       "      <td>MALE</td>\n",
       "      <td>5.5</td>\n",
       "    </tr>\n",
       "    <tr>\n",
       "      <th>2</th>\n",
       "      <td>2020-07-17 00:13:24</td>\n",
       "      <td>92.0</td>\n",
       "      <td>16.0</td>\n",
       "      <td>73.699934</td>\n",
       "      <td>75.07</td>\n",
       "      <td>0.628637</td>\n",
       "      <td>-0.038853</td>\n",
       "      <td>73.416714</td>\n",
       "      <td>73.968872</td>\n",
       "      <td>0.423380</td>\n",
       "      <td>...</td>\n",
       "      <td>838.0</td>\n",
       "      <td>22.0</td>\n",
       "      <td>36.0</td>\n",
       "      <td>62.0</td>\n",
       "      <td>89.0</td>\n",
       "      <td>263.0</td>\n",
       "      <td>70.0</td>\n",
       "      <td>41.0</td>\n",
       "      <td>MALE</td>\n",
       "      <td>5.5</td>\n",
       "    </tr>\n",
       "    <tr>\n",
       "      <th>3</th>\n",
       "      <td>2020-07-17 00:18:24</td>\n",
       "      <td>89.0</td>\n",
       "      <td>16.0</td>\n",
       "      <td>73.565316</td>\n",
       "      <td>77.47</td>\n",
       "      <td>2.043241</td>\n",
       "      <td>0.121869</td>\n",
       "      <td>72.647048</td>\n",
       "      <td>74.517301</td>\n",
       "      <td>0.481480</td>\n",
       "      <td>...</td>\n",
       "      <td>838.0</td>\n",
       "      <td>22.0</td>\n",
       "      <td>36.0</td>\n",
       "      <td>62.0</td>\n",
       "      <td>89.0</td>\n",
       "      <td>263.0</td>\n",
       "      <td>70.0</td>\n",
       "      <td>41.0</td>\n",
       "      <td>MALE</td>\n",
       "      <td>5.5</td>\n",
       "    </tr>\n",
       "    <tr>\n",
       "      <th>4</th>\n",
       "      <td>2020-07-17 00:23:24</td>\n",
       "      <td>90.0</td>\n",
       "      <td>16.0</td>\n",
       "      <td>75.144385</td>\n",
       "      <td>80.30</td>\n",
       "      <td>2.978029</td>\n",
       "      <td>0.467569</td>\n",
       "      <td>73.879337</td>\n",
       "      <td>76.672485</td>\n",
       "      <td>1.854490</td>\n",
       "      <td>...</td>\n",
       "      <td>838.0</td>\n",
       "      <td>22.0</td>\n",
       "      <td>36.0</td>\n",
       "      <td>62.0</td>\n",
       "      <td>89.0</td>\n",
       "      <td>263.0</td>\n",
       "      <td>70.0</td>\n",
       "      <td>41.0</td>\n",
       "      <td>MALE</td>\n",
       "      <td>5.5</td>\n",
       "    </tr>\n",
       "    <tr>\n",
       "      <th>...</th>\n",
       "      <td>...</td>\n",
       "      <td>...</td>\n",
       "      <td>...</td>\n",
       "      <td>...</td>\n",
       "      <td>...</td>\n",
       "      <td>...</td>\n",
       "      <td>...</td>\n",
       "      <td>...</td>\n",
       "      <td>...</td>\n",
       "      <td>...</td>\n",
       "      <td>...</td>\n",
       "      <td>...</td>\n",
       "      <td>...</td>\n",
       "      <td>...</td>\n",
       "      <td>...</td>\n",
       "      <td>...</td>\n",
       "      <td>...</td>\n",
       "      <td>...</td>\n",
       "      <td>...</td>\n",
       "      <td>...</td>\n",
       "      <td>...</td>\n",
       "    </tr>\n",
       "    <tr>\n",
       "      <th>21760</th>\n",
       "      <td>2020-02-29 09:13:25</td>\n",
       "      <td>181.0</td>\n",
       "      <td>2.0</td>\n",
       "      <td>85.898538</td>\n",
       "      <td>88.55</td>\n",
       "      <td>1.808236</td>\n",
       "      <td>-0.842159</td>\n",
       "      <td>84.978402</td>\n",
       "      <td>86.595798</td>\n",
       "      <td>0.530921</td>\n",
       "      <td>...</td>\n",
       "      <td>187.0</td>\n",
       "      <td>253.0</td>\n",
       "      <td>20.0</td>\n",
       "      <td>0.0</td>\n",
       "      <td>0.0</td>\n",
       "      <td>0.0</td>\n",
       "      <td>0.0</td>\n",
       "      <td>0.0</td>\n",
       "      <td>MALE</td>\n",
       "      <td>5.6</td>\n",
       "    </tr>\n",
       "    <tr>\n",
       "      <th>21761</th>\n",
       "      <td>2020-02-29 09:18:25</td>\n",
       "      <td>177.0</td>\n",
       "      <td>2.0</td>\n",
       "      <td>82.445449</td>\n",
       "      <td>86.57</td>\n",
       "      <td>2.433794</td>\n",
       "      <td>-0.729108</td>\n",
       "      <td>81.244232</td>\n",
       "      <td>83.365709</td>\n",
       "      <td>0.515155</td>\n",
       "      <td>...</td>\n",
       "      <td>187.0</td>\n",
       "      <td>253.0</td>\n",
       "      <td>20.0</td>\n",
       "      <td>0.0</td>\n",
       "      <td>0.0</td>\n",
       "      <td>0.0</td>\n",
       "      <td>0.0</td>\n",
       "      <td>0.0</td>\n",
       "      <td>MALE</td>\n",
       "      <td>5.6</td>\n",
       "    </tr>\n",
       "    <tr>\n",
       "      <th>21762</th>\n",
       "      <td>2020-02-29 09:23:24</td>\n",
       "      <td>171.0</td>\n",
       "      <td>2.0</td>\n",
       "      <td>84.667375</td>\n",
       "      <td>87.22</td>\n",
       "      <td>1.835218</td>\n",
       "      <td>-0.553606</td>\n",
       "      <td>83.805195</td>\n",
       "      <td>85.447387</td>\n",
       "      <td>0.511280</td>\n",
       "      <td>...</td>\n",
       "      <td>187.0</td>\n",
       "      <td>253.0</td>\n",
       "      <td>20.0</td>\n",
       "      <td>0.0</td>\n",
       "      <td>0.0</td>\n",
       "      <td>0.0</td>\n",
       "      <td>0.0</td>\n",
       "      <td>0.0</td>\n",
       "      <td>MALE</td>\n",
       "      <td>5.6</td>\n",
       "    </tr>\n",
       "    <tr>\n",
       "      <th>21763</th>\n",
       "      <td>2020-02-29 09:28:24</td>\n",
       "      <td>166.0</td>\n",
       "      <td>2.0</td>\n",
       "      <td>86.173621</td>\n",
       "      <td>87.45</td>\n",
       "      <td>0.689601</td>\n",
       "      <td>-1.170720</td>\n",
       "      <td>85.873365</td>\n",
       "      <td>86.427853</td>\n",
       "      <td>0.509617</td>\n",
       "      <td>...</td>\n",
       "      <td>187.0</td>\n",
       "      <td>253.0</td>\n",
       "      <td>20.0</td>\n",
       "      <td>0.0</td>\n",
       "      <td>0.0</td>\n",
       "      <td>0.0</td>\n",
       "      <td>0.0</td>\n",
       "      <td>0.0</td>\n",
       "      <td>MALE</td>\n",
       "      <td>5.6</td>\n",
       "    </tr>\n",
       "    <tr>\n",
       "      <th>21764</th>\n",
       "      <td>2020-02-29 09:33:24</td>\n",
       "      <td>163.0</td>\n",
       "      <td>2.0</td>\n",
       "      <td>85.970698</td>\n",
       "      <td>92.77</td>\n",
       "      <td>2.603373</td>\n",
       "      <td>1.245301</td>\n",
       "      <td>85.027960</td>\n",
       "      <td>87.309510</td>\n",
       "      <td>0.494071</td>\n",
       "      <td>...</td>\n",
       "      <td>187.0</td>\n",
       "      <td>253.0</td>\n",
       "      <td>20.0</td>\n",
       "      <td>0.0</td>\n",
       "      <td>0.0</td>\n",
       "      <td>0.0</td>\n",
       "      <td>0.0</td>\n",
       "      <td>0.0</td>\n",
       "      <td>MALE</td>\n",
       "      <td>5.6</td>\n",
       "    </tr>\n",
       "  </tbody>\n",
       "</table>\n",
       "<p>21765 rows × 90 columns</p>\n",
       "</div>"
      ],
      "text/plain": [
       "                      Time     IG  Participant    HR_Mean  HR_Max    HR_Std  \\\n",
       "0      2020-07-17 00:03:24   97.0         16.0  73.225681   73.57  0.234825   \n",
       "1      2020-07-17 00:08:23   95.0         16.0  72.758239   73.57  0.351658   \n",
       "2      2020-07-17 00:13:24   92.0         16.0  73.699934   75.07  0.628637   \n",
       "3      2020-07-17 00:18:24   89.0         16.0  73.565316   77.47  2.043241   \n",
       "4      2020-07-17 00:23:24   90.0         16.0  75.144385   80.30  2.978029   \n",
       "...                    ...    ...          ...        ...     ...       ...   \n",
       "21760  2020-02-29 09:13:25  181.0          2.0  85.898538   88.55  1.808236   \n",
       "21761  2020-02-29 09:18:25  177.0          2.0  82.445449   86.57  2.433794   \n",
       "21762  2020-02-29 09:23:24  171.0          2.0  84.667375   87.22  1.835218   \n",
       "21763  2020-02-29 09:28:24  166.0          2.0  86.173621   87.45  0.689601   \n",
       "21764  2020-02-29 09:33:24  163.0          2.0  85.970698   92.77  2.603373   \n",
       "\n",
       "        HR_Skew     HR_Q1G     HR_Q3G  EDA_Mean  ...   waso  \\\n",
       "0     -0.862047  73.108174  73.313689  0.301333  ...  838.0   \n",
       "1      0.620606  72.608911  72.921836  0.359451  ...  838.0   \n",
       "2     -0.038853  73.416714  73.968872  0.423380  ...  838.0   \n",
       "3      0.121869  72.647048  74.517301  0.481480  ...  838.0   \n",
       "4      0.467569  73.879337  76.672485  1.854490  ...  838.0   \n",
       "...         ...        ...        ...       ...  ...    ...   \n",
       "21760 -0.842159  84.978402  86.595798  0.530921  ...  187.0   \n",
       "21761 -0.729108  81.244232  83.365709  0.515155  ...  187.0   \n",
       "21762 -0.553606  83.805195  85.447387  0.511280  ...  187.0   \n",
       "21763 -1.170720  85.873365  86.427853  0.509617  ...  187.0   \n",
       "21764  1.245301  85.027960  87.309510  0.494071  ...  187.0   \n",
       "\n",
       "       sleep_onset_latency  number_wake_bouts  stage_0_count  stage_1_count  \\\n",
       "0                     22.0               36.0           62.0           89.0   \n",
       "1                     22.0               36.0           62.0           89.0   \n",
       "2                     22.0               36.0           62.0           89.0   \n",
       "3                     22.0               36.0           62.0           89.0   \n",
       "4                     22.0               36.0           62.0           89.0   \n",
       "...                    ...                ...            ...            ...   \n",
       "21760                253.0               20.0            0.0            0.0   \n",
       "21761                253.0               20.0            0.0            0.0   \n",
       "21762                253.0               20.0            0.0            0.0   \n",
       "21763                253.0               20.0            0.0            0.0   \n",
       "21764                253.0               20.0            0.0            0.0   \n",
       "\n",
       "       stage_2_count  stage_3_count  stage_5_count  Gender  HbA1c  \n",
       "0              263.0           70.0           41.0    MALE    5.5  \n",
       "1              263.0           70.0           41.0    MALE    5.5  \n",
       "2              263.0           70.0           41.0    MALE    5.5  \n",
       "3              263.0           70.0           41.0    MALE    5.5  \n",
       "4              263.0           70.0           41.0    MALE    5.5  \n",
       "...              ...            ...            ...     ...    ...  \n",
       "21760            0.0            0.0            0.0    MALE    5.6  \n",
       "21761            0.0            0.0            0.0    MALE    5.6  \n",
       "21762            0.0            0.0            0.0    MALE    5.6  \n",
       "21763            0.0            0.0            0.0    MALE    5.6  \n",
       "21764            0.0            0.0            0.0    MALE    5.6  \n",
       "\n",
       "[21765 rows x 90 columns]"
      ]
     },
     "execution_count": 183,
     "metadata": {},
     "output_type": "execute_result"
    }
   ],
   "source": [
    "df_features"
   ]
  },
  {
   "cell_type": "code",
   "execution_count": 94,
   "id": "cc2d8da4-145b-4224-858b-d231cdaabf72",
   "metadata": {
    "tags": []
   },
   "outputs": [
    {
     "data": {
      "text/plain": [
       "0.0    21765\n",
       "Name: stage_4_count, dtype: int64"
      ]
     },
     "execution_count": 94,
     "metadata": {},
     "output_type": "execute_result"
    }
   ],
   "source": [
    "df_features['stage_4_count'].value_counts()"
   ]
  },
  {
   "cell_type": "code",
   "execution_count": 184,
   "id": "66ad84d3-0876-4481-9770-1fd911926837",
   "metadata": {
    "tags": []
   },
   "outputs": [
    {
     "data": {
      "text/html": [
       "<div>\n",
       "<style scoped>\n",
       "    .dataframe tbody tr th:only-of-type {\n",
       "        vertical-align: middle;\n",
       "    }\n",
       "\n",
       "    .dataframe tbody tr th {\n",
       "        vertical-align: top;\n",
       "    }\n",
       "\n",
       "    .dataframe thead th {\n",
       "        text-align: right;\n",
       "    }\n",
       "</style>\n",
       "<table border=\"1\" class=\"dataframe\">\n",
       "  <thead>\n",
       "    <tr style=\"text-align: right;\">\n",
       "      <th></th>\n",
       "      <th>Time</th>\n",
       "      <th>IG</th>\n",
       "      <th>Participant</th>\n",
       "      <th>HR_Mean</th>\n",
       "      <th>HR_Max</th>\n",
       "      <th>HR_Std</th>\n",
       "      <th>HR_Skew</th>\n",
       "      <th>HR_Q1G</th>\n",
       "      <th>HR_Q3G</th>\n",
       "      <th>EDA_Mean</th>\n",
       "      <th>...</th>\n",
       "      <th>waso</th>\n",
       "      <th>sleep_onset_latency</th>\n",
       "      <th>number_wake_bouts</th>\n",
       "      <th>stage_0_count</th>\n",
       "      <th>stage_1_count</th>\n",
       "      <th>stage_2_count</th>\n",
       "      <th>stage_3_count</th>\n",
       "      <th>stage_5_count</th>\n",
       "      <th>Gender</th>\n",
       "      <th>HbA1c</th>\n",
       "    </tr>\n",
       "  </thead>\n",
       "  <tbody>\n",
       "    <tr>\n",
       "      <th>0</th>\n",
       "      <td>2020-07-17 00:03:24</td>\n",
       "      <td>97.0</td>\n",
       "      <td>16.0</td>\n",
       "      <td>73.225681</td>\n",
       "      <td>73.57</td>\n",
       "      <td>0.234825</td>\n",
       "      <td>-0.862047</td>\n",
       "      <td>73.108174</td>\n",
       "      <td>73.313689</td>\n",
       "      <td>0.301333</td>\n",
       "      <td>...</td>\n",
       "      <td>838.0</td>\n",
       "      <td>22.0</td>\n",
       "      <td>36.0</td>\n",
       "      <td>62.0</td>\n",
       "      <td>89.0</td>\n",
       "      <td>263.0</td>\n",
       "      <td>70.0</td>\n",
       "      <td>41.0</td>\n",
       "      <td>MALE</td>\n",
       "      <td>5.5</td>\n",
       "    </tr>\n",
       "    <tr>\n",
       "      <th>1</th>\n",
       "      <td>2020-07-17 00:08:23</td>\n",
       "      <td>95.0</td>\n",
       "      <td>16.0</td>\n",
       "      <td>72.758239</td>\n",
       "      <td>73.57</td>\n",
       "      <td>0.351658</td>\n",
       "      <td>0.620606</td>\n",
       "      <td>72.608911</td>\n",
       "      <td>72.921836</td>\n",
       "      <td>0.359451</td>\n",
       "      <td>...</td>\n",
       "      <td>838.0</td>\n",
       "      <td>22.0</td>\n",
       "      <td>36.0</td>\n",
       "      <td>62.0</td>\n",
       "      <td>89.0</td>\n",
       "      <td>263.0</td>\n",
       "      <td>70.0</td>\n",
       "      <td>41.0</td>\n",
       "      <td>MALE</td>\n",
       "      <td>5.5</td>\n",
       "    </tr>\n",
       "    <tr>\n",
       "      <th>2</th>\n",
       "      <td>2020-07-17 00:13:24</td>\n",
       "      <td>92.0</td>\n",
       "      <td>16.0</td>\n",
       "      <td>73.699934</td>\n",
       "      <td>75.07</td>\n",
       "      <td>0.628637</td>\n",
       "      <td>-0.038853</td>\n",
       "      <td>73.416714</td>\n",
       "      <td>73.968872</td>\n",
       "      <td>0.423380</td>\n",
       "      <td>...</td>\n",
       "      <td>838.0</td>\n",
       "      <td>22.0</td>\n",
       "      <td>36.0</td>\n",
       "      <td>62.0</td>\n",
       "      <td>89.0</td>\n",
       "      <td>263.0</td>\n",
       "      <td>70.0</td>\n",
       "      <td>41.0</td>\n",
       "      <td>MALE</td>\n",
       "      <td>5.5</td>\n",
       "    </tr>\n",
       "    <tr>\n",
       "      <th>3</th>\n",
       "      <td>2020-07-17 00:18:24</td>\n",
       "      <td>89.0</td>\n",
       "      <td>16.0</td>\n",
       "      <td>73.565316</td>\n",
       "      <td>77.47</td>\n",
       "      <td>2.043241</td>\n",
       "      <td>0.121869</td>\n",
       "      <td>72.647048</td>\n",
       "      <td>74.517301</td>\n",
       "      <td>0.481480</td>\n",
       "      <td>...</td>\n",
       "      <td>838.0</td>\n",
       "      <td>22.0</td>\n",
       "      <td>36.0</td>\n",
       "      <td>62.0</td>\n",
       "      <td>89.0</td>\n",
       "      <td>263.0</td>\n",
       "      <td>70.0</td>\n",
       "      <td>41.0</td>\n",
       "      <td>MALE</td>\n",
       "      <td>5.5</td>\n",
       "    </tr>\n",
       "    <tr>\n",
       "      <th>4</th>\n",
       "      <td>2020-07-17 00:23:24</td>\n",
       "      <td>90.0</td>\n",
       "      <td>16.0</td>\n",
       "      <td>75.144385</td>\n",
       "      <td>80.30</td>\n",
       "      <td>2.978029</td>\n",
       "      <td>0.467569</td>\n",
       "      <td>73.879337</td>\n",
       "      <td>76.672485</td>\n",
       "      <td>1.854490</td>\n",
       "      <td>...</td>\n",
       "      <td>838.0</td>\n",
       "      <td>22.0</td>\n",
       "      <td>36.0</td>\n",
       "      <td>62.0</td>\n",
       "      <td>89.0</td>\n",
       "      <td>263.0</td>\n",
       "      <td>70.0</td>\n",
       "      <td>41.0</td>\n",
       "      <td>MALE</td>\n",
       "      <td>5.5</td>\n",
       "    </tr>\n",
       "    <tr>\n",
       "      <th>...</th>\n",
       "      <td>...</td>\n",
       "      <td>...</td>\n",
       "      <td>...</td>\n",
       "      <td>...</td>\n",
       "      <td>...</td>\n",
       "      <td>...</td>\n",
       "      <td>...</td>\n",
       "      <td>...</td>\n",
       "      <td>...</td>\n",
       "      <td>...</td>\n",
       "      <td>...</td>\n",
       "      <td>...</td>\n",
       "      <td>...</td>\n",
       "      <td>...</td>\n",
       "      <td>...</td>\n",
       "      <td>...</td>\n",
       "      <td>...</td>\n",
       "      <td>...</td>\n",
       "      <td>...</td>\n",
       "      <td>...</td>\n",
       "      <td>...</td>\n",
       "    </tr>\n",
       "    <tr>\n",
       "      <th>21760</th>\n",
       "      <td>2020-02-29 09:13:25</td>\n",
       "      <td>181.0</td>\n",
       "      <td>2.0</td>\n",
       "      <td>85.898538</td>\n",
       "      <td>88.55</td>\n",
       "      <td>1.808236</td>\n",
       "      <td>-0.842159</td>\n",
       "      <td>84.978402</td>\n",
       "      <td>86.595798</td>\n",
       "      <td>0.530921</td>\n",
       "      <td>...</td>\n",
       "      <td>187.0</td>\n",
       "      <td>253.0</td>\n",
       "      <td>20.0</td>\n",
       "      <td>NaN</td>\n",
       "      <td>NaN</td>\n",
       "      <td>NaN</td>\n",
       "      <td>NaN</td>\n",
       "      <td>NaN</td>\n",
       "      <td>MALE</td>\n",
       "      <td>5.6</td>\n",
       "    </tr>\n",
       "    <tr>\n",
       "      <th>21761</th>\n",
       "      <td>2020-02-29 09:18:25</td>\n",
       "      <td>177.0</td>\n",
       "      <td>2.0</td>\n",
       "      <td>82.445449</td>\n",
       "      <td>86.57</td>\n",
       "      <td>2.433794</td>\n",
       "      <td>-0.729108</td>\n",
       "      <td>81.244232</td>\n",
       "      <td>83.365709</td>\n",
       "      <td>0.515155</td>\n",
       "      <td>...</td>\n",
       "      <td>187.0</td>\n",
       "      <td>253.0</td>\n",
       "      <td>20.0</td>\n",
       "      <td>NaN</td>\n",
       "      <td>NaN</td>\n",
       "      <td>NaN</td>\n",
       "      <td>NaN</td>\n",
       "      <td>NaN</td>\n",
       "      <td>MALE</td>\n",
       "      <td>5.6</td>\n",
       "    </tr>\n",
       "    <tr>\n",
       "      <th>21762</th>\n",
       "      <td>2020-02-29 09:23:24</td>\n",
       "      <td>171.0</td>\n",
       "      <td>2.0</td>\n",
       "      <td>84.667375</td>\n",
       "      <td>87.22</td>\n",
       "      <td>1.835218</td>\n",
       "      <td>-0.553606</td>\n",
       "      <td>83.805195</td>\n",
       "      <td>85.447387</td>\n",
       "      <td>0.511280</td>\n",
       "      <td>...</td>\n",
       "      <td>187.0</td>\n",
       "      <td>253.0</td>\n",
       "      <td>20.0</td>\n",
       "      <td>NaN</td>\n",
       "      <td>NaN</td>\n",
       "      <td>NaN</td>\n",
       "      <td>NaN</td>\n",
       "      <td>NaN</td>\n",
       "      <td>MALE</td>\n",
       "      <td>5.6</td>\n",
       "    </tr>\n",
       "    <tr>\n",
       "      <th>21763</th>\n",
       "      <td>2020-02-29 09:28:24</td>\n",
       "      <td>166.0</td>\n",
       "      <td>2.0</td>\n",
       "      <td>86.173621</td>\n",
       "      <td>87.45</td>\n",
       "      <td>0.689601</td>\n",
       "      <td>-1.170720</td>\n",
       "      <td>85.873365</td>\n",
       "      <td>86.427853</td>\n",
       "      <td>0.509617</td>\n",
       "      <td>...</td>\n",
       "      <td>187.0</td>\n",
       "      <td>253.0</td>\n",
       "      <td>20.0</td>\n",
       "      <td>NaN</td>\n",
       "      <td>NaN</td>\n",
       "      <td>NaN</td>\n",
       "      <td>NaN</td>\n",
       "      <td>NaN</td>\n",
       "      <td>MALE</td>\n",
       "      <td>5.6</td>\n",
       "    </tr>\n",
       "    <tr>\n",
       "      <th>21764</th>\n",
       "      <td>2020-02-29 09:33:24</td>\n",
       "      <td>163.0</td>\n",
       "      <td>2.0</td>\n",
       "      <td>85.970698</td>\n",
       "      <td>92.77</td>\n",
       "      <td>2.603373</td>\n",
       "      <td>1.245301</td>\n",
       "      <td>85.027960</td>\n",
       "      <td>87.309510</td>\n",
       "      <td>0.494071</td>\n",
       "      <td>...</td>\n",
       "      <td>187.0</td>\n",
       "      <td>253.0</td>\n",
       "      <td>20.0</td>\n",
       "      <td>NaN</td>\n",
       "      <td>NaN</td>\n",
       "      <td>NaN</td>\n",
       "      <td>NaN</td>\n",
       "      <td>NaN</td>\n",
       "      <td>MALE</td>\n",
       "      <td>5.6</td>\n",
       "    </tr>\n",
       "  </tbody>\n",
       "</table>\n",
       "<p>21765 rows × 90 columns</p>\n",
       "</div>"
      ],
      "text/plain": [
       "                      Time     IG  Participant    HR_Mean  HR_Max    HR_Std  \\\n",
       "0      2020-07-17 00:03:24   97.0         16.0  73.225681   73.57  0.234825   \n",
       "1      2020-07-17 00:08:23   95.0         16.0  72.758239   73.57  0.351658   \n",
       "2      2020-07-17 00:13:24   92.0         16.0  73.699934   75.07  0.628637   \n",
       "3      2020-07-17 00:18:24   89.0         16.0  73.565316   77.47  2.043241   \n",
       "4      2020-07-17 00:23:24   90.0         16.0  75.144385   80.30  2.978029   \n",
       "...                    ...    ...          ...        ...     ...       ...   \n",
       "21760  2020-02-29 09:13:25  181.0          2.0  85.898538   88.55  1.808236   \n",
       "21761  2020-02-29 09:18:25  177.0          2.0  82.445449   86.57  2.433794   \n",
       "21762  2020-02-29 09:23:24  171.0          2.0  84.667375   87.22  1.835218   \n",
       "21763  2020-02-29 09:28:24  166.0          2.0  86.173621   87.45  0.689601   \n",
       "21764  2020-02-29 09:33:24  163.0          2.0  85.970698   92.77  2.603373   \n",
       "\n",
       "        HR_Skew     HR_Q1G     HR_Q3G  EDA_Mean  ...   waso  \\\n",
       "0     -0.862047  73.108174  73.313689  0.301333  ...  838.0   \n",
       "1      0.620606  72.608911  72.921836  0.359451  ...  838.0   \n",
       "2     -0.038853  73.416714  73.968872  0.423380  ...  838.0   \n",
       "3      0.121869  72.647048  74.517301  0.481480  ...  838.0   \n",
       "4      0.467569  73.879337  76.672485  1.854490  ...  838.0   \n",
       "...         ...        ...        ...       ...  ...    ...   \n",
       "21760 -0.842159  84.978402  86.595798  0.530921  ...  187.0   \n",
       "21761 -0.729108  81.244232  83.365709  0.515155  ...  187.0   \n",
       "21762 -0.553606  83.805195  85.447387  0.511280  ...  187.0   \n",
       "21763 -1.170720  85.873365  86.427853  0.509617  ...  187.0   \n",
       "21764  1.245301  85.027960  87.309510  0.494071  ...  187.0   \n",
       "\n",
       "       sleep_onset_latency  number_wake_bouts  stage_0_count  stage_1_count  \\\n",
       "0                     22.0               36.0           62.0           89.0   \n",
       "1                     22.0               36.0           62.0           89.0   \n",
       "2                     22.0               36.0           62.0           89.0   \n",
       "3                     22.0               36.0           62.0           89.0   \n",
       "4                     22.0               36.0           62.0           89.0   \n",
       "...                    ...                ...            ...            ...   \n",
       "21760                253.0               20.0            NaN            NaN   \n",
       "21761                253.0               20.0            NaN            NaN   \n",
       "21762                253.0               20.0            NaN            NaN   \n",
       "21763                253.0               20.0            NaN            NaN   \n",
       "21764                253.0               20.0            NaN            NaN   \n",
       "\n",
       "       stage_2_count  stage_3_count  stage_5_count  Gender  HbA1c  \n",
       "0              263.0           70.0           41.0    MALE    5.5  \n",
       "1              263.0           70.0           41.0    MALE    5.5  \n",
       "2              263.0           70.0           41.0    MALE    5.5  \n",
       "3              263.0           70.0           41.0    MALE    5.5  \n",
       "4              263.0           70.0           41.0    MALE    5.5  \n",
       "...              ...            ...            ...     ...    ...  \n",
       "21760            NaN            NaN            NaN    MALE    5.6  \n",
       "21761            NaN            NaN            NaN    MALE    5.6  \n",
       "21762            NaN            NaN            NaN    MALE    5.6  \n",
       "21763            NaN            NaN            NaN    MALE    5.6  \n",
       "21764            NaN            NaN            NaN    MALE    5.6  \n",
       "\n",
       "[21765 rows x 90 columns]"
      ]
     },
     "execution_count": 184,
     "metadata": {},
     "output_type": "execute_result"
    }
   ],
   "source": [
    "df_features = df_features.replace(0, np.nan)\n",
    "df_features"
   ]
  },
  {
   "cell_type": "code",
   "execution_count": 185,
   "id": "a3ec09ef-de5c-4184-b9d7-36fc4a7da8d5",
   "metadata": {
    "tags": []
   },
   "outputs": [],
   "source": [
    "imputer = IterativeImputer(max_iter=10, random_state=0)"
   ]
  },
  {
   "cell_type": "code",
   "execution_count": 186,
   "id": "6da35d7f-40f0-4b8d-a0e9-952a76f0e37c",
   "metadata": {
    "tags": []
   },
   "outputs": [],
   "source": [
    "# Separate numerical and non-numerical columns\n",
    "numerical_cols = df_features.select_dtypes(include=[np.number]).columns\n",
    "non_numerical_cols = df_features.select_dtypes(exclude=[np.number]).columns\n",
    "\n",
    "# Replace all zero values with NaN in the numerical columns\n",
    "df_features[numerical_cols] = df_features[numerical_cols].replace(0, np.nan)"
   ]
  },
  {
   "cell_type": "code",
   "execution_count": 187,
   "id": "3b48e819-3e75-4f11-b9b9-f3622e22a492",
   "metadata": {
    "tags": []
   },
   "outputs": [
    {
     "data": {
      "text/plain": [
       "Index(['IG', 'Participant', 'HR_Mean', 'HR_Max', 'HR_Std', 'HR_Skew', 'HR_Q1G',\n",
       "       'HR_Q3G', 'EDA_Mean', 'EDA_Max', 'EDA_Std', 'EDA_Skew', 'EDA_Q1G',\n",
       "       'EDA_Q3G', 'TEMP_Mean', 'TEMP_Max', 'TEMP_Std', 'TEMP_Skew', 'TEMP_Q1G',\n",
       "       'TEMP_Q3G', 'ACC_Mean', 'ACC_Max', 'ACC_Std', 'ACC_Skew', 'ACC_Q1G',\n",
       "       'ACC_Q3G', 'BVP_Mean', 'BVP_Max', 'BVP_Std', 'BVP_Skew', 'BVP_Q1G',\n",
       "       'BVP_Q3G', 'PeakEDA', 'maxHRV', 'minHRV', 'medianHRV', 'SDNN', 'NN50',\n",
       "       'pNN50', 'RMSSD', 'calories2hr', 'protien2hr', 'sugar2hr', 'carbs2hr',\n",
       "       'protien8hr', 'sugar8hr', 'carbs8hr', 'calories24hr', 'protien24hr',\n",
       "       'sugar24hr', 'carbs24hr', 'Eat', 'Eatcnt2hr', 'Eatcnt8hr', 'Eatcnt24hr',\n",
       "       'Eatmean2hr', 'Eatmean8hr', 'Eatmean24hr', 'Minfrommid', 'Hourfrommid',\n",
       "       'EDA_Min', 'calories8hr', 'TEMP_Min', 'BVP_Min', 'ACC_Min', 'HR_Min',\n",
       "       'HR_Mean_Historical', 'HR_Std_Historical', 'ACC_Mean_Historical',\n",
       "       'ACC_Std_Historical', 'Activity_Bouts', 'Mean', 'Std', 'Activity24',\n",
       "       'Activity1h', 'total_sleep_time', 'percent_time_asleep', 'waso',\n",
       "       'sleep_onset_latency', 'number_wake_bouts', 'stage_0_count',\n",
       "       'stage_1_count', 'stage_2_count', 'stage_3_count', 'stage_5_count',\n",
       "       'HbA1c'],\n",
       "      dtype='object')"
      ]
     },
     "execution_count": 187,
     "metadata": {},
     "output_type": "execute_result"
    }
   ],
   "source": [
    "numerical_cols"
   ]
  },
  {
   "cell_type": "code",
   "execution_count": 188,
   "id": "6b1c5792-3a5d-4bda-8471-34989e90c142",
   "metadata": {
    "tags": []
   },
   "outputs": [
    {
     "data": {
      "text/plain": [
       "Index(['Time', 'Date', 'glucose_level', 'Gender'], dtype='object')"
      ]
     },
     "execution_count": 188,
     "metadata": {},
     "output_type": "execute_result"
    }
   ],
   "source": [
    "non_numerical_cols"
   ]
  },
  {
   "cell_type": "code",
   "execution_count": 149,
   "id": "519d5539-46b8-4a06-bbfb-ffef59737310",
   "metadata": {
    "tags": []
   },
   "outputs": [],
   "source": [
    "non_numerical_cols=['Time', 'Date', 'glucose_level', 'Gender']"
   ]
  },
  {
   "cell_type": "code",
   "execution_count": 189,
   "id": "b83a4eb2-37ff-4a02-9560-0cee74342c6d",
   "metadata": {
    "tags": []
   },
   "outputs": [
    {
     "name": "stderr",
     "output_type": "stream",
     "text": [
      "/home/wsf4491/.local/Python-3.10-gimkl-2022a/lib/python3.10/site-packages/sklearn/impute/_iterative.py:800: ConvergenceWarning: [IterativeImputer] Early stopping criterion not reached.\n",
      "  warnings.warn(\n"
     ]
    }
   ],
   "source": [
    "imputed_values = imputer.fit_transform(df_features[numerical_cols])"
   ]
  },
  {
   "cell_type": "code",
   "execution_count": 190,
   "id": "960ed730-203b-4ea2-b0aa-51c9fd29b718",
   "metadata": {
    "tags": []
   },
   "outputs": [
    {
     "data": {
      "text/plain": [
       "array([[ 9.70000000e+01,  1.60000000e+01,  7.32256811e+01, ...,\n",
       "         7.00000000e+01,  4.10000000e+01,  5.50000000e+00],\n",
       "       [ 9.50000000e+01,  1.60000000e+01,  7.27582392e+01, ...,\n",
       "         7.00000000e+01,  4.10000000e+01,  5.50000000e+00],\n",
       "       [ 9.20000000e+01,  1.60000000e+01,  7.36999336e+01, ...,\n",
       "         7.00000000e+01,  4.10000000e+01,  5.50000000e+00],\n",
       "       ...,\n",
       "       [ 1.71000000e+02,  2.00000000e+00,  8.46673754e+01, ...,\n",
       "        -1.27985665e+12, -1.07845971e+11,  5.60000000e+00],\n",
       "       [ 1.66000000e+02,  2.00000000e+00,  8.61736213e+01, ...,\n",
       "         2.09815965e+12,  1.76799542e+11,  5.60000000e+00],\n",
       "       [ 1.63000000e+02,  2.00000000e+00,  8.59706977e+01, ...,\n",
       "         1.85163252e+12,  1.56026155e+11,  5.60000000e+00]])"
      ]
     },
     "execution_count": 190,
     "metadata": {},
     "output_type": "execute_result"
    }
   ],
   "source": [
    "imputed_values"
   ]
  },
  {
   "cell_type": "code",
   "execution_count": 19,
   "id": "96d275ef-a239-4a85-bad3-e2b7bf2d7f43",
   "metadata": {
    "tags": []
   },
   "outputs": [
    {
     "data": {
      "text/plain": [
       "['IG',\n",
       " 'Participant',\n",
       " 'HR_Mean',\n",
       " 'HR_Max',\n",
       " 'HR_Std',\n",
       " 'HR_Skew',\n",
       " 'HR_Q1G',\n",
       " 'HR_Q3G',\n",
       " 'EDA_Mean',\n",
       " 'EDA_Max',\n",
       " 'EDA_Std',\n",
       " 'EDA_Skew',\n",
       " 'EDA_Q1G',\n",
       " 'EDA_Q3G',\n",
       " 'TEMP_Mean',\n",
       " 'TEMP_Max',\n",
       " 'TEMP_Std',\n",
       " 'TEMP_Skew',\n",
       " 'TEMP_Q1G',\n",
       " 'TEMP_Q3G',\n",
       " 'ACC_Mean',\n",
       " 'ACC_Max',\n",
       " 'ACC_Std',\n",
       " 'ACC_Skew',\n",
       " 'ACC_Q1G',\n",
       " 'ACC_Q3G',\n",
       " 'BVP_Mean',\n",
       " 'BVP_Max',\n",
       " 'BVP_Std',\n",
       " 'BVP_Skew',\n",
       " 'BVP_Q1G',\n",
       " 'BVP_Q3G',\n",
       " 'PeakEDA',\n",
       " 'maxHRV',\n",
       " 'minHRV',\n",
       " 'medianHRV',\n",
       " 'SDNN',\n",
       " 'NN50',\n",
       " 'pNN50',\n",
       " 'RMSSD',\n",
       " 'calories2hr',\n",
       " 'protien2hr',\n",
       " 'sugar2hr',\n",
       " 'carbs2hr',\n",
       " 'protien8hr',\n",
       " 'sugar8hr',\n",
       " 'carbs8hr',\n",
       " 'calories24hr',\n",
       " 'protien24hr',\n",
       " 'sugar24hr',\n",
       " 'carbs24hr',\n",
       " 'Eat',\n",
       " 'Eatcnt2hr',\n",
       " 'Eatcnt8hr',\n",
       " 'Eatcnt24hr',\n",
       " 'Eatmean2hr',\n",
       " 'Eatmean8hr',\n",
       " 'Eatmean24hr',\n",
       " 'Minfrommid',\n",
       " 'Hourfrommid',\n",
       " 'EDA_Min',\n",
       " 'calories8hr',\n",
       " 'TEMP_Min',\n",
       " 'BVP_Min',\n",
       " 'ACC_Min',\n",
       " 'HR_Min',\n",
       " 'HR_Mean_Historical',\n",
       " 'HR_Std_Historical',\n",
       " 'ACC_Mean_Historical',\n",
       " 'ACC_Std_Historical',\n",
       " 'Activity_Bouts',\n",
       " 'Mean',\n",
       " 'Std',\n",
       " 'Activity24',\n",
       " 'Activity1h',\n",
       " 'total_sleep_time',\n",
       " 'percent_time_asleep',\n",
       " 'waso',\n",
       " 'sleep_onset_latency',\n",
       " 'number_wake_bouts',\n",
       " 'stage_0_count',\n",
       " 'stage_1_count',\n",
       " 'stage_2_count',\n",
       " 'stage_3_count',\n",
       " 'stage_5_count',\n",
       " 'HbA1c']"
      ]
     },
     "execution_count": 19,
     "metadata": {},
     "output_type": "execute_result"
    }
   ],
   "source": [
    "list_cols=list(numerical_cols)\n",
    "idx_list=[33,34,38,47,62,71,90]\n",
    "new_list = [list_cols[i] for i in range(len(list_cols)) if i not in idx_list]\n",
    "new_list"
   ]
  },
  {
   "cell_type": "code",
   "execution_count": 128,
   "id": "16fc57ac-1041-48b1-9eab-0adb248045e9",
   "metadata": {
    "tags": []
   },
   "outputs": [
    {
     "data": {
      "text/plain": [
       "['PeakEDA_2hrsum',\n",
       " 'PeakEDA_2hrmean',\n",
       " 'meanHRV',\n",
       " 'calories8r',\n",
       " 'WakeTime',\n",
       " 'Wake_Time',\n",
       " 'stage_4_count']"
      ]
     },
     "execution_count": 128,
     "metadata": {},
     "output_type": "execute_result"
    }
   ],
   "source": [
    "old_list = [list_cols[i] for i in range(len(list_cols)) if i  in idx_list]\n",
    "old_list"
   ]
  },
  {
   "cell_type": "code",
   "execution_count": 132,
   "id": "05af03c9-51d0-46ba-9377-ce85898d5f1a",
   "metadata": {
    "tags": []
   },
   "outputs": [
    {
     "data": {
      "text/plain": [
       "0       NaN\n",
       "1       NaN\n",
       "2       NaN\n",
       "3       NaN\n",
       "4       NaN\n",
       "         ..\n",
       "21760   NaN\n",
       "21761   NaN\n",
       "21762   NaN\n",
       "21763   NaN\n",
       "21764   NaN\n",
       "Name: PeakEDA_2hrsum, Length: 21765, dtype: float64"
      ]
     },
     "execution_count": 132,
     "metadata": {},
     "output_type": "execute_result"
    }
   ],
   "source": [
    "df_features['PeakEDA_2hrsum']"
   ]
  },
  {
   "cell_type": "code",
   "execution_count": 125,
   "id": "f89bf7bf-17a7-4960-8af6-e351b20b7b59",
   "metadata": {
    "tags": []
   },
   "outputs": [],
   "source": [
    "column_indices = [32, 33, 35, 36, 40, 49, 64, 73, 92]\n",
    "\n",
    "# Get the column names\n",
    "column_names = [df_features.columns[i] for i in idx_list]"
   ]
  },
  {
   "cell_type": "code",
   "execution_count": 126,
   "id": "3875d968-1aba-4401-b0e7-3da64b3d2990",
   "metadata": {
    "tags": []
   },
   "outputs": [
    {
     "data": {
      "text/plain": [
       "['PeakEDA',\n",
       " 'PeakEDA_2hrsum',\n",
       " 'medianHRV',\n",
       " 'carbs2hr',\n",
       " 'Eatmean24hr',\n",
       " 'HR_Min',\n",
       " 'stage_1_count']"
      ]
     },
     "execution_count": 126,
     "metadata": {},
     "output_type": "execute_result"
    }
   ],
   "source": [
    "column_names"
   ]
  },
  {
   "cell_type": "code",
   "execution_count": 27,
   "id": "ce62d9fd-361b-4367-a22c-3b1de01aa765",
   "metadata": {
    "tags": []
   },
   "outputs": [],
   "source": [
    "imputed_cols=list(set(numerical_cols)-set(column_names))"
   ]
  },
  {
   "cell_type": "code",
   "execution_count": 18,
   "id": "b6231987-9eac-4e24-8956-e6b954fe92ea",
   "metadata": {
    "tags": []
   },
   "outputs": [
    {
     "data": {
      "text/plain": [
       "array([[ 9.70000000e+01,  1.60000000e+01,  7.32256811e+01, ...,\n",
       "         2.63000000e+02,  7.00000000e+01,  4.10000000e+01],\n",
       "       [ 9.50000000e+01,  1.60000000e+01,  7.27582392e+01, ...,\n",
       "         2.63000000e+02,  7.00000000e+01,  4.10000000e+01],\n",
       "       [ 9.20000000e+01,  1.60000000e+01,  7.36999336e+01, ...,\n",
       "         2.63000000e+02,  7.00000000e+01,  4.10000000e+01],\n",
       "       ...,\n",
       "       [ 1.71000000e+02,  2.00000000e+00,  8.46673754e+01, ...,\n",
       "         1.23944015e+09,  2.38553966e+09, -5.25332262e+09],\n",
       "       [ 1.66000000e+02,  2.00000000e+00,  8.61736213e+01, ...,\n",
       "         5.52856743e+09,  1.06411676e+10, -2.34339137e+10],\n",
       "       [ 1.63000000e+02,  2.00000000e+00,  8.59706977e+01, ...,\n",
       "        -1.31496385e+09, -2.53126924e+09,  5.57468176e+09]])"
      ]
     },
     "execution_count": 18,
     "metadata": {},
     "output_type": "execute_result"
    }
   ],
   "source": [
    "imputed_values"
   ]
  },
  {
   "cell_type": "code",
   "execution_count": 191,
   "id": "bdabe1c6-528f-4800-b4e7-61b39d5cfcf8",
   "metadata": {
    "tags": []
   },
   "outputs": [
    {
     "data": {
      "text/html": [
       "<div>\n",
       "<style scoped>\n",
       "    .dataframe tbody tr th:only-of-type {\n",
       "        vertical-align: middle;\n",
       "    }\n",
       "\n",
       "    .dataframe tbody tr th {\n",
       "        vertical-align: top;\n",
       "    }\n",
       "\n",
       "    .dataframe thead th {\n",
       "        text-align: right;\n",
       "    }\n",
       "</style>\n",
       "<table border=\"1\" class=\"dataframe\">\n",
       "  <thead>\n",
       "    <tr style=\"text-align: right;\">\n",
       "      <th></th>\n",
       "      <th>IG</th>\n",
       "      <th>Participant</th>\n",
       "      <th>HR_Mean</th>\n",
       "      <th>HR_Max</th>\n",
       "      <th>HR_Std</th>\n",
       "      <th>HR_Skew</th>\n",
       "      <th>HR_Q1G</th>\n",
       "      <th>HR_Q3G</th>\n",
       "      <th>EDA_Mean</th>\n",
       "      <th>EDA_Max</th>\n",
       "      <th>...</th>\n",
       "      <th>percent_time_asleep</th>\n",
       "      <th>waso</th>\n",
       "      <th>sleep_onset_latency</th>\n",
       "      <th>number_wake_bouts</th>\n",
       "      <th>stage_0_count</th>\n",
       "      <th>stage_1_count</th>\n",
       "      <th>stage_2_count</th>\n",
       "      <th>stage_3_count</th>\n",
       "      <th>stage_5_count</th>\n",
       "      <th>HbA1c</th>\n",
       "    </tr>\n",
       "  </thead>\n",
       "  <tbody>\n",
       "    <tr>\n",
       "      <th>0</th>\n",
       "      <td>97.0</td>\n",
       "      <td>16.0</td>\n",
       "      <td>73.225681</td>\n",
       "      <td>73.57</td>\n",
       "      <td>0.234825</td>\n",
       "      <td>-0.862047</td>\n",
       "      <td>73.108174</td>\n",
       "      <td>73.313689</td>\n",
       "      <td>0.301333</td>\n",
       "      <td>0.334533</td>\n",
       "      <td>...</td>\n",
       "      <td>40.0</td>\n",
       "      <td>838.0</td>\n",
       "      <td>22.0</td>\n",
       "      <td>36.0</td>\n",
       "      <td>6.200000e+01</td>\n",
       "      <td>8.900000e+01</td>\n",
       "      <td>2.630000e+02</td>\n",
       "      <td>7.000000e+01</td>\n",
       "      <td>4.100000e+01</td>\n",
       "      <td>5.5</td>\n",
       "    </tr>\n",
       "    <tr>\n",
       "      <th>1</th>\n",
       "      <td>95.0</td>\n",
       "      <td>16.0</td>\n",
       "      <td>72.758239</td>\n",
       "      <td>73.57</td>\n",
       "      <td>0.351658</td>\n",
       "      <td>0.620606</td>\n",
       "      <td>72.608911</td>\n",
       "      <td>72.921836</td>\n",
       "      <td>0.359451</td>\n",
       "      <td>0.394727</td>\n",
       "      <td>...</td>\n",
       "      <td>40.0</td>\n",
       "      <td>838.0</td>\n",
       "      <td>22.0</td>\n",
       "      <td>36.0</td>\n",
       "      <td>6.200000e+01</td>\n",
       "      <td>8.900000e+01</td>\n",
       "      <td>2.630000e+02</td>\n",
       "      <td>7.000000e+01</td>\n",
       "      <td>4.100000e+01</td>\n",
       "      <td>5.5</td>\n",
       "    </tr>\n",
       "    <tr>\n",
       "      <th>2</th>\n",
       "      <td>92.0</td>\n",
       "      <td>16.0</td>\n",
       "      <td>73.699934</td>\n",
       "      <td>75.07</td>\n",
       "      <td>0.628637</td>\n",
       "      <td>-0.038853</td>\n",
       "      <td>73.416714</td>\n",
       "      <td>73.968872</td>\n",
       "      <td>0.423380</td>\n",
       "      <td>0.458762</td>\n",
       "      <td>...</td>\n",
       "      <td>40.0</td>\n",
       "      <td>838.0</td>\n",
       "      <td>22.0</td>\n",
       "      <td>36.0</td>\n",
       "      <td>6.200000e+01</td>\n",
       "      <td>8.900000e+01</td>\n",
       "      <td>2.630000e+02</td>\n",
       "      <td>7.000000e+01</td>\n",
       "      <td>4.100000e+01</td>\n",
       "      <td>5.5</td>\n",
       "    </tr>\n",
       "    <tr>\n",
       "      <th>3</th>\n",
       "      <td>89.0</td>\n",
       "      <td>16.0</td>\n",
       "      <td>73.565316</td>\n",
       "      <td>77.47</td>\n",
       "      <td>2.043241</td>\n",
       "      <td>0.121869</td>\n",
       "      <td>72.647048</td>\n",
       "      <td>74.517301</td>\n",
       "      <td>0.481480</td>\n",
       "      <td>1.456508</td>\n",
       "      <td>...</td>\n",
       "      <td>40.0</td>\n",
       "      <td>838.0</td>\n",
       "      <td>22.0</td>\n",
       "      <td>36.0</td>\n",
       "      <td>6.200000e+01</td>\n",
       "      <td>8.900000e+01</td>\n",
       "      <td>2.630000e+02</td>\n",
       "      <td>7.000000e+01</td>\n",
       "      <td>4.100000e+01</td>\n",
       "      <td>5.5</td>\n",
       "    </tr>\n",
       "    <tr>\n",
       "      <th>4</th>\n",
       "      <td>90.0</td>\n",
       "      <td>16.0</td>\n",
       "      <td>75.144385</td>\n",
       "      <td>80.30</td>\n",
       "      <td>2.978029</td>\n",
       "      <td>0.467569</td>\n",
       "      <td>73.879337</td>\n",
       "      <td>76.672485</td>\n",
       "      <td>1.854490</td>\n",
       "      <td>5.904090</td>\n",
       "      <td>...</td>\n",
       "      <td>40.0</td>\n",
       "      <td>838.0</td>\n",
       "      <td>22.0</td>\n",
       "      <td>36.0</td>\n",
       "      <td>6.200000e+01</td>\n",
       "      <td>8.900000e+01</td>\n",
       "      <td>2.630000e+02</td>\n",
       "      <td>7.000000e+01</td>\n",
       "      <td>4.100000e+01</td>\n",
       "      <td>5.5</td>\n",
       "    </tr>\n",
       "    <tr>\n",
       "      <th>...</th>\n",
       "      <td>...</td>\n",
       "      <td>...</td>\n",
       "      <td>...</td>\n",
       "      <td>...</td>\n",
       "      <td>...</td>\n",
       "      <td>...</td>\n",
       "      <td>...</td>\n",
       "      <td>...</td>\n",
       "      <td>...</td>\n",
       "      <td>...</td>\n",
       "      <td>...</td>\n",
       "      <td>...</td>\n",
       "      <td>...</td>\n",
       "      <td>...</td>\n",
       "      <td>...</td>\n",
       "      <td>...</td>\n",
       "      <td>...</td>\n",
       "      <td>...</td>\n",
       "      <td>...</td>\n",
       "      <td>...</td>\n",
       "      <td>...</td>\n",
       "    </tr>\n",
       "    <tr>\n",
       "      <th>21760</th>\n",
       "      <td>181.0</td>\n",
       "      <td>2.0</td>\n",
       "      <td>85.898538</td>\n",
       "      <td>88.55</td>\n",
       "      <td>1.808236</td>\n",
       "      <td>-0.842159</td>\n",
       "      <td>84.978402</td>\n",
       "      <td>86.595798</td>\n",
       "      <td>0.530921</td>\n",
       "      <td>0.566582</td>\n",
       "      <td>...</td>\n",
       "      <td>48.0</td>\n",
       "      <td>187.0</td>\n",
       "      <td>253.0</td>\n",
       "      <td>20.0</td>\n",
       "      <td>5.223788e+12</td>\n",
       "      <td>4.177862e+12</td>\n",
       "      <td>1.543889e+12</td>\n",
       "      <td>1.117674e+12</td>\n",
       "      <td>9.417980e+10</td>\n",
       "      <td>5.6</td>\n",
       "    </tr>\n",
       "    <tr>\n",
       "      <th>21761</th>\n",
       "      <td>177.0</td>\n",
       "      <td>2.0</td>\n",
       "      <td>82.445449</td>\n",
       "      <td>86.57</td>\n",
       "      <td>2.433794</td>\n",
       "      <td>-0.729108</td>\n",
       "      <td>81.244232</td>\n",
       "      <td>83.365709</td>\n",
       "      <td>0.515155</td>\n",
       "      <td>0.538398</td>\n",
       "      <td>...</td>\n",
       "      <td>48.0</td>\n",
       "      <td>187.0</td>\n",
       "      <td>253.0</td>\n",
       "      <td>20.0</td>\n",
       "      <td>5.651871e+12</td>\n",
       "      <td>4.520233e+12</td>\n",
       "      <td>1.670409e+12</td>\n",
       "      <td>1.209266e+12</td>\n",
       "      <td>1.018977e+11</td>\n",
       "      <td>5.6</td>\n",
       "    </tr>\n",
       "    <tr>\n",
       "      <th>21762</th>\n",
       "      <td>171.0</td>\n",
       "      <td>2.0</td>\n",
       "      <td>84.667375</td>\n",
       "      <td>87.22</td>\n",
       "      <td>1.835218</td>\n",
       "      <td>-0.553606</td>\n",
       "      <td>83.805195</td>\n",
       "      <td>85.447387</td>\n",
       "      <td>0.511280</td>\n",
       "      <td>0.866359</td>\n",
       "      <td>...</td>\n",
       "      <td>48.0</td>\n",
       "      <td>187.0</td>\n",
       "      <td>253.0</td>\n",
       "      <td>20.0</td>\n",
       "      <td>-5.981797e+12</td>\n",
       "      <td>-4.784100e+12</td>\n",
       "      <td>-1.767918e+12</td>\n",
       "      <td>-1.279857e+12</td>\n",
       "      <td>-1.078460e+11</td>\n",
       "      <td>5.6</td>\n",
       "    </tr>\n",
       "    <tr>\n",
       "      <th>21763</th>\n",
       "      <td>166.0</td>\n",
       "      <td>2.0</td>\n",
       "      <td>86.173621</td>\n",
       "      <td>87.45</td>\n",
       "      <td>0.689601</td>\n",
       "      <td>-1.170720</td>\n",
       "      <td>85.873365</td>\n",
       "      <td>86.427853</td>\n",
       "      <td>0.509617</td>\n",
       "      <td>0.516619</td>\n",
       "      <td>...</td>\n",
       "      <td>48.0</td>\n",
       "      <td>187.0</td>\n",
       "      <td>253.0</td>\n",
       "      <td>20.0</td>\n",
       "      <td>9.806384e+12</td>\n",
       "      <td>7.842915e+12</td>\n",
       "      <td>2.898273e+12</td>\n",
       "      <td>2.098160e+12</td>\n",
       "      <td>1.767995e+11</td>\n",
       "      <td>5.6</td>\n",
       "    </tr>\n",
       "    <tr>\n",
       "      <th>21764</th>\n",
       "      <td>163.0</td>\n",
       "      <td>2.0</td>\n",
       "      <td>85.970698</td>\n",
       "      <td>92.77</td>\n",
       "      <td>2.603373</td>\n",
       "      <td>1.245301</td>\n",
       "      <td>85.027960</td>\n",
       "      <td>87.309510</td>\n",
       "      <td>0.494071</td>\n",
       "      <td>0.726719</td>\n",
       "      <td>...</td>\n",
       "      <td>48.0</td>\n",
       "      <td>187.0</td>\n",
       "      <td>253.0</td>\n",
       "      <td>20.0</td>\n",
       "      <td>8.654165e+12</td>\n",
       "      <td>6.921397e+12</td>\n",
       "      <td>2.557735e+12</td>\n",
       "      <td>1.851633e+12</td>\n",
       "      <td>1.560262e+11</td>\n",
       "      <td>5.6</td>\n",
       "    </tr>\n",
       "  </tbody>\n",
       "</table>\n",
       "<p>21765 rows × 86 columns</p>\n",
       "</div>"
      ],
      "text/plain": [
       "          IG  Participant    HR_Mean  HR_Max    HR_Std   HR_Skew     HR_Q1G  \\\n",
       "0       97.0         16.0  73.225681   73.57  0.234825 -0.862047  73.108174   \n",
       "1       95.0         16.0  72.758239   73.57  0.351658  0.620606  72.608911   \n",
       "2       92.0         16.0  73.699934   75.07  0.628637 -0.038853  73.416714   \n",
       "3       89.0         16.0  73.565316   77.47  2.043241  0.121869  72.647048   \n",
       "4       90.0         16.0  75.144385   80.30  2.978029  0.467569  73.879337   \n",
       "...      ...          ...        ...     ...       ...       ...        ...   \n",
       "21760  181.0          2.0  85.898538   88.55  1.808236 -0.842159  84.978402   \n",
       "21761  177.0          2.0  82.445449   86.57  2.433794 -0.729108  81.244232   \n",
       "21762  171.0          2.0  84.667375   87.22  1.835218 -0.553606  83.805195   \n",
       "21763  166.0          2.0  86.173621   87.45  0.689601 -1.170720  85.873365   \n",
       "21764  163.0          2.0  85.970698   92.77  2.603373  1.245301  85.027960   \n",
       "\n",
       "          HR_Q3G  EDA_Mean   EDA_Max  ...  percent_time_asleep   waso  \\\n",
       "0      73.313689  0.301333  0.334533  ...                 40.0  838.0   \n",
       "1      72.921836  0.359451  0.394727  ...                 40.0  838.0   \n",
       "2      73.968872  0.423380  0.458762  ...                 40.0  838.0   \n",
       "3      74.517301  0.481480  1.456508  ...                 40.0  838.0   \n",
       "4      76.672485  1.854490  5.904090  ...                 40.0  838.0   \n",
       "...          ...       ...       ...  ...                  ...    ...   \n",
       "21760  86.595798  0.530921  0.566582  ...                 48.0  187.0   \n",
       "21761  83.365709  0.515155  0.538398  ...                 48.0  187.0   \n",
       "21762  85.447387  0.511280  0.866359  ...                 48.0  187.0   \n",
       "21763  86.427853  0.509617  0.516619  ...                 48.0  187.0   \n",
       "21764  87.309510  0.494071  0.726719  ...                 48.0  187.0   \n",
       "\n",
       "       sleep_onset_latency  number_wake_bouts  stage_0_count  stage_1_count  \\\n",
       "0                     22.0               36.0   6.200000e+01   8.900000e+01   \n",
       "1                     22.0               36.0   6.200000e+01   8.900000e+01   \n",
       "2                     22.0               36.0   6.200000e+01   8.900000e+01   \n",
       "3                     22.0               36.0   6.200000e+01   8.900000e+01   \n",
       "4                     22.0               36.0   6.200000e+01   8.900000e+01   \n",
       "...                    ...                ...            ...            ...   \n",
       "21760                253.0               20.0   5.223788e+12   4.177862e+12   \n",
       "21761                253.0               20.0   5.651871e+12   4.520233e+12   \n",
       "21762                253.0               20.0  -5.981797e+12  -4.784100e+12   \n",
       "21763                253.0               20.0   9.806384e+12   7.842915e+12   \n",
       "21764                253.0               20.0   8.654165e+12   6.921397e+12   \n",
       "\n",
       "       stage_2_count  stage_3_count  stage_5_count  HbA1c  \n",
       "0       2.630000e+02   7.000000e+01   4.100000e+01    5.5  \n",
       "1       2.630000e+02   7.000000e+01   4.100000e+01    5.5  \n",
       "2       2.630000e+02   7.000000e+01   4.100000e+01    5.5  \n",
       "3       2.630000e+02   7.000000e+01   4.100000e+01    5.5  \n",
       "4       2.630000e+02   7.000000e+01   4.100000e+01    5.5  \n",
       "...              ...            ...            ...    ...  \n",
       "21760   1.543889e+12   1.117674e+12   9.417980e+10    5.6  \n",
       "21761   1.670409e+12   1.209266e+12   1.018977e+11    5.6  \n",
       "21762  -1.767918e+12  -1.279857e+12  -1.078460e+11    5.6  \n",
       "21763   2.898273e+12   2.098160e+12   1.767995e+11    5.6  \n",
       "21764   2.557735e+12   1.851633e+12   1.560262e+11    5.6  \n",
       "\n",
       "[21765 rows x 86 columns]"
      ]
     },
     "execution_count": 191,
     "metadata": {},
     "output_type": "execute_result"
    }
   ],
   "source": [
    "df_imputed_numerical = pd.DataFrame(imputed_values, columns=numerical_cols)\n",
    "df_imputed_numerical"
   ]
  },
  {
   "cell_type": "code",
   "execution_count": 192,
   "id": "5ae53d02-05c2-4d7c-8755-e99f8ae82ce7",
   "metadata": {
    "tags": []
   },
   "outputs": [],
   "source": [
    "df_imputed = pd.concat([df_imputed_numerical,df_features[non_numerical_cols].reset_index(drop=True)],axis=1)"
   ]
  },
  {
   "cell_type": "code",
   "execution_count": 193,
   "id": "24a80de9-1040-44bf-9b09-0a912ede5534",
   "metadata": {
    "tags": []
   },
   "outputs": [
    {
     "data": {
      "text/html": [
       "<div>\n",
       "<style scoped>\n",
       "    .dataframe tbody tr th:only-of-type {\n",
       "        vertical-align: middle;\n",
       "    }\n",
       "\n",
       "    .dataframe tbody tr th {\n",
       "        vertical-align: top;\n",
       "    }\n",
       "\n",
       "    .dataframe thead th {\n",
       "        text-align: right;\n",
       "    }\n",
       "</style>\n",
       "<table border=\"1\" class=\"dataframe\">\n",
       "  <thead>\n",
       "    <tr style=\"text-align: right;\">\n",
       "      <th></th>\n",
       "      <th>IG</th>\n",
       "      <th>Participant</th>\n",
       "      <th>HR_Mean</th>\n",
       "      <th>HR_Max</th>\n",
       "      <th>HR_Std</th>\n",
       "      <th>HR_Skew</th>\n",
       "      <th>HR_Q1G</th>\n",
       "      <th>HR_Q3G</th>\n",
       "      <th>EDA_Mean</th>\n",
       "      <th>EDA_Max</th>\n",
       "      <th>...</th>\n",
       "      <th>stage_0_count</th>\n",
       "      <th>stage_1_count</th>\n",
       "      <th>stage_2_count</th>\n",
       "      <th>stage_3_count</th>\n",
       "      <th>stage_5_count</th>\n",
       "      <th>HbA1c</th>\n",
       "      <th>Time</th>\n",
       "      <th>Date</th>\n",
       "      <th>glucose_level</th>\n",
       "      <th>Gender</th>\n",
       "    </tr>\n",
       "  </thead>\n",
       "  <tbody>\n",
       "    <tr>\n",
       "      <th>0</th>\n",
       "      <td>97.0</td>\n",
       "      <td>16.0</td>\n",
       "      <td>73.225681</td>\n",
       "      <td>73.57</td>\n",
       "      <td>0.234825</td>\n",
       "      <td>-0.862047</td>\n",
       "      <td>73.108174</td>\n",
       "      <td>73.313689</td>\n",
       "      <td>0.301333</td>\n",
       "      <td>0.334533</td>\n",
       "      <td>...</td>\n",
       "      <td>6.200000e+01</td>\n",
       "      <td>8.900000e+01</td>\n",
       "      <td>2.630000e+02</td>\n",
       "      <td>7.000000e+01</td>\n",
       "      <td>4.100000e+01</td>\n",
       "      <td>5.5</td>\n",
       "      <td>2020-07-17 00:03:24</td>\n",
       "      <td>2020-07-17</td>\n",
       "      <td>Normal</td>\n",
       "      <td>MALE</td>\n",
       "    </tr>\n",
       "    <tr>\n",
       "      <th>1</th>\n",
       "      <td>95.0</td>\n",
       "      <td>16.0</td>\n",
       "      <td>72.758239</td>\n",
       "      <td>73.57</td>\n",
       "      <td>0.351658</td>\n",
       "      <td>0.620606</td>\n",
       "      <td>72.608911</td>\n",
       "      <td>72.921836</td>\n",
       "      <td>0.359451</td>\n",
       "      <td>0.394727</td>\n",
       "      <td>...</td>\n",
       "      <td>6.200000e+01</td>\n",
       "      <td>8.900000e+01</td>\n",
       "      <td>2.630000e+02</td>\n",
       "      <td>7.000000e+01</td>\n",
       "      <td>4.100000e+01</td>\n",
       "      <td>5.5</td>\n",
       "      <td>2020-07-17 00:08:23</td>\n",
       "      <td>2020-07-17</td>\n",
       "      <td>Normal</td>\n",
       "      <td>MALE</td>\n",
       "    </tr>\n",
       "    <tr>\n",
       "      <th>2</th>\n",
       "      <td>92.0</td>\n",
       "      <td>16.0</td>\n",
       "      <td>73.699934</td>\n",
       "      <td>75.07</td>\n",
       "      <td>0.628637</td>\n",
       "      <td>-0.038853</td>\n",
       "      <td>73.416714</td>\n",
       "      <td>73.968872</td>\n",
       "      <td>0.423380</td>\n",
       "      <td>0.458762</td>\n",
       "      <td>...</td>\n",
       "      <td>6.200000e+01</td>\n",
       "      <td>8.900000e+01</td>\n",
       "      <td>2.630000e+02</td>\n",
       "      <td>7.000000e+01</td>\n",
       "      <td>4.100000e+01</td>\n",
       "      <td>5.5</td>\n",
       "      <td>2020-07-17 00:13:24</td>\n",
       "      <td>2020-07-17</td>\n",
       "      <td>Normal</td>\n",
       "      <td>MALE</td>\n",
       "    </tr>\n",
       "    <tr>\n",
       "      <th>3</th>\n",
       "      <td>89.0</td>\n",
       "      <td>16.0</td>\n",
       "      <td>73.565316</td>\n",
       "      <td>77.47</td>\n",
       "      <td>2.043241</td>\n",
       "      <td>0.121869</td>\n",
       "      <td>72.647048</td>\n",
       "      <td>74.517301</td>\n",
       "      <td>0.481480</td>\n",
       "      <td>1.456508</td>\n",
       "      <td>...</td>\n",
       "      <td>6.200000e+01</td>\n",
       "      <td>8.900000e+01</td>\n",
       "      <td>2.630000e+02</td>\n",
       "      <td>7.000000e+01</td>\n",
       "      <td>4.100000e+01</td>\n",
       "      <td>5.5</td>\n",
       "      <td>2020-07-17 00:18:24</td>\n",
       "      <td>2020-07-17</td>\n",
       "      <td>Low</td>\n",
       "      <td>MALE</td>\n",
       "    </tr>\n",
       "    <tr>\n",
       "      <th>4</th>\n",
       "      <td>90.0</td>\n",
       "      <td>16.0</td>\n",
       "      <td>75.144385</td>\n",
       "      <td>80.30</td>\n",
       "      <td>2.978029</td>\n",
       "      <td>0.467569</td>\n",
       "      <td>73.879337</td>\n",
       "      <td>76.672485</td>\n",
       "      <td>1.854490</td>\n",
       "      <td>5.904090</td>\n",
       "      <td>...</td>\n",
       "      <td>6.200000e+01</td>\n",
       "      <td>8.900000e+01</td>\n",
       "      <td>2.630000e+02</td>\n",
       "      <td>7.000000e+01</td>\n",
       "      <td>4.100000e+01</td>\n",
       "      <td>5.5</td>\n",
       "      <td>2020-07-17 00:23:24</td>\n",
       "      <td>2020-07-17</td>\n",
       "      <td>Low</td>\n",
       "      <td>MALE</td>\n",
       "    </tr>\n",
       "    <tr>\n",
       "      <th>...</th>\n",
       "      <td>...</td>\n",
       "      <td>...</td>\n",
       "      <td>...</td>\n",
       "      <td>...</td>\n",
       "      <td>...</td>\n",
       "      <td>...</td>\n",
       "      <td>...</td>\n",
       "      <td>...</td>\n",
       "      <td>...</td>\n",
       "      <td>...</td>\n",
       "      <td>...</td>\n",
       "      <td>...</td>\n",
       "      <td>...</td>\n",
       "      <td>...</td>\n",
       "      <td>...</td>\n",
       "      <td>...</td>\n",
       "      <td>...</td>\n",
       "      <td>...</td>\n",
       "      <td>...</td>\n",
       "      <td>...</td>\n",
       "      <td>...</td>\n",
       "    </tr>\n",
       "    <tr>\n",
       "      <th>21760</th>\n",
       "      <td>181.0</td>\n",
       "      <td>2.0</td>\n",
       "      <td>85.898538</td>\n",
       "      <td>88.55</td>\n",
       "      <td>1.808236</td>\n",
       "      <td>-0.842159</td>\n",
       "      <td>84.978402</td>\n",
       "      <td>86.595798</td>\n",
       "      <td>0.530921</td>\n",
       "      <td>0.566582</td>\n",
       "      <td>...</td>\n",
       "      <td>5.223788e+12</td>\n",
       "      <td>4.177862e+12</td>\n",
       "      <td>1.543889e+12</td>\n",
       "      <td>1.117674e+12</td>\n",
       "      <td>9.417980e+10</td>\n",
       "      <td>5.6</td>\n",
       "      <td>2020-02-29 09:13:25</td>\n",
       "      <td>2020-02-29</td>\n",
       "      <td>High</td>\n",
       "      <td>MALE</td>\n",
       "    </tr>\n",
       "    <tr>\n",
       "      <th>21761</th>\n",
       "      <td>177.0</td>\n",
       "      <td>2.0</td>\n",
       "      <td>82.445449</td>\n",
       "      <td>86.57</td>\n",
       "      <td>2.433794</td>\n",
       "      <td>-0.729108</td>\n",
       "      <td>81.244232</td>\n",
       "      <td>83.365709</td>\n",
       "      <td>0.515155</td>\n",
       "      <td>0.538398</td>\n",
       "      <td>...</td>\n",
       "      <td>5.651871e+12</td>\n",
       "      <td>4.520233e+12</td>\n",
       "      <td>1.670409e+12</td>\n",
       "      <td>1.209266e+12</td>\n",
       "      <td>1.018977e+11</td>\n",
       "      <td>5.6</td>\n",
       "      <td>2020-02-29 09:18:25</td>\n",
       "      <td>2020-02-29</td>\n",
       "      <td>High</td>\n",
       "      <td>MALE</td>\n",
       "    </tr>\n",
       "    <tr>\n",
       "      <th>21762</th>\n",
       "      <td>171.0</td>\n",
       "      <td>2.0</td>\n",
       "      <td>84.667375</td>\n",
       "      <td>87.22</td>\n",
       "      <td>1.835218</td>\n",
       "      <td>-0.553606</td>\n",
       "      <td>83.805195</td>\n",
       "      <td>85.447387</td>\n",
       "      <td>0.511280</td>\n",
       "      <td>0.866359</td>\n",
       "      <td>...</td>\n",
       "      <td>-5.981797e+12</td>\n",
       "      <td>-4.784100e+12</td>\n",
       "      <td>-1.767918e+12</td>\n",
       "      <td>-1.279857e+12</td>\n",
       "      <td>-1.078460e+11</td>\n",
       "      <td>5.6</td>\n",
       "      <td>2020-02-29 09:23:24</td>\n",
       "      <td>2020-02-29</td>\n",
       "      <td>High</td>\n",
       "      <td>MALE</td>\n",
       "    </tr>\n",
       "    <tr>\n",
       "      <th>21763</th>\n",
       "      <td>166.0</td>\n",
       "      <td>2.0</td>\n",
       "      <td>86.173621</td>\n",
       "      <td>87.45</td>\n",
       "      <td>0.689601</td>\n",
       "      <td>-1.170720</td>\n",
       "      <td>85.873365</td>\n",
       "      <td>86.427853</td>\n",
       "      <td>0.509617</td>\n",
       "      <td>0.516619</td>\n",
       "      <td>...</td>\n",
       "      <td>9.806384e+12</td>\n",
       "      <td>7.842915e+12</td>\n",
       "      <td>2.898273e+12</td>\n",
       "      <td>2.098160e+12</td>\n",
       "      <td>1.767995e+11</td>\n",
       "      <td>5.6</td>\n",
       "      <td>2020-02-29 09:28:24</td>\n",
       "      <td>2020-02-29</td>\n",
       "      <td>Normal</td>\n",
       "      <td>MALE</td>\n",
       "    </tr>\n",
       "    <tr>\n",
       "      <th>21764</th>\n",
       "      <td>163.0</td>\n",
       "      <td>2.0</td>\n",
       "      <td>85.970698</td>\n",
       "      <td>92.77</td>\n",
       "      <td>2.603373</td>\n",
       "      <td>1.245301</td>\n",
       "      <td>85.027960</td>\n",
       "      <td>87.309510</td>\n",
       "      <td>0.494071</td>\n",
       "      <td>0.726719</td>\n",
       "      <td>...</td>\n",
       "      <td>8.654165e+12</td>\n",
       "      <td>6.921397e+12</td>\n",
       "      <td>2.557735e+12</td>\n",
       "      <td>1.851633e+12</td>\n",
       "      <td>1.560262e+11</td>\n",
       "      <td>5.6</td>\n",
       "      <td>2020-02-29 09:33:24</td>\n",
       "      <td>2020-02-29</td>\n",
       "      <td>Normal</td>\n",
       "      <td>MALE</td>\n",
       "    </tr>\n",
       "  </tbody>\n",
       "</table>\n",
       "<p>21765 rows × 90 columns</p>\n",
       "</div>"
      ],
      "text/plain": [
       "          IG  Participant    HR_Mean  HR_Max    HR_Std   HR_Skew     HR_Q1G  \\\n",
       "0       97.0         16.0  73.225681   73.57  0.234825 -0.862047  73.108174   \n",
       "1       95.0         16.0  72.758239   73.57  0.351658  0.620606  72.608911   \n",
       "2       92.0         16.0  73.699934   75.07  0.628637 -0.038853  73.416714   \n",
       "3       89.0         16.0  73.565316   77.47  2.043241  0.121869  72.647048   \n",
       "4       90.0         16.0  75.144385   80.30  2.978029  0.467569  73.879337   \n",
       "...      ...          ...        ...     ...       ...       ...        ...   \n",
       "21760  181.0          2.0  85.898538   88.55  1.808236 -0.842159  84.978402   \n",
       "21761  177.0          2.0  82.445449   86.57  2.433794 -0.729108  81.244232   \n",
       "21762  171.0          2.0  84.667375   87.22  1.835218 -0.553606  83.805195   \n",
       "21763  166.0          2.0  86.173621   87.45  0.689601 -1.170720  85.873365   \n",
       "21764  163.0          2.0  85.970698   92.77  2.603373  1.245301  85.027960   \n",
       "\n",
       "          HR_Q3G  EDA_Mean   EDA_Max  ...  stage_0_count  stage_1_count  \\\n",
       "0      73.313689  0.301333  0.334533  ...   6.200000e+01   8.900000e+01   \n",
       "1      72.921836  0.359451  0.394727  ...   6.200000e+01   8.900000e+01   \n",
       "2      73.968872  0.423380  0.458762  ...   6.200000e+01   8.900000e+01   \n",
       "3      74.517301  0.481480  1.456508  ...   6.200000e+01   8.900000e+01   \n",
       "4      76.672485  1.854490  5.904090  ...   6.200000e+01   8.900000e+01   \n",
       "...          ...       ...       ...  ...            ...            ...   \n",
       "21760  86.595798  0.530921  0.566582  ...   5.223788e+12   4.177862e+12   \n",
       "21761  83.365709  0.515155  0.538398  ...   5.651871e+12   4.520233e+12   \n",
       "21762  85.447387  0.511280  0.866359  ...  -5.981797e+12  -4.784100e+12   \n",
       "21763  86.427853  0.509617  0.516619  ...   9.806384e+12   7.842915e+12   \n",
       "21764  87.309510  0.494071  0.726719  ...   8.654165e+12   6.921397e+12   \n",
       "\n",
       "       stage_2_count  stage_3_count  stage_5_count  HbA1c  \\\n",
       "0       2.630000e+02   7.000000e+01   4.100000e+01    5.5   \n",
       "1       2.630000e+02   7.000000e+01   4.100000e+01    5.5   \n",
       "2       2.630000e+02   7.000000e+01   4.100000e+01    5.5   \n",
       "3       2.630000e+02   7.000000e+01   4.100000e+01    5.5   \n",
       "4       2.630000e+02   7.000000e+01   4.100000e+01    5.5   \n",
       "...              ...            ...            ...    ...   \n",
       "21760   1.543889e+12   1.117674e+12   9.417980e+10    5.6   \n",
       "21761   1.670409e+12   1.209266e+12   1.018977e+11    5.6   \n",
       "21762  -1.767918e+12  -1.279857e+12  -1.078460e+11    5.6   \n",
       "21763   2.898273e+12   2.098160e+12   1.767995e+11    5.6   \n",
       "21764   2.557735e+12   1.851633e+12   1.560262e+11    5.6   \n",
       "\n",
       "                      Time        Date  glucose_level  Gender  \n",
       "0      2020-07-17 00:03:24  2020-07-17         Normal    MALE  \n",
       "1      2020-07-17 00:08:23  2020-07-17         Normal    MALE  \n",
       "2      2020-07-17 00:13:24  2020-07-17         Normal    MALE  \n",
       "3      2020-07-17 00:18:24  2020-07-17            Low    MALE  \n",
       "4      2020-07-17 00:23:24  2020-07-17            Low    MALE  \n",
       "...                    ...         ...            ...     ...  \n",
       "21760  2020-02-29 09:13:25  2020-02-29           High    MALE  \n",
       "21761  2020-02-29 09:18:25  2020-02-29           High    MALE  \n",
       "21762  2020-02-29 09:23:24  2020-02-29           High    MALE  \n",
       "21763  2020-02-29 09:28:24  2020-02-29         Normal    MALE  \n",
       "21764  2020-02-29 09:33:24  2020-02-29         Normal    MALE  \n",
       "\n",
       "[21765 rows x 90 columns]"
      ]
     },
     "execution_count": 193,
     "metadata": {},
     "output_type": "execute_result"
    }
   ],
   "source": [
    "df_imputed"
   ]
  },
  {
   "cell_type": "code",
   "execution_count": 194,
   "id": "105140c6-d770-4c07-ab44-aa0c3b816918",
   "metadata": {
    "tags": []
   },
   "outputs": [],
   "source": [
    "df_imputed.to_csv('imputed.csv')"
   ]
  },
  {
   "cell_type": "code",
   "execution_count": 4,
   "id": "721fca46-fa42-4cee-817f-9628b64e6439",
   "metadata": {
    "tags": []
   },
   "outputs": [],
   "source": [
    "df_imputed = pd.read_csv('imputed.csv')"
   ]
  },
  {
   "cell_type": "code",
   "execution_count": 5,
   "id": "be31d3dd-158c-459a-b7ef-ffa971b6b7b6",
   "metadata": {
    "tags": []
   },
   "outputs": [
    {
     "data": {
      "text/plain": [
       "Index(['Unnamed: 0', 'IG', 'Participant', 'HR_Mean', 'HR_Max', 'HR_Std',\n",
       "       'HR_Skew', 'HR_Q1G', 'HR_Q3G', 'EDA_Mean', 'EDA_Max', 'EDA_Std',\n",
       "       'EDA_Skew', 'EDA_Q1G', 'EDA_Q3G', 'TEMP_Mean', 'TEMP_Max', 'TEMP_Std',\n",
       "       'TEMP_Skew', 'TEMP_Q1G', 'TEMP_Q3G', 'ACC_Mean', 'ACC_Max', 'ACC_Std',\n",
       "       'ACC_Skew', 'ACC_Q1G', 'ACC_Q3G', 'BVP_Mean', 'BVP_Max', 'BVP_Std',\n",
       "       'BVP_Skew', 'BVP_Q1G', 'BVP_Q3G', 'PeakEDA', 'maxHRV', 'minHRV',\n",
       "       'medianHRV', 'SDNN', 'NN50', 'pNN50', 'RMSSD', 'calories2hr',\n",
       "       'protien2hr', 'sugar2hr', 'carbs2hr', 'protien8hr', 'sugar8hr',\n",
       "       'carbs8hr', 'calories24hr', 'protien24hr', 'sugar24hr', 'carbs24hr',\n",
       "       'Eat', 'Eatcnt2hr', 'Eatcnt8hr', 'Eatcnt24hr', 'Eatmean2hr',\n",
       "       'Eatmean8hr', 'Eatmean24hr', 'Minfrommid', 'Hourfrommid', 'EDA_Min',\n",
       "       'calories8hr', 'TEMP_Min', 'BVP_Min', 'ACC_Min', 'HR_Min',\n",
       "       'HR_Mean_Historical', 'HR_Std_Historical', 'ACC_Mean_Historical',\n",
       "       'ACC_Std_Historical', 'Activity_Bouts', 'Mean', 'Std', 'Activity24',\n",
       "       'Activity1h', 'total_sleep_time', 'percent_time_asleep', 'waso',\n",
       "       'sleep_onset_latency', 'number_wake_bouts', 'stage_0_count',\n",
       "       'stage_1_count', 'stage_2_count', 'stage_3_count', 'stage_5_count',\n",
       "       'HbA1c', 'Time', 'Date', 'glucose_level', 'Gender'],\n",
       "      dtype='object')"
      ]
     },
     "execution_count": 5,
     "metadata": {},
     "output_type": "execute_result"
    }
   ],
   "source": [
    "df_imputed.columns"
   ]
  },
  {
   "cell_type": "code",
   "execution_count": 6,
   "id": "050525b5-c437-4d16-80a3-c37209b8cd69",
   "metadata": {
    "tags": []
   },
   "outputs": [],
   "source": [
    "df_imputed.drop(['Unnamed: 0'],axis=1, inplace=True)"
   ]
  },
  {
   "cell_type": "code",
   "execution_count": 7,
   "id": "9587dec0-f7c5-4cfd-8bf1-3224c8799ad6",
   "metadata": {
    "tags": []
   },
   "outputs": [],
   "source": [
    "categorical_features=['Participant','Gender']\n",
    "\n",
    "sleep_features= ['total_sleep_time', 'percent_time_asleep', 'waso',\n",
    "       'sleep_onset_latency', 'number_wake_bouts', 'stage_0_count',\n",
    "       'stage_1_count', 'stage_2_count', 'stage_3_count', 'stage_5_count']\n",
    "other_features=['HR_Mean', 'HR_Max', 'HR_Std', 'HR_Skew', 'HR_Q1G',\n",
    "       'HR_Q3G', 'EDA_Mean', 'EDA_Max', 'EDA_Std', 'EDA_Skew', 'EDA_Q1G',\n",
    "       'EDA_Q3G', 'TEMP_Mean', 'TEMP_Max', 'TEMP_Std', 'TEMP_Skew', 'TEMP_Q1G',\n",
    "       'TEMP_Q3G', 'ACC_Mean', 'ACC_Max', 'ACC_Std', 'ACC_Skew', 'ACC_Q1G',\n",
    "       'ACC_Q3G', 'BVP_Mean', 'BVP_Max', 'BVP_Std', 'BVP_Skew', 'BVP_Q1G',\n",
    "       'BVP_Q3G', 'PeakEDA', 'maxHRV', 'minHRV', 'medianHRV', 'SDNN', 'NN50',\n",
    "       'pNN50', 'RMSSD', 'calories2hr', 'protien2hr', 'sugar2hr', 'carbs2hr',\n",
    "       'protien8hr', 'sugar8hr', 'carbs8hr', 'calories24hr', 'protien24hr',\n",
    "       'sugar24hr', 'carbs24hr', 'Eat', 'Eatcnt2hr', 'Eatcnt8hr', 'Eatcnt24hr',\n",
    "       'Eatmean2hr', 'Eatmean8hr', 'Eatmean24hr', 'Minfrommid', 'Hourfrommid',\n",
    "       'EDA_Min', 'calories8hr', 'TEMP_Min', 'BVP_Min', 'ACC_Min', 'HR_Min',\n",
    "       'HR_Mean_Historical', 'HR_Std_Historical', 'ACC_Mean_Historical',\n",
    "       'ACC_Std_Historical', 'Activity_Bouts', 'Activity24',\n",
    "       'Activity1h']\n",
    "numeric_features=sleep_features+other_features\n",
    "\n"
   ]
  },
  {
   "cell_type": "code",
   "execution_count": null,
   "id": "c07276eb-88e0-48c0-99b8-2621d0675416",
   "metadata": {},
   "outputs": [],
   "source": []
  },
  {
   "cell_type": "code",
   "execution_count": 6,
   "id": "b221afe8-3471-4a21-8d0e-b6230e7adc24",
   "metadata": {
    "tags": []
   },
   "outputs": [],
   "source": [
    "import pandas as pd\n",
    "from sklearn.model_selection import train_test_split\n",
    "from sklearn.preprocessing import StandardScaler\n",
    "from sklearn.metrics import accuracy_score, classification_report, confusion_matrix\n",
    "from xgboost import XGBClassifier\n",
    "import matplotlib.pyplot as plt\n",
    "import numpy as np"
   ]
  },
  {
   "cell_type": "code",
   "execution_count": null,
   "id": "1e003ca7-1b03-4a1b-af37-c10e11040c80",
   "metadata": {},
   "outputs": [],
   "source": []
  },
  {
   "cell_type": "markdown",
   "id": "0379b4d8-0ace-4818-9451-b1565ca50694",
   "metadata": {},
   "source": [
    "It is important to carry out the imputation to make the data more complete. \n"
   ]
  },
  {
   "cell_type": "code",
   "execution_count": 29,
   "id": "59e4b0fd-7d64-4f19-9994-9579c90b1d23",
   "metadata": {
    "tags": []
   },
   "outputs": [],
   "source": []
  },
  {
   "cell_type": "code",
   "execution_count": 6,
   "id": "15e4ad5f-347a-4109-9394-8dd83093c7d0",
   "metadata": {
    "tags": []
   },
   "outputs": [],
   "source": [
    "for categories in categorical_features:\n",
    "    one_hot = pd.get_dummies(df_imputed[categories])\n",
    "    df_imputed = df_imputed.drop(categories,axis = 1)\n",
    "    df_imputed = df_imputed.join(one_hot)"
   ]
  },
  {
   "cell_type": "code",
   "execution_count": 7,
   "id": "1c3cd529-4511-4dbe-953c-b56a80738d5d",
   "metadata": {
    "tags": []
   },
   "outputs": [
    {
     "data": {
      "text/plain": [
       "Index([      'IG',  'HR_Mean',   'HR_Max',   'HR_Std',  'HR_Skew',   'HR_Q1G',\n",
       "         'HR_Q3G', 'EDA_Mean',  'EDA_Max',  'EDA_Std',\n",
       "       ...\n",
       "              9.0,       10.0,       11.0,       12.0,       13.0,       14.0,\n",
       "             15.0,       16.0,   'FEMALE',     'MALE'],\n",
       "      dtype='object', length=104)"
      ]
     },
     "execution_count": 7,
     "metadata": {},
     "output_type": "execute_result"
    }
   ],
   "source": [
    "df_imputed.columns\n"
   ]
  },
  {
   "cell_type": "code",
   "execution_count": 32,
   "id": "9f0addba-3f33-4ee4-90c2-e0335f0bf54c",
   "metadata": {
    "tags": []
   },
   "outputs": [],
   "source": [
    "X = df_imputed.drop([ 'Time','IG', 'Date', 'Mean', 'Std','glucose_level'], axis=1)\n",
    "y = df_imputed['IG']\n",
    "\n"
   ]
  },
  {
   "cell_type": "code",
   "execution_count": 33,
   "id": "cfa3209e-af15-4601-bf54-b05400d6af1e",
   "metadata": {
    "tags": []
   },
   "outputs": [
    {
     "data": {
      "text/plain": [
       "0         97.0\n",
       "1         95.0\n",
       "2         92.0\n",
       "3         89.0\n",
       "4         90.0\n",
       "         ...  \n",
       "21756    174.0\n",
       "21760    181.0\n",
       "21761    177.0\n",
       "21763    166.0\n",
       "21764    163.0\n",
       "Name: IG, Length: 20369, dtype: float64"
      ]
     },
     "execution_count": 33,
     "metadata": {},
     "output_type": "execute_result"
    }
   ],
   "source": [
    "y"
   ]
  },
  {
   "cell_type": "code",
   "execution_count": 113,
   "id": "c9c3c2f1-45ba-4a8e-aa18-7a427cb83ed7",
   "metadata": {
    "tags": []
   },
   "outputs": [],
   "source": [
    "y = y.map({'Low': 0, 'Normal': 1, 'High': 2})"
   ]
  },
  {
   "cell_type": "code",
   "execution_count": 86,
   "id": "36a09c32-f413-46de-b92a-bae84120584a",
   "metadata": {
    "tags": []
   },
   "outputs": [
    {
     "data": {
      "text/plain": [
       "0        1\n",
       "1        1\n",
       "2        1\n",
       "3        0\n",
       "4        0\n",
       "        ..\n",
       "21760    2\n",
       "21761    2\n",
       "21762    2\n",
       "21763    1\n",
       "21764    1\n",
       "Name: glucose_level, Length: 21765, dtype: int64"
      ]
     },
     "execution_count": 86,
     "metadata": {},
     "output_type": "execute_result"
    }
   ],
   "source": [
    "y"
   ]
  },
  {
   "cell_type": "code",
   "execution_count": 44,
   "id": "85fc5b50-79b8-41f2-9199-0696f5213dde",
   "metadata": {
    "tags": []
   },
   "outputs": [],
   "source": [
    "xgb_model = XGBClassifier(objective='multi:softmax', num_class=3, random_state=42,booster='gbtree',\n",
    "                          alpha= 2.1582604452883043e-06, subsample= 0.7964068192491254,\n",
    "                          colsample_bytree=0.9717438348841921,max_depth=9,min_child_weight=5,eta=0.6593033094128061,\n",
    "                          gamma= 0.0001224964179463803,grow_policy=\"depthwise\")"
   ]
  },
  {
   "cell_type": "code",
   "execution_count": null,
   "id": "860b8b34-debf-4fce-985f-9fbaac0bd720",
   "metadata": {},
   "outputs": [],
   "source": []
  },
  {
   "cell_type": "code",
   "execution_count": 199,
   "id": "54e1ddaa-cb31-4a81-a15b-4d62abd07fbb",
   "metadata": {
    "tags": []
   },
   "outputs": [],
   "source": [
    "\n",
    "\n",
    "# Split the data into training and testing sets\n",
    "X_train, X_test, y_train, y_test = train_test_split(X, y, test_size=0.2, random_state=42)\n",
    "\n",
    "# Standardize the features=\n",
    "scaler = StandardScaler()\n",
    "X[numeric_features] = scaler.fit_transform(X[numeric_features])\n",
    "X_test[numeric_features] = scaler.transform(X_test[numeric_features])"
   ]
  },
  {
   "cell_type": "code",
   "execution_count": 58,
   "id": "a7adb45b-4476-40cc-89df-70d3d05ed5a8",
   "metadata": {
    "tags": []
   },
   "outputs": [
    {
     "data": {
      "text/plain": [
       "0        1\n",
       "1        1\n",
       "2        1\n",
       "3        0\n",
       "4        0\n",
       "        ..\n",
       "21760    2\n",
       "21761    2\n",
       "21762    2\n",
       "21763    1\n",
       "21764    1\n",
       "Name: glucose_level, Length: 21765, dtype: int64"
      ]
     },
     "execution_count": 58,
     "metadata": {},
     "output_type": "execute_result"
    }
   ],
   "source": [
    "y"
   ]
  },
  {
   "cell_type": "code",
   "execution_count": 59,
   "id": "f3d30240-c89c-4913-832b-145e714a7e5f",
   "metadata": {
    "tags": []
   },
   "outputs": [
    {
     "data": {
      "text/html": [
       "<style>#sk-container-id-1 {color: black;}#sk-container-id-1 pre{padding: 0;}#sk-container-id-1 div.sk-toggleable {background-color: white;}#sk-container-id-1 label.sk-toggleable__label {cursor: pointer;display: block;width: 100%;margin-bottom: 0;padding: 0.3em;box-sizing: border-box;text-align: center;}#sk-container-id-1 label.sk-toggleable__label-arrow:before {content: \"▸\";float: left;margin-right: 0.25em;color: #696969;}#sk-container-id-1 label.sk-toggleable__label-arrow:hover:before {color: black;}#sk-container-id-1 div.sk-estimator:hover label.sk-toggleable__label-arrow:before {color: black;}#sk-container-id-1 div.sk-toggleable__content {max-height: 0;max-width: 0;overflow: hidden;text-align: left;background-color: #f0f8ff;}#sk-container-id-1 div.sk-toggleable__content pre {margin: 0.2em;color: black;border-radius: 0.25em;background-color: #f0f8ff;}#sk-container-id-1 input.sk-toggleable__control:checked~div.sk-toggleable__content {max-height: 200px;max-width: 100%;overflow: auto;}#sk-container-id-1 input.sk-toggleable__control:checked~label.sk-toggleable__label-arrow:before {content: \"▾\";}#sk-container-id-1 div.sk-estimator input.sk-toggleable__control:checked~label.sk-toggleable__label {background-color: #d4ebff;}#sk-container-id-1 div.sk-label input.sk-toggleable__control:checked~label.sk-toggleable__label {background-color: #d4ebff;}#sk-container-id-1 input.sk-hidden--visually {border: 0;clip: rect(1px 1px 1px 1px);clip: rect(1px, 1px, 1px, 1px);height: 1px;margin: -1px;overflow: hidden;padding: 0;position: absolute;width: 1px;}#sk-container-id-1 div.sk-estimator {font-family: monospace;background-color: #f0f8ff;border: 1px dotted black;border-radius: 0.25em;box-sizing: border-box;margin-bottom: 0.5em;}#sk-container-id-1 div.sk-estimator:hover {background-color: #d4ebff;}#sk-container-id-1 div.sk-parallel-item::after {content: \"\";width: 100%;border-bottom: 1px solid gray;flex-grow: 1;}#sk-container-id-1 div.sk-label:hover label.sk-toggleable__label {background-color: #d4ebff;}#sk-container-id-1 div.sk-serial::before {content: \"\";position: absolute;border-left: 1px solid gray;box-sizing: border-box;top: 0;bottom: 0;left: 50%;z-index: 0;}#sk-container-id-1 div.sk-serial {display: flex;flex-direction: column;align-items: center;background-color: white;padding-right: 0.2em;padding-left: 0.2em;position: relative;}#sk-container-id-1 div.sk-item {position: relative;z-index: 1;}#sk-container-id-1 div.sk-parallel {display: flex;align-items: stretch;justify-content: center;background-color: white;position: relative;}#sk-container-id-1 div.sk-item::before, #sk-container-id-1 div.sk-parallel-item::before {content: \"\";position: absolute;border-left: 1px solid gray;box-sizing: border-box;top: 0;bottom: 0;left: 50%;z-index: -1;}#sk-container-id-1 div.sk-parallel-item {display: flex;flex-direction: column;z-index: 1;position: relative;background-color: white;}#sk-container-id-1 div.sk-parallel-item:first-child::after {align-self: flex-end;width: 50%;}#sk-container-id-1 div.sk-parallel-item:last-child::after {align-self: flex-start;width: 50%;}#sk-container-id-1 div.sk-parallel-item:only-child::after {width: 0;}#sk-container-id-1 div.sk-dashed-wrapped {border: 1px dashed gray;margin: 0 0.4em 0.5em 0.4em;box-sizing: border-box;padding-bottom: 0.4em;background-color: white;}#sk-container-id-1 div.sk-label label {font-family: monospace;font-weight: bold;display: inline-block;line-height: 1.2em;}#sk-container-id-1 div.sk-label-container {text-align: center;}#sk-container-id-1 div.sk-container {/* jupyter's `normalize.less` sets `[hidden] { display: none; }` but bootstrap.min.css set `[hidden] { display: none !important; }` so we also need the `!important` here to be able to override the default hidden behavior on the sphinx rendered scikit-learn.org. See: https://github.com/scikit-learn/scikit-learn/issues/21755 */display: inline-block !important;position: relative;}#sk-container-id-1 div.sk-text-repr-fallback {display: none;}</style><div id=\"sk-container-id-1\" class=\"sk-top-container\"><div class=\"sk-text-repr-fallback\"><pre>XGBClassifier(alpha=2.1582604452883043e-06, base_score=None, booster=&#x27;gbtree&#x27;,\n",
       "              callbacks=None, colsample_bylevel=None, colsample_bynode=None,\n",
       "              colsample_bytree=0.9717438348841921, device=None,\n",
       "              early_stopping_rounds=None, enable_categorical=False,\n",
       "              eta=0.6593033094128061, eval_metric=None, feature_types=None,\n",
       "              gamma=0.0001224964179463803, grow_policy=&#x27;depthwise&#x27;,\n",
       "              importance_type=None, interaction_constraints=None,\n",
       "              learning_rate=None, max_bin=None, max_cat_threshold=None,\n",
       "              max_cat_to_onehot=None, max_delta_step=None, max_depth=9,\n",
       "              max_leaves=None, min_child_weight=5, missing=nan,\n",
       "              monotone_constraints=None, multi_strategy=None, n_estimators=None,\n",
       "              n_jobs=None, ...)</pre><b>In a Jupyter environment, please rerun this cell to show the HTML representation or trust the notebook. <br />On GitHub, the HTML representation is unable to render, please try loading this page with nbviewer.org.</b></div><div class=\"sk-container\" hidden><div class=\"sk-item\"><div class=\"sk-estimator sk-toggleable\"><input class=\"sk-toggleable__control sk-hidden--visually\" id=\"sk-estimator-id-1\" type=\"checkbox\" checked><label for=\"sk-estimator-id-1\" class=\"sk-toggleable__label sk-toggleable__label-arrow\">XGBClassifier</label><div class=\"sk-toggleable__content\"><pre>XGBClassifier(alpha=2.1582604452883043e-06, base_score=None, booster=&#x27;gbtree&#x27;,\n",
       "              callbacks=None, colsample_bylevel=None, colsample_bynode=None,\n",
       "              colsample_bytree=0.9717438348841921, device=None,\n",
       "              early_stopping_rounds=None, enable_categorical=False,\n",
       "              eta=0.6593033094128061, eval_metric=None, feature_types=None,\n",
       "              gamma=0.0001224964179463803, grow_policy=&#x27;depthwise&#x27;,\n",
       "              importance_type=None, interaction_constraints=None,\n",
       "              learning_rate=None, max_bin=None, max_cat_threshold=None,\n",
       "              max_cat_to_onehot=None, max_delta_step=None, max_depth=9,\n",
       "              max_leaves=None, min_child_weight=5, missing=nan,\n",
       "              monotone_constraints=None, multi_strategy=None, n_estimators=None,\n",
       "              n_jobs=None, ...)</pre></div></div></div></div></div>"
      ],
      "text/plain": [
       "XGBClassifier(alpha=2.1582604452883043e-06, base_score=None, booster='gbtree',\n",
       "              callbacks=None, colsample_bylevel=None, colsample_bynode=None,\n",
       "              colsample_bytree=0.9717438348841921, device=None,\n",
       "              early_stopping_rounds=None, enable_categorical=False,\n",
       "              eta=0.6593033094128061, eval_metric=None, feature_types=None,\n",
       "              gamma=0.0001224964179463803, grow_policy='depthwise',\n",
       "              importance_type=None, interaction_constraints=None,\n",
       "              learning_rate=None, max_bin=None, max_cat_threshold=None,\n",
       "              max_cat_to_onehot=None, max_delta_step=None, max_depth=9,\n",
       "              max_leaves=None, min_child_weight=5, missing=nan,\n",
       "              monotone_constraints=None, multi_strategy=None, n_estimators=None,\n",
       "              n_jobs=None, ...)"
      ]
     },
     "execution_count": 59,
     "metadata": {},
     "output_type": "execute_result"
    }
   ],
   "source": [
    " xgb_model.fit(X_train,y_train)"
   ]
  },
  {
   "cell_type": "code",
   "execution_count": 48,
   "id": "b0813f80-1b31-4297-ae3b-432ec07f2a50",
   "metadata": {
    "tags": []
   },
   "outputs": [
    {
     "data": {
      "text/plain": [
       "0       NaN\n",
       "1       NaN\n",
       "2       NaN\n",
       "3       NaN\n",
       "4       NaN\n",
       "         ..\n",
       "21760   NaN\n",
       "21761   NaN\n",
       "21762   NaN\n",
       "21763   NaN\n",
       "21764   NaN\n",
       "Name: glucose_level, Length: 21765, dtype: float64"
      ]
     },
     "execution_count": 48,
     "metadata": {},
     "output_type": "execute_result"
    }
   ],
   "source": [
    "y"
   ]
  },
  {
   "cell_type": "code",
   "execution_count": 60,
   "id": "d8fa8ef2-d1f9-4d26-b61d-c8b81b5b3b7b",
   "metadata": {
    "tags": []
   },
   "outputs": [],
   "source": [
    "y_pred = xgb_model.predict(X_test)"
   ]
  },
  {
   "cell_type": "code",
   "execution_count": 61,
   "id": "e134bdd4-14d7-4bf2-ba6e-af3058a326ad",
   "metadata": {
    "tags": []
   },
   "outputs": [],
   "source": [
    "accuracy = accuracy_score(y_test, y_pred)"
   ]
  },
  {
   "cell_type": "code",
   "execution_count": 62,
   "id": "ebf3df23-2f7c-481d-b884-ac28659dd832",
   "metadata": {
    "tags": []
   },
   "outputs": [],
   "source": [
    "classification_rep = classification_report(y_test, y_pred)"
   ]
  },
  {
   "cell_type": "code",
   "execution_count": 63,
   "id": "8150cf95-42c9-41bc-aeb1-324309c71453",
   "metadata": {
    "tags": []
   },
   "outputs": [
    {
     "name": "stdout",
     "output_type": "stream",
     "text": [
      "Accuracy: 0.87\n",
      "Classification Report:\n",
      "               precision    recall  f1-score   support\n",
      "\n",
      "           0       0.83      0.59      0.69       554\n",
      "           1       0.87      0.96      0.91      3177\n",
      "           2       0.85      0.63      0.73       622\n",
      "\n",
      "    accuracy                           0.87      4353\n",
      "   macro avg       0.85      0.73      0.78      4353\n",
      "weighted avg       0.86      0.87      0.86      4353\n",
      "\n"
     ]
    }
   ],
   "source": [
    "print(f\"Accuracy: {accuracy:.2f}\")\n",
    "print(\"Classification Report:\\n\", classification_rep)"
   ]
  },
  {
   "cell_type": "code",
   "execution_count": 34,
   "id": "59af24a1-03d2-4e99-84fd-08cf084f99a3",
   "metadata": {
    "tags": []
   },
   "outputs": [],
   "source": [
    "import pandas as pd\n",
    "import numpy as np\n",
    "from scipy.stats import friedmanchisquare\n",
    "from sklearn.model_selection import cross_val_predict, KFold\n",
    "from sklearn.tree import DecisionTreeRegressor\n",
    "from sklearn.svm import SVR\n",
    "from sklearn.ensemble import RandomForestRegressor, AdaBoostRegressor\n",
    "from sklearn.linear_model import LassoCV, Ridge\n",
    "from sklearn.neighbors import KNeighborsRegressor\n",
    "from xgboost import XGBRegressor\n",
    "from sklearn.metrics import mean_absolute_error, mean_squared_error, r2_score, explained_variance_score\n",
    "from sklearn.preprocessing import StandardScaler\n",
    "from scipy.stats import friedmanchisquare\n",
    "from sklearn.model_selection import KFold"
   ]
  },
  {
   "cell_type": "code",
   "execution_count": 35,
   "id": "b0c5c129-60f3-496d-b865-0e9cf142151e",
   "metadata": {
    "tags": []
   },
   "outputs": [],
   "source": [
    "# Define models\n",
    "models = {\n",
    "    'DT': DecisionTreeRegressor(),\n",
    "    'SVM': SVR(),\n",
    "    'RF': RandomForestRegressor(),\n",
    "    'KNN': KNeighborsRegressor(),\n",
    "    'LassoCV': LassoCV(),\n",
    "    'Ridge': Ridge(),\n",
    "    'AdaBoost': AdaBoostRegressor(),\n",
    "    'XGBOOST': XGBRegressor()\n",
    "}"
   ]
  },
  {
   "cell_type": "code",
   "execution_count": 36,
   "id": "10382144-db7b-472c-8249-a2b29a40d8a2",
   "metadata": {
    "tags": []
   },
   "outputs": [],
   "source": [
    "X.columns = X.columns.astype(str)"
   ]
  },
  {
   "cell_type": "code",
   "execution_count": 203,
   "id": "02229600-be5c-4bb1-9e1b-ac17d309af18",
   "metadata": {
    "tags": []
   },
   "outputs": [
    {
     "data": {
      "text/plain": [
       "0         97.0\n",
       "1         95.0\n",
       "2         92.0\n",
       "3         89.0\n",
       "4         90.0\n",
       "         ...  \n",
       "21760    181.0\n",
       "21761    177.0\n",
       "21762    171.0\n",
       "21763    166.0\n",
       "21764    163.0\n",
       "Name: IG, Length: 21765, dtype: float64"
      ]
     },
     "execution_count": 203,
     "metadata": {},
     "output_type": "execute_result"
    }
   ],
   "source": [
    "y"
   ]
  },
  {
   "cell_type": "code",
   "execution_count": 37,
   "id": "f1b7dbb8-814a-4fac-8153-18a3275050b4",
   "metadata": {
    "tags": []
   },
   "outputs": [
    {
     "name": "stdout",
     "output_type": "stream",
     "text": [
      "model :DT\n"
     ]
    },
    {
     "ename": "ValueError",
     "evalue": "could not convert string to float: 'MALE'",
     "output_type": "error",
     "traceback": [
      "\u001b[0;31m---------------------------------------------------------------------------\u001b[0m",
      "\u001b[0;31mValueError\u001b[0m                                Traceback (most recent call last)",
      "Input \u001b[0;32mIn [37]\u001b[0m, in \u001b[0;36m<cell line: 6>\u001b[0;34m()\u001b[0m\n\u001b[1;32m      9\u001b[0m X_train, X_test \u001b[38;5;241m=\u001b[39m X\u001b[38;5;241m.\u001b[39miloc[train_index], X\u001b[38;5;241m.\u001b[39miloc[test_index]\n\u001b[1;32m     10\u001b[0m y_train, y_test \u001b[38;5;241m=\u001b[39m y\u001b[38;5;241m.\u001b[39miloc[train_index], y\u001b[38;5;241m.\u001b[39miloc[test_index]\n\u001b[0;32m---> 12\u001b[0m \u001b[43mmodel\u001b[49m\u001b[38;5;241;43m.\u001b[39;49m\u001b[43mfit\u001b[49m\u001b[43m(\u001b[49m\u001b[43mX_train\u001b[49m\u001b[43m,\u001b[49m\u001b[43m \u001b[49m\u001b[43my_train\u001b[49m\u001b[43m)\u001b[49m\n\u001b[1;32m     13\u001b[0m y_pred \u001b[38;5;241m=\u001b[39m model\u001b[38;5;241m.\u001b[39mpredict(X_test)\n\u001b[1;32m     15\u001b[0m mae \u001b[38;5;241m=\u001b[39m mean_absolute_error(y_test, y_pred)\n",
      "File \u001b[0;32m~/.local/Python-3.10-gimkl-2022a/lib/python3.10/site-packages/sklearn/base.py:1152\u001b[0m, in \u001b[0;36m_fit_context.<locals>.decorator.<locals>.wrapper\u001b[0;34m(estimator, *args, **kwargs)\u001b[0m\n\u001b[1;32m   1145\u001b[0m     estimator\u001b[38;5;241m.\u001b[39m_validate_params()\n\u001b[1;32m   1147\u001b[0m \u001b[38;5;28;01mwith\u001b[39;00m config_context(\n\u001b[1;32m   1148\u001b[0m     skip_parameter_validation\u001b[38;5;241m=\u001b[39m(\n\u001b[1;32m   1149\u001b[0m         prefer_skip_nested_validation \u001b[38;5;129;01mor\u001b[39;00m global_skip_validation\n\u001b[1;32m   1150\u001b[0m     )\n\u001b[1;32m   1151\u001b[0m ):\n\u001b[0;32m-> 1152\u001b[0m     \u001b[38;5;28;01mreturn\u001b[39;00m \u001b[43mfit_method\u001b[49m\u001b[43m(\u001b[49m\u001b[43mestimator\u001b[49m\u001b[43m,\u001b[49m\u001b[43m \u001b[49m\u001b[38;5;241;43m*\u001b[39;49m\u001b[43margs\u001b[49m\u001b[43m,\u001b[49m\u001b[43m \u001b[49m\u001b[38;5;241;43m*\u001b[39;49m\u001b[38;5;241;43m*\u001b[39;49m\u001b[43mkwargs\u001b[49m\u001b[43m)\u001b[49m\n",
      "File \u001b[0;32m~/.local/Python-3.10-gimkl-2022a/lib/python3.10/site-packages/sklearn/tree/_classes.py:1320\u001b[0m, in \u001b[0;36mDecisionTreeRegressor.fit\u001b[0;34m(self, X, y, sample_weight, check_input)\u001b[0m\n\u001b[1;32m   1290\u001b[0m \u001b[38;5;129m@_fit_context\u001b[39m(prefer_skip_nested_validation\u001b[38;5;241m=\u001b[39m\u001b[38;5;28;01mTrue\u001b[39;00m)\n\u001b[1;32m   1291\u001b[0m \u001b[38;5;28;01mdef\u001b[39;00m \u001b[38;5;21mfit\u001b[39m(\u001b[38;5;28mself\u001b[39m, X, y, sample_weight\u001b[38;5;241m=\u001b[39m\u001b[38;5;28;01mNone\u001b[39;00m, check_input\u001b[38;5;241m=\u001b[39m\u001b[38;5;28;01mTrue\u001b[39;00m):\n\u001b[1;32m   1292\u001b[0m     \u001b[38;5;124;03m\"\"\"Build a decision tree regressor from the training set (X, y).\u001b[39;00m\n\u001b[1;32m   1293\u001b[0m \n\u001b[1;32m   1294\u001b[0m \u001b[38;5;124;03m    Parameters\u001b[39;00m\n\u001b[0;32m   (...)\u001b[0m\n\u001b[1;32m   1317\u001b[0m \u001b[38;5;124;03m        Fitted estimator.\u001b[39;00m\n\u001b[1;32m   1318\u001b[0m \u001b[38;5;124;03m    \"\"\"\u001b[39;00m\n\u001b[0;32m-> 1320\u001b[0m     \u001b[38;5;28;43msuper\u001b[39;49m\u001b[43m(\u001b[49m\u001b[43m)\u001b[49m\u001b[38;5;241;43m.\u001b[39;49m\u001b[43m_fit\u001b[49m\u001b[43m(\u001b[49m\n\u001b[1;32m   1321\u001b[0m \u001b[43m        \u001b[49m\u001b[43mX\u001b[49m\u001b[43m,\u001b[49m\n\u001b[1;32m   1322\u001b[0m \u001b[43m        \u001b[49m\u001b[43my\u001b[49m\u001b[43m,\u001b[49m\n\u001b[1;32m   1323\u001b[0m \u001b[43m        \u001b[49m\u001b[43msample_weight\u001b[49m\u001b[38;5;241;43m=\u001b[39;49m\u001b[43msample_weight\u001b[49m\u001b[43m,\u001b[49m\n\u001b[1;32m   1324\u001b[0m \u001b[43m        \u001b[49m\u001b[43mcheck_input\u001b[49m\u001b[38;5;241;43m=\u001b[39;49m\u001b[43mcheck_input\u001b[49m\u001b[43m,\u001b[49m\n\u001b[1;32m   1325\u001b[0m \u001b[43m    \u001b[49m\u001b[43m)\u001b[49m\n\u001b[1;32m   1326\u001b[0m     \u001b[38;5;28;01mreturn\u001b[39;00m \u001b[38;5;28mself\u001b[39m\n",
      "File \u001b[0;32m~/.local/Python-3.10-gimkl-2022a/lib/python3.10/site-packages/sklearn/tree/_classes.py:242\u001b[0m, in \u001b[0;36mBaseDecisionTree._fit\u001b[0;34m(self, X, y, sample_weight, check_input, missing_values_in_feature_mask)\u001b[0m\n\u001b[1;32m    238\u001b[0m check_X_params \u001b[38;5;241m=\u001b[39m \u001b[38;5;28mdict\u001b[39m(\n\u001b[1;32m    239\u001b[0m     dtype\u001b[38;5;241m=\u001b[39mDTYPE, accept_sparse\u001b[38;5;241m=\u001b[39m\u001b[38;5;124m\"\u001b[39m\u001b[38;5;124mcsc\u001b[39m\u001b[38;5;124m\"\u001b[39m, force_all_finite\u001b[38;5;241m=\u001b[39m\u001b[38;5;28;01mFalse\u001b[39;00m\n\u001b[1;32m    240\u001b[0m )\n\u001b[1;32m    241\u001b[0m check_y_params \u001b[38;5;241m=\u001b[39m \u001b[38;5;28mdict\u001b[39m(ensure_2d\u001b[38;5;241m=\u001b[39m\u001b[38;5;28;01mFalse\u001b[39;00m, dtype\u001b[38;5;241m=\u001b[39m\u001b[38;5;28;01mNone\u001b[39;00m)\n\u001b[0;32m--> 242\u001b[0m X, y \u001b[38;5;241m=\u001b[39m \u001b[38;5;28;43mself\u001b[39;49m\u001b[38;5;241;43m.\u001b[39;49m\u001b[43m_validate_data\u001b[49m\u001b[43m(\u001b[49m\n\u001b[1;32m    243\u001b[0m \u001b[43m    \u001b[49m\u001b[43mX\u001b[49m\u001b[43m,\u001b[49m\u001b[43m \u001b[49m\u001b[43my\u001b[49m\u001b[43m,\u001b[49m\u001b[43m \u001b[49m\u001b[43mvalidate_separately\u001b[49m\u001b[38;5;241;43m=\u001b[39;49m\u001b[43m(\u001b[49m\u001b[43mcheck_X_params\u001b[49m\u001b[43m,\u001b[49m\u001b[43m \u001b[49m\u001b[43mcheck_y_params\u001b[49m\u001b[43m)\u001b[49m\n\u001b[1;32m    244\u001b[0m \u001b[43m\u001b[49m\u001b[43m)\u001b[49m\n\u001b[1;32m    246\u001b[0m missing_values_in_feature_mask \u001b[38;5;241m=\u001b[39m (\n\u001b[1;32m    247\u001b[0m     \u001b[38;5;28mself\u001b[39m\u001b[38;5;241m.\u001b[39m_compute_missing_values_in_feature_mask(X)\n\u001b[1;32m    248\u001b[0m )\n\u001b[1;32m    249\u001b[0m \u001b[38;5;28;01mif\u001b[39;00m issparse(X):\n",
      "File \u001b[0;32m~/.local/Python-3.10-gimkl-2022a/lib/python3.10/site-packages/sklearn/base.py:617\u001b[0m, in \u001b[0;36mBaseEstimator._validate_data\u001b[0;34m(self, X, y, reset, validate_separately, cast_to_ndarray, **check_params)\u001b[0m\n\u001b[1;32m    615\u001b[0m \u001b[38;5;28;01mif\u001b[39;00m \u001b[38;5;124m\"\u001b[39m\u001b[38;5;124mestimator\u001b[39m\u001b[38;5;124m\"\u001b[39m \u001b[38;5;129;01mnot\u001b[39;00m \u001b[38;5;129;01min\u001b[39;00m check_X_params:\n\u001b[1;32m    616\u001b[0m     check_X_params \u001b[38;5;241m=\u001b[39m {\u001b[38;5;241m*\u001b[39m\u001b[38;5;241m*\u001b[39mdefault_check_params, \u001b[38;5;241m*\u001b[39m\u001b[38;5;241m*\u001b[39mcheck_X_params}\n\u001b[0;32m--> 617\u001b[0m X \u001b[38;5;241m=\u001b[39m \u001b[43mcheck_array\u001b[49m\u001b[43m(\u001b[49m\u001b[43mX\u001b[49m\u001b[43m,\u001b[49m\u001b[43m \u001b[49m\u001b[43minput_name\u001b[49m\u001b[38;5;241;43m=\u001b[39;49m\u001b[38;5;124;43m\"\u001b[39;49m\u001b[38;5;124;43mX\u001b[39;49m\u001b[38;5;124;43m\"\u001b[39;49m\u001b[43m,\u001b[49m\u001b[43m \u001b[49m\u001b[38;5;241;43m*\u001b[39;49m\u001b[38;5;241;43m*\u001b[39;49m\u001b[43mcheck_X_params\u001b[49m\u001b[43m)\u001b[49m\n\u001b[1;32m    618\u001b[0m \u001b[38;5;28;01mif\u001b[39;00m \u001b[38;5;124m\"\u001b[39m\u001b[38;5;124mestimator\u001b[39m\u001b[38;5;124m\"\u001b[39m \u001b[38;5;129;01mnot\u001b[39;00m \u001b[38;5;129;01min\u001b[39;00m check_y_params:\n\u001b[1;32m    619\u001b[0m     check_y_params \u001b[38;5;241m=\u001b[39m {\u001b[38;5;241m*\u001b[39m\u001b[38;5;241m*\u001b[39mdefault_check_params, \u001b[38;5;241m*\u001b[39m\u001b[38;5;241m*\u001b[39mcheck_y_params}\n",
      "File \u001b[0;32m~/.local/Python-3.10-gimkl-2022a/lib/python3.10/site-packages/sklearn/utils/validation.py:915\u001b[0m, in \u001b[0;36mcheck_array\u001b[0;34m(array, accept_sparse, accept_large_sparse, dtype, order, copy, force_all_finite, ensure_2d, allow_nd, ensure_min_samples, ensure_min_features, estimator, input_name)\u001b[0m\n\u001b[1;32m    913\u001b[0m         array \u001b[38;5;241m=\u001b[39m xp\u001b[38;5;241m.\u001b[39mastype(array, dtype, copy\u001b[38;5;241m=\u001b[39m\u001b[38;5;28;01mFalse\u001b[39;00m)\n\u001b[1;32m    914\u001b[0m     \u001b[38;5;28;01melse\u001b[39;00m:\n\u001b[0;32m--> 915\u001b[0m         array \u001b[38;5;241m=\u001b[39m \u001b[43m_asarray_with_order\u001b[49m\u001b[43m(\u001b[49m\u001b[43marray\u001b[49m\u001b[43m,\u001b[49m\u001b[43m \u001b[49m\u001b[43morder\u001b[49m\u001b[38;5;241;43m=\u001b[39;49m\u001b[43morder\u001b[49m\u001b[43m,\u001b[49m\u001b[43m \u001b[49m\u001b[43mdtype\u001b[49m\u001b[38;5;241;43m=\u001b[39;49m\u001b[43mdtype\u001b[49m\u001b[43m,\u001b[49m\u001b[43m \u001b[49m\u001b[43mxp\u001b[49m\u001b[38;5;241;43m=\u001b[39;49m\u001b[43mxp\u001b[49m\u001b[43m)\u001b[49m\n\u001b[1;32m    916\u001b[0m \u001b[38;5;28;01mexcept\u001b[39;00m ComplexWarning \u001b[38;5;28;01mas\u001b[39;00m complex_warning:\n\u001b[1;32m    917\u001b[0m     \u001b[38;5;28;01mraise\u001b[39;00m \u001b[38;5;167;01mValueError\u001b[39;00m(\n\u001b[1;32m    918\u001b[0m         \u001b[38;5;124m\"\u001b[39m\u001b[38;5;124mComplex data not supported\u001b[39m\u001b[38;5;130;01m\\n\u001b[39;00m\u001b[38;5;132;01m{}\u001b[39;00m\u001b[38;5;130;01m\\n\u001b[39;00m\u001b[38;5;124m\"\u001b[39m\u001b[38;5;241m.\u001b[39mformat(array)\n\u001b[1;32m    919\u001b[0m     ) \u001b[38;5;28;01mfrom\u001b[39;00m \u001b[38;5;21;01mcomplex_warning\u001b[39;00m\n",
      "File \u001b[0;32m~/.local/Python-3.10-gimkl-2022a/lib/python3.10/site-packages/sklearn/utils/_array_api.py:380\u001b[0m, in \u001b[0;36m_asarray_with_order\u001b[0;34m(array, dtype, order, copy, xp)\u001b[0m\n\u001b[1;32m    378\u001b[0m     array \u001b[38;5;241m=\u001b[39m numpy\u001b[38;5;241m.\u001b[39marray(array, order\u001b[38;5;241m=\u001b[39morder, dtype\u001b[38;5;241m=\u001b[39mdtype)\n\u001b[1;32m    379\u001b[0m \u001b[38;5;28;01melse\u001b[39;00m:\n\u001b[0;32m--> 380\u001b[0m     array \u001b[38;5;241m=\u001b[39m \u001b[43mnumpy\u001b[49m\u001b[38;5;241;43m.\u001b[39;49m\u001b[43masarray\u001b[49m\u001b[43m(\u001b[49m\u001b[43marray\u001b[49m\u001b[43m,\u001b[49m\u001b[43m \u001b[49m\u001b[43morder\u001b[49m\u001b[38;5;241;43m=\u001b[39;49m\u001b[43morder\u001b[49m\u001b[43m,\u001b[49m\u001b[43m \u001b[49m\u001b[43mdtype\u001b[49m\u001b[38;5;241;43m=\u001b[39;49m\u001b[43mdtype\u001b[49m\u001b[43m)\u001b[49m\n\u001b[1;32m    382\u001b[0m \u001b[38;5;66;03m# At this point array is a NumPy ndarray. We convert it to an array\u001b[39;00m\n\u001b[1;32m    383\u001b[0m \u001b[38;5;66;03m# container that is consistent with the input's namespace.\u001b[39;00m\n\u001b[1;32m    384\u001b[0m \u001b[38;5;28;01mreturn\u001b[39;00m xp\u001b[38;5;241m.\u001b[39masarray(array)\n",
      "File \u001b[0;32m~/.local/Python-3.10-gimkl-2022a/lib/python3.10/site-packages/pandas/core/generic.py:2070\u001b[0m, in \u001b[0;36mNDFrame.__array__\u001b[0;34m(self, dtype)\u001b[0m\n\u001b[1;32m   2069\u001b[0m \u001b[38;5;28;01mdef\u001b[39;00m \u001b[38;5;21m__array__\u001b[39m(\u001b[38;5;28mself\u001b[39m, dtype: npt\u001b[38;5;241m.\u001b[39mDTypeLike \u001b[38;5;241m|\u001b[39m \u001b[38;5;28;01mNone\u001b[39;00m \u001b[38;5;241m=\u001b[39m \u001b[38;5;28;01mNone\u001b[39;00m) \u001b[38;5;241m-\u001b[39m\u001b[38;5;241m>\u001b[39m np\u001b[38;5;241m.\u001b[39mndarray:\n\u001b[0;32m-> 2070\u001b[0m     \u001b[38;5;28;01mreturn\u001b[39;00m \u001b[43mnp\u001b[49m\u001b[38;5;241;43m.\u001b[39;49m\u001b[43masarray\u001b[49m\u001b[43m(\u001b[49m\u001b[38;5;28;43mself\u001b[39;49m\u001b[38;5;241;43m.\u001b[39;49m\u001b[43m_values\u001b[49m\u001b[43m,\u001b[49m\u001b[43m \u001b[49m\u001b[43mdtype\u001b[49m\u001b[38;5;241;43m=\u001b[39;49m\u001b[43mdtype\u001b[49m\u001b[43m)\u001b[49m\n",
      "\u001b[0;31mValueError\u001b[0m: could not convert string to float: 'MALE'"
     ]
    }
   ],
   "source": [
    "\n",
    "# Initialize performance metric lists\n",
    "results = []\n",
    "\n",
    "kf = KFold(n_splits=10, shuffle=True, random_state=42)\n",
    "\n",
    "for name, model in models.items():\n",
    "    print(f'model :{name}')\n",
    "    for fold, (train_index, test_index) in enumerate(kf.split(X), 1):\n",
    "        X_train, X_test = X.iloc[train_index], X.iloc[test_index]\n",
    "        y_train, y_test = y.iloc[train_index], y.iloc[test_index]\n",
    "        \n",
    "        model.fit(X_train, y_train)\n",
    "        y_pred = model.predict(X_test)\n",
    "        \n",
    "        mae = mean_absolute_error(y_test, y_pred)\n",
    "        mape = np.mean(np.abs((y_test - y_pred) / y_test)) * 100\n",
    "        r2 = r2_score(y_test, y_pred)\n",
    "        n, p = X_test.shape\n",
    "        adj_r2 = 1 - (1 - r2) * (n - 1) / (n - p - 1)\n",
    "        msle = mean_squared_error(y_test, y_pred, squared=False)\n",
    "        ev = explained_variance_score(y_test, y_pred)\n",
    "        rmse = np.sqrt(mean_squared_error(y_test, y_pred))\n",
    "        \n",
    "        print(f'mae :{mae}')\n",
    "        print(f'mape:{mape}')\n",
    "        print(f'r2:{r2}')\n",
    "        print(f'adj_r2:{adj_r2}')\n",
    "        print(f'msle:{msle}')\n",
    "        print(f'ev:{ev}')\n",
    "        print(f'rmse:{rmse}')\n",
    "        \n",
    "        \n",
    "        \n",
    "        \n",
    "        results.append({\n",
    "            'Model': name,\n",
    "            'Fold': fold,\n",
    "            'MAE': mae,\n",
    "            'MAPE': mape,\n",
    "            'R2': r2,\n",
    "            'Adjusted R2': adj_r2,\n",
    "            'MSLE': msle,\n",
    "            'Explained Variance': ev,\n",
    "            'RMSE': rmse\n",
    "        })\n",
    "\n",
    "# Convert results to a DataFrame\n",
    "results_df = pd.DataFrame(results)\n",
    "\n",
    "# Save the results to a CSV file\n",
    "results_df.to_csv('model_performance_metrics_regression.csv', index=False)\n",
    "\n",
    "print(\"Model performance metrics have been saved to 'model_performance_metrics.csv'.\")\n",
    "\n",
    "# Calculate mean and standard deviation for each metric for each model\n",
    "mean_metrics = results_df.groupby('Model').mean()\n",
    "std_metrics = results_df.groupby('Model').std()\n",
    "\n",
    "# Display the mean performance metrics for each model\n",
    "print(\"\\nMean performance metrics for each model:\")\n",
    "print(mean_metrics)\n",
    "\n"
   ]
  },
  {
   "cell_type": "code",
   "execution_count": null,
   "id": "b5c68eec-7695-4efe-9151-a752f44ba68d",
   "metadata": {},
   "outputs": [],
   "source": [
    "import os\n",
    "results_df=pd.read_csv('model_performance_metrics_regression(all_features).csv')"
   ]
  },
  {
   "cell_type": "code",
   "execution_count": null,
   "id": "c627c45c-4e3c-4388-af26-172b5c6bb04e",
   "metadata": {
    "tags": []
   },
   "outputs": [],
   "source": [
    "print(\"\\nMean performance metrics for each model:\")\n",
    "mean_metrics"
   ]
  },
  {
   "cell_type": "code",
   "execution_count": null,
   "id": "56286e81-78f2-4d46-a592-110045f717d8",
   "metadata": {},
   "outputs": [],
   "source": []
  },
  {
   "cell_type": "code",
   "execution_count": 10,
   "id": "9c414520-e3a6-48b7-9b47-754f4e33a4ab",
   "metadata": {},
   "outputs": [],
   "source": [
    "X = df_imputed.drop([ 'Time','IG', 'Date', 'Mean', 'Std','glucose_level','total_sleep_time', 'percent_time_asleep', 'waso',\n",
    "       'sleep_onset_latency', 'number_wake_bouts', 'stage_0_count',\n",
    "       'stage_1_count', 'stage_2_count', 'stage_3_count', 'stage_5_count'], axis=1)\n",
    "y = df_imputed['IG']\n"
   ]
  },
  {
   "cell_type": "code",
   "execution_count": 11,
   "id": "5709dcf4-94d0-483d-8e3c-45eb921e8b1d",
   "metadata": {
    "tags": []
   },
   "outputs": [],
   "source": [
    "scaler = StandardScaler()\n",
    "X[other_features] = scaler.fit_transform(X[other_features])"
   ]
  },
  {
   "cell_type": "code",
   "execution_count": 14,
   "id": "4240d9ef-d89e-4c94-9242-d1a2dd6f973a",
   "metadata": {
    "tags": []
   },
   "outputs": [],
   "source": [
    "X.columns = X.columns.astype(str)"
   ]
  },
  {
   "cell_type": "code",
   "execution_count": 15,
   "id": "6bddd141-f5cf-4bd8-ac09-a042c0e983e4",
   "metadata": {
    "tags": []
   },
   "outputs": [
    {
     "name": "stdout",
     "output_type": "stream",
     "text": [
      "model :DT\n",
      "mae :7.532384014699128\n",
      "mape:6.342484640947116\n",
      "r2:0.6270453674216278\n",
      "adj_r2:0.6113269729451447\n",
      "msle:14.269181981904413\n",
      "ev:0.6275011950500597\n",
      "rmse:14.269181981904413\n",
      "mae :7.290767110702802\n",
      "mape:6.314999006946151\n",
      "r2:0.6483135505992328\n",
      "adj_r2:0.6334915163333001\n",
      "msle:13.033119184682207\n",
      "ev:0.6493017343674994\n",
      "rmse:13.033119184682207\n",
      "mae :6.894809370693615\n",
      "mape:5.894203362749308\n",
      "r2:0.6717428971352412\n",
      "adj_r2:0.6579083065930482\n",
      "msle:12.703899697499022\n",
      "ev:0.6717692924304405\n",
      "rmse:12.703899697499022\n",
      "mae :7.028020211299954\n",
      "mape:6.076055493083691\n",
      "r2:0.6742448778528789\n",
      "adj_r2:0.6605157347738815\n",
      "msle:12.97550782818049\n",
      "ev:0.6744495186328858\n",
      "rmse:12.97550782818049\n",
      "mae :7.385852090032154\n",
      "mape:6.3189336613099165\n",
      "r2:0.6626143509942061\n",
      "adj_r2:0.648395032453732\n",
      "msle:13.073605271698536\n",
      "ev:0.662617800062514\n",
      "rmse:13.073605271698536\n",
      "mae :6.828584558823529\n",
      "mape:5.8773985957082875\n",
      "r2:0.6856081283867006\n",
      "adj_r2:0.6723515473124455\n",
      "msle:12.755063152701823\n",
      "ev:0.6856481115338913\n",
      "rmse:12.755063152701823\n",
      "mae :7.362591911764706\n",
      "mape:6.2514817523114035\n",
      "r2:0.6521067555235854\n",
      "adj_r2:0.637437562656348\n",
      "msle:13.566574001827389\n",
      "ev:0.6521076373509125\n",
      "rmse:13.566574001827389\n",
      "mae :7.197150735294118\n",
      "mape:6.230734868459961\n",
      "r2:0.6786717819770268\n",
      "adj_r2:0.6651227243890911\n",
      "msle:12.927310209966569\n",
      "ev:0.6788701945066411\n",
      "rmse:12.927310209966569\n",
      "mae :7.142463235294118\n",
      "mape:6.0802254960939885\n",
      "r2:0.6887600874401638\n",
      "adj_r2:0.6756364112038122\n",
      "msle:12.847021284420483\n",
      "ev:0.6887613364005656\n",
      "rmse:12.847021284420483\n",
      "mae :7.021139705882353\n",
      "mape:5.990815630706852\n",
      "r2:0.6753545146928377\n",
      "adj_r2:0.6616655819151519\n",
      "msle:12.751117309752068\n",
      "ev:0.6753848022809934\n",
      "rmse:12.751117309752068\n",
      "model :SVM\n",
      "mae :13.97289286492221\n",
      "mape:11.503065244169711\n",
      "r2:0.1872043610216111\n",
      "adj_r2:0.15294860612213868\n",
      "msle:21.065014195622613\n",
      "ev:0.207899068046276\n",
      "rmse:21.065014195622613\n"
     ]
    },
    {
     "ename": "KeyboardInterrupt",
     "evalue": "",
     "output_type": "error",
     "traceback": [
      "\u001b[0;31m---------------------------------------------------------------------------\u001b[0m",
      "\u001b[0;31mKeyboardInterrupt\u001b[0m                         Traceback (most recent call last)",
      "Input \u001b[0;32mIn [15]\u001b[0m, in \u001b[0;36m<cell line: 6>\u001b[0;34m()\u001b[0m\n\u001b[1;32m     10\u001b[0m y_train, y_test \u001b[38;5;241m=\u001b[39m y\u001b[38;5;241m.\u001b[39miloc[train_index], y\u001b[38;5;241m.\u001b[39miloc[test_index]\n\u001b[1;32m     12\u001b[0m model\u001b[38;5;241m.\u001b[39mfit(X_train, y_train)\n\u001b[0;32m---> 13\u001b[0m y_pred \u001b[38;5;241m=\u001b[39m \u001b[43mmodel\u001b[49m\u001b[38;5;241;43m.\u001b[39;49m\u001b[43mpredict\u001b[49m\u001b[43m(\u001b[49m\u001b[43mX_test\u001b[49m\u001b[43m)\u001b[49m\n\u001b[1;32m     15\u001b[0m mae \u001b[38;5;241m=\u001b[39m mean_absolute_error(y_test, y_pred)\n\u001b[1;32m     16\u001b[0m mape \u001b[38;5;241m=\u001b[39m np\u001b[38;5;241m.\u001b[39mmean(np\u001b[38;5;241m.\u001b[39mabs((y_test \u001b[38;5;241m-\u001b[39m y_pred) \u001b[38;5;241m/\u001b[39m y_test)) \u001b[38;5;241m*\u001b[39m \u001b[38;5;241m100\u001b[39m\n",
      "File \u001b[0;32m~/.local/Python-3.10-gimkl-2022a/lib/python3.10/site-packages/sklearn/svm/_base.py:433\u001b[0m, in \u001b[0;36mBaseLibSVM.predict\u001b[0;34m(self, X)\u001b[0m\n\u001b[1;32m    431\u001b[0m X \u001b[38;5;241m=\u001b[39m \u001b[38;5;28mself\u001b[39m\u001b[38;5;241m.\u001b[39m_validate_for_predict(X)\n\u001b[1;32m    432\u001b[0m predict \u001b[38;5;241m=\u001b[39m \u001b[38;5;28mself\u001b[39m\u001b[38;5;241m.\u001b[39m_sparse_predict \u001b[38;5;28;01mif\u001b[39;00m \u001b[38;5;28mself\u001b[39m\u001b[38;5;241m.\u001b[39m_sparse \u001b[38;5;28;01melse\u001b[39;00m \u001b[38;5;28mself\u001b[39m\u001b[38;5;241m.\u001b[39m_dense_predict\n\u001b[0;32m--> 433\u001b[0m \u001b[38;5;28;01mreturn\u001b[39;00m \u001b[43mpredict\u001b[49m\u001b[43m(\u001b[49m\u001b[43mX\u001b[49m\u001b[43m)\u001b[49m\n",
      "File \u001b[0;32m~/.local/Python-3.10-gimkl-2022a/lib/python3.10/site-packages/sklearn/svm/_base.py:452\u001b[0m, in \u001b[0;36mBaseLibSVM._dense_predict\u001b[0;34m(self, X)\u001b[0m\n\u001b[1;32m    444\u001b[0m         \u001b[38;5;28;01mraise\u001b[39;00m \u001b[38;5;167;01mValueError\u001b[39;00m(\n\u001b[1;32m    445\u001b[0m             \u001b[38;5;124m\"\u001b[39m\u001b[38;5;124mX.shape[1] = \u001b[39m\u001b[38;5;132;01m%d\u001b[39;00m\u001b[38;5;124m should be equal to \u001b[39m\u001b[38;5;132;01m%d\u001b[39;00m\u001b[38;5;124m, \u001b[39m\u001b[38;5;124m\"\u001b[39m\n\u001b[1;32m    446\u001b[0m             \u001b[38;5;124m\"\u001b[39m\u001b[38;5;124mthe number of samples at training time\u001b[39m\u001b[38;5;124m\"\u001b[39m\n\u001b[1;32m    447\u001b[0m             \u001b[38;5;241m%\u001b[39m (X\u001b[38;5;241m.\u001b[39mshape[\u001b[38;5;241m1\u001b[39m], \u001b[38;5;28mself\u001b[39m\u001b[38;5;241m.\u001b[39mshape_fit_[\u001b[38;5;241m0\u001b[39m])\n\u001b[1;32m    448\u001b[0m         )\n\u001b[1;32m    450\u001b[0m svm_type \u001b[38;5;241m=\u001b[39m LIBSVM_IMPL\u001b[38;5;241m.\u001b[39mindex(\u001b[38;5;28mself\u001b[39m\u001b[38;5;241m.\u001b[39m_impl)\n\u001b[0;32m--> 452\u001b[0m \u001b[38;5;28;01mreturn\u001b[39;00m \u001b[43mlibsvm\u001b[49m\u001b[38;5;241;43m.\u001b[39;49m\u001b[43mpredict\u001b[49m\u001b[43m(\u001b[49m\n\u001b[1;32m    453\u001b[0m \u001b[43m    \u001b[49m\u001b[43mX\u001b[49m\u001b[43m,\u001b[49m\n\u001b[1;32m    454\u001b[0m \u001b[43m    \u001b[49m\u001b[38;5;28;43mself\u001b[39;49m\u001b[38;5;241;43m.\u001b[39;49m\u001b[43msupport_\u001b[49m\u001b[43m,\u001b[49m\n\u001b[1;32m    455\u001b[0m \u001b[43m    \u001b[49m\u001b[38;5;28;43mself\u001b[39;49m\u001b[38;5;241;43m.\u001b[39;49m\u001b[43msupport_vectors_\u001b[49m\u001b[43m,\u001b[49m\n\u001b[1;32m    456\u001b[0m \u001b[43m    \u001b[49m\u001b[38;5;28;43mself\u001b[39;49m\u001b[38;5;241;43m.\u001b[39;49m\u001b[43m_n_support\u001b[49m\u001b[43m,\u001b[49m\n\u001b[1;32m    457\u001b[0m \u001b[43m    \u001b[49m\u001b[38;5;28;43mself\u001b[39;49m\u001b[38;5;241;43m.\u001b[39;49m\u001b[43m_dual_coef_\u001b[49m\u001b[43m,\u001b[49m\n\u001b[1;32m    458\u001b[0m \u001b[43m    \u001b[49m\u001b[38;5;28;43mself\u001b[39;49m\u001b[38;5;241;43m.\u001b[39;49m\u001b[43m_intercept_\u001b[49m\u001b[43m,\u001b[49m\n\u001b[1;32m    459\u001b[0m \u001b[43m    \u001b[49m\u001b[38;5;28;43mself\u001b[39;49m\u001b[38;5;241;43m.\u001b[39;49m\u001b[43m_probA\u001b[49m\u001b[43m,\u001b[49m\n\u001b[1;32m    460\u001b[0m \u001b[43m    \u001b[49m\u001b[38;5;28;43mself\u001b[39;49m\u001b[38;5;241;43m.\u001b[39;49m\u001b[43m_probB\u001b[49m\u001b[43m,\u001b[49m\n\u001b[1;32m    461\u001b[0m \u001b[43m    \u001b[49m\u001b[43msvm_type\u001b[49m\u001b[38;5;241;43m=\u001b[39;49m\u001b[43msvm_type\u001b[49m\u001b[43m,\u001b[49m\n\u001b[1;32m    462\u001b[0m \u001b[43m    \u001b[49m\u001b[43mkernel\u001b[49m\u001b[38;5;241;43m=\u001b[39;49m\u001b[43mkernel\u001b[49m\u001b[43m,\u001b[49m\n\u001b[1;32m    463\u001b[0m \u001b[43m    \u001b[49m\u001b[43mdegree\u001b[49m\u001b[38;5;241;43m=\u001b[39;49m\u001b[38;5;28;43mself\u001b[39;49m\u001b[38;5;241;43m.\u001b[39;49m\u001b[43mdegree\u001b[49m\u001b[43m,\u001b[49m\n\u001b[1;32m    464\u001b[0m \u001b[43m    \u001b[49m\u001b[43mcoef0\u001b[49m\u001b[38;5;241;43m=\u001b[39;49m\u001b[38;5;28;43mself\u001b[39;49m\u001b[38;5;241;43m.\u001b[39;49m\u001b[43mcoef0\u001b[49m\u001b[43m,\u001b[49m\n\u001b[1;32m    465\u001b[0m \u001b[43m    \u001b[49m\u001b[43mgamma\u001b[49m\u001b[38;5;241;43m=\u001b[39;49m\u001b[38;5;28;43mself\u001b[39;49m\u001b[38;5;241;43m.\u001b[39;49m\u001b[43m_gamma\u001b[49m\u001b[43m,\u001b[49m\n\u001b[1;32m    466\u001b[0m \u001b[43m    \u001b[49m\u001b[43mcache_size\u001b[49m\u001b[38;5;241;43m=\u001b[39;49m\u001b[38;5;28;43mself\u001b[39;49m\u001b[38;5;241;43m.\u001b[39;49m\u001b[43mcache_size\u001b[49m\u001b[43m,\u001b[49m\n\u001b[1;32m    467\u001b[0m \u001b[43m\u001b[49m\u001b[43m)\u001b[49m\n",
      "\u001b[0;31mKeyboardInterrupt\u001b[0m: "
     ]
    }
   ],
   "source": [
    "# Initialize performance metric lists\n",
    "results = []\n",
    "\n",
    "kf = KFold(n_splits=10, shuffle=True, random_state=42)\n",
    "\n",
    "for name, model in models.items():\n",
    "    print(f'model :{name}')\n",
    "    for fold, (train_index, test_index) in enumerate(kf.split(X), 1):\n",
    "        X_train, X_test = X.iloc[train_index], X.iloc[test_index]\n",
    "        y_train, y_test = y.iloc[train_index], y.iloc[test_index]\n",
    "        \n",
    "        model.fit(X_train, y_train)\n",
    "        y_pred = model.predict(X_test)\n",
    "        \n",
    "        mae = mean_absolute_error(y_test, y_pred)\n",
    "        mape = np.mean(np.abs((y_test - y_pred) / y_test)) * 100\n",
    "        r2 = r2_score(y_test, y_pred)\n",
    "        n, p = X_test.shape\n",
    "        adj_r2 = 1 - (1 - r2) * (n - 1) / (n - p - 1)\n",
    "        msle = mean_squared_error(y_test, y_pred, squared=False)\n",
    "        ev = explained_variance_score(y_test, y_pred)\n",
    "        rmse = np.sqrt(mean_squared_error(y_test, y_pred))\n",
    "        \n",
    "        print(f'mae :{mae}')\n",
    "        print(f'mape:{mape}')\n",
    "        print(f'r2:{r2}')\n",
    "        print(f'adj_r2:{adj_r2}')\n",
    "        print(f'msle:{msle}')\n",
    "        print(f'ev:{ev}')\n",
    "        print(f'rmse:{rmse}')\n",
    "        \n",
    "        \n",
    "        \n",
    "        \n",
    "        results.append({\n",
    "            'Model': name,\n",
    "            'Fold': fold,\n",
    "            'MAE': mae,\n",
    "            'MAPE': mape,\n",
    "            'R2': r2,\n",
    "            'Adjusted R2': adj_r2,\n",
    "            'MSLE': msle,\n",
    "            'Explained Variance': ev,\n",
    "            'RMSE': rmse\n",
    "        })\n",
    "\n",
    "# Convert results to a DataFrame\n",
    "results_df = pd.DataFrame(results)\n",
    "\n",
    "# Save the results to a CSV file\n",
    "results_df.to_csv('model_performance_metrics_regression.csv', index=False)\n",
    "\n",
    "print(\"Model performance metrics have been saved to 'model_performance_metrics.csv'.\")\n",
    "\n",
    "# Calculate mean and standard deviation for each metric for each model\n",
    "mean_metrics = results_df.groupby('Model').mean()\n",
    "std_metrics = results_df.groupby('Model').std()\n",
    "\n",
    "# Display the mean performance metrics for each model\n",
    "print(\"\\nMean performance metrics for each model:\")\n",
    "print(mean_metrics)\n",
    "\n"
   ]
  },
  {
   "cell_type": "code",
   "execution_count": 3,
   "id": "5e284ad2-7276-4827-902e-270b5bbed4ce",
   "metadata": {
    "tags": []
   },
   "outputs": [],
   "source": [
    "import matplotlib.pyplot as plt\n",
    "plt.rcParams['font.family'] = 'DeJavu Serif'\n",
    "plt.rcParams['font.serif'] = ['Times New Roman']"
   ]
  },
  {
   "cell_type": "code",
   "execution_count": null,
   "id": "e17112ee-cff5-48a6-881f-8b9697f75b4d",
   "metadata": {
    "tags": []
   },
   "outputs": [],
   "source": [
    "import os\n",
    "results_df=pd.read_csv('model_performance_metrics_regression(other_features).csv')"
   ]
  },
  {
   "cell_type": "code",
   "execution_count": null,
   "id": "ab4748dd-94a3-49f8-afb1-9f41f300bff2",
   "metadata": {},
   "outputs": [],
   "source": [
    "print(\"\\nMean performance metrics for each model:\")\n",
    "mean_metrics"
   ]
  },
  {
   "cell_type": "code",
   "execution_count": 7,
   "id": "e16933de-d835-4045-a90b-70cce694b6e8",
   "metadata": {
    "tags": []
   },
   "outputs": [],
   "source": [
    "import matplotlib.pyplot as plt"
   ]
  },
  {
   "cell_type": "code",
   "execution_count": 7,
   "id": "af708c01-9def-46c1-8d6f-333f4a215975",
   "metadata": {
    "tags": []
   },
   "outputs": [
    {
     "data": {
      "text/html": [
       "<div>\n",
       "<style scoped>\n",
       "    .dataframe tbody tr th:only-of-type {\n",
       "        vertical-align: middle;\n",
       "    }\n",
       "\n",
       "    .dataframe tbody tr th {\n",
       "        vertical-align: top;\n",
       "    }\n",
       "\n",
       "    .dataframe thead th {\n",
       "        text-align: right;\n",
       "    }\n",
       "</style>\n",
       "<table border=\"1\" class=\"dataframe\">\n",
       "  <thead>\n",
       "    <tr style=\"text-align: right;\">\n",
       "      <th></th>\n",
       "      <th>IG</th>\n",
       "      <th>Participant</th>\n",
       "      <th>HR_Mean</th>\n",
       "      <th>HR_Max</th>\n",
       "      <th>HR_Std</th>\n",
       "      <th>HR_Skew</th>\n",
       "      <th>HR_Q1G</th>\n",
       "      <th>HR_Q3G</th>\n",
       "      <th>EDA_Mean</th>\n",
       "      <th>EDA_Max</th>\n",
       "      <th>...</th>\n",
       "      <th>stage_0_count</th>\n",
       "      <th>stage_1_count</th>\n",
       "      <th>stage_2_count</th>\n",
       "      <th>stage_3_count</th>\n",
       "      <th>stage_5_count</th>\n",
       "      <th>HbA1c</th>\n",
       "      <th>Time</th>\n",
       "      <th>Date</th>\n",
       "      <th>glucose_level</th>\n",
       "      <th>Gender</th>\n",
       "    </tr>\n",
       "  </thead>\n",
       "  <tbody>\n",
       "    <tr>\n",
       "      <th>0</th>\n",
       "      <td>97.0</td>\n",
       "      <td>16.0</td>\n",
       "      <td>73.225681</td>\n",
       "      <td>73.57</td>\n",
       "      <td>0.234825</td>\n",
       "      <td>-0.862047</td>\n",
       "      <td>73.108174</td>\n",
       "      <td>73.313689</td>\n",
       "      <td>0.301333</td>\n",
       "      <td>0.334533</td>\n",
       "      <td>...</td>\n",
       "      <td>6.200000e+01</td>\n",
       "      <td>8.900000e+01</td>\n",
       "      <td>2.630000e+02</td>\n",
       "      <td>7.000000e+01</td>\n",
       "      <td>4.100000e+01</td>\n",
       "      <td>5.5</td>\n",
       "      <td>2020-07-17 00:03:24</td>\n",
       "      <td>2020-07-17</td>\n",
       "      <td>Normal</td>\n",
       "      <td>MALE</td>\n",
       "    </tr>\n",
       "    <tr>\n",
       "      <th>1</th>\n",
       "      <td>95.0</td>\n",
       "      <td>16.0</td>\n",
       "      <td>72.758239</td>\n",
       "      <td>73.57</td>\n",
       "      <td>0.351658</td>\n",
       "      <td>0.620606</td>\n",
       "      <td>72.608911</td>\n",
       "      <td>72.921836</td>\n",
       "      <td>0.359451</td>\n",
       "      <td>0.394727</td>\n",
       "      <td>...</td>\n",
       "      <td>6.200000e+01</td>\n",
       "      <td>8.900000e+01</td>\n",
       "      <td>2.630000e+02</td>\n",
       "      <td>7.000000e+01</td>\n",
       "      <td>4.100000e+01</td>\n",
       "      <td>5.5</td>\n",
       "      <td>2020-07-17 00:08:23</td>\n",
       "      <td>2020-07-17</td>\n",
       "      <td>Normal</td>\n",
       "      <td>MALE</td>\n",
       "    </tr>\n",
       "    <tr>\n",
       "      <th>2</th>\n",
       "      <td>92.0</td>\n",
       "      <td>16.0</td>\n",
       "      <td>73.699934</td>\n",
       "      <td>75.07</td>\n",
       "      <td>0.628637</td>\n",
       "      <td>-0.038853</td>\n",
       "      <td>73.416714</td>\n",
       "      <td>73.968872</td>\n",
       "      <td>0.423380</td>\n",
       "      <td>0.458762</td>\n",
       "      <td>...</td>\n",
       "      <td>6.200000e+01</td>\n",
       "      <td>8.900000e+01</td>\n",
       "      <td>2.630000e+02</td>\n",
       "      <td>7.000000e+01</td>\n",
       "      <td>4.100000e+01</td>\n",
       "      <td>5.5</td>\n",
       "      <td>2020-07-17 00:13:24</td>\n",
       "      <td>2020-07-17</td>\n",
       "      <td>Normal</td>\n",
       "      <td>MALE</td>\n",
       "    </tr>\n",
       "    <tr>\n",
       "      <th>3</th>\n",
       "      <td>89.0</td>\n",
       "      <td>16.0</td>\n",
       "      <td>73.565316</td>\n",
       "      <td>77.47</td>\n",
       "      <td>2.043241</td>\n",
       "      <td>0.121869</td>\n",
       "      <td>72.647048</td>\n",
       "      <td>74.517301</td>\n",
       "      <td>0.481480</td>\n",
       "      <td>1.456508</td>\n",
       "      <td>...</td>\n",
       "      <td>6.200000e+01</td>\n",
       "      <td>8.900000e+01</td>\n",
       "      <td>2.630000e+02</td>\n",
       "      <td>7.000000e+01</td>\n",
       "      <td>4.100000e+01</td>\n",
       "      <td>5.5</td>\n",
       "      <td>2020-07-17 00:18:24</td>\n",
       "      <td>2020-07-17</td>\n",
       "      <td>Low</td>\n",
       "      <td>MALE</td>\n",
       "    </tr>\n",
       "    <tr>\n",
       "      <th>4</th>\n",
       "      <td>90.0</td>\n",
       "      <td>16.0</td>\n",
       "      <td>75.144385</td>\n",
       "      <td>80.30</td>\n",
       "      <td>2.978029</td>\n",
       "      <td>0.467569</td>\n",
       "      <td>73.879337</td>\n",
       "      <td>76.672485</td>\n",
       "      <td>1.854490</td>\n",
       "      <td>5.904090</td>\n",
       "      <td>...</td>\n",
       "      <td>6.200000e+01</td>\n",
       "      <td>8.900000e+01</td>\n",
       "      <td>2.630000e+02</td>\n",
       "      <td>7.000000e+01</td>\n",
       "      <td>4.100000e+01</td>\n",
       "      <td>5.5</td>\n",
       "      <td>2020-07-17 00:23:24</td>\n",
       "      <td>2020-07-17</td>\n",
       "      <td>Low</td>\n",
       "      <td>MALE</td>\n",
       "    </tr>\n",
       "    <tr>\n",
       "      <th>...</th>\n",
       "      <td>...</td>\n",
       "      <td>...</td>\n",
       "      <td>...</td>\n",
       "      <td>...</td>\n",
       "      <td>...</td>\n",
       "      <td>...</td>\n",
       "      <td>...</td>\n",
       "      <td>...</td>\n",
       "      <td>...</td>\n",
       "      <td>...</td>\n",
       "      <td>...</td>\n",
       "      <td>...</td>\n",
       "      <td>...</td>\n",
       "      <td>...</td>\n",
       "      <td>...</td>\n",
       "      <td>...</td>\n",
       "      <td>...</td>\n",
       "      <td>...</td>\n",
       "      <td>...</td>\n",
       "      <td>...</td>\n",
       "      <td>...</td>\n",
       "    </tr>\n",
       "    <tr>\n",
       "      <th>21760</th>\n",
       "      <td>181.0</td>\n",
       "      <td>2.0</td>\n",
       "      <td>85.898538</td>\n",
       "      <td>88.55</td>\n",
       "      <td>1.808236</td>\n",
       "      <td>-0.842159</td>\n",
       "      <td>84.978402</td>\n",
       "      <td>86.595798</td>\n",
       "      <td>0.530921</td>\n",
       "      <td>0.566582</td>\n",
       "      <td>...</td>\n",
       "      <td>5.223788e+12</td>\n",
       "      <td>4.177862e+12</td>\n",
       "      <td>1.543889e+12</td>\n",
       "      <td>1.117674e+12</td>\n",
       "      <td>9.417980e+10</td>\n",
       "      <td>5.6</td>\n",
       "      <td>2020-02-29 09:13:25</td>\n",
       "      <td>2020-02-29</td>\n",
       "      <td>High</td>\n",
       "      <td>MALE</td>\n",
       "    </tr>\n",
       "    <tr>\n",
       "      <th>21761</th>\n",
       "      <td>177.0</td>\n",
       "      <td>2.0</td>\n",
       "      <td>82.445449</td>\n",
       "      <td>86.57</td>\n",
       "      <td>2.433794</td>\n",
       "      <td>-0.729108</td>\n",
       "      <td>81.244232</td>\n",
       "      <td>83.365709</td>\n",
       "      <td>0.515155</td>\n",
       "      <td>0.538398</td>\n",
       "      <td>...</td>\n",
       "      <td>5.651871e+12</td>\n",
       "      <td>4.520233e+12</td>\n",
       "      <td>1.670409e+12</td>\n",
       "      <td>1.209266e+12</td>\n",
       "      <td>1.018977e+11</td>\n",
       "      <td>5.6</td>\n",
       "      <td>2020-02-29 09:18:25</td>\n",
       "      <td>2020-02-29</td>\n",
       "      <td>High</td>\n",
       "      <td>MALE</td>\n",
       "    </tr>\n",
       "    <tr>\n",
       "      <th>21762</th>\n",
       "      <td>171.0</td>\n",
       "      <td>2.0</td>\n",
       "      <td>84.667375</td>\n",
       "      <td>87.22</td>\n",
       "      <td>1.835218</td>\n",
       "      <td>-0.553606</td>\n",
       "      <td>83.805195</td>\n",
       "      <td>85.447387</td>\n",
       "      <td>0.511280</td>\n",
       "      <td>0.866359</td>\n",
       "      <td>...</td>\n",
       "      <td>-5.981797e+12</td>\n",
       "      <td>-4.784100e+12</td>\n",
       "      <td>-1.767918e+12</td>\n",
       "      <td>-1.279857e+12</td>\n",
       "      <td>-1.078460e+11</td>\n",
       "      <td>5.6</td>\n",
       "      <td>2020-02-29 09:23:24</td>\n",
       "      <td>2020-02-29</td>\n",
       "      <td>High</td>\n",
       "      <td>MALE</td>\n",
       "    </tr>\n",
       "    <tr>\n",
       "      <th>21763</th>\n",
       "      <td>166.0</td>\n",
       "      <td>2.0</td>\n",
       "      <td>86.173621</td>\n",
       "      <td>87.45</td>\n",
       "      <td>0.689601</td>\n",
       "      <td>-1.170720</td>\n",
       "      <td>85.873365</td>\n",
       "      <td>86.427853</td>\n",
       "      <td>0.509617</td>\n",
       "      <td>0.516619</td>\n",
       "      <td>...</td>\n",
       "      <td>9.806384e+12</td>\n",
       "      <td>7.842915e+12</td>\n",
       "      <td>2.898273e+12</td>\n",
       "      <td>2.098160e+12</td>\n",
       "      <td>1.767995e+11</td>\n",
       "      <td>5.6</td>\n",
       "      <td>2020-02-29 09:28:24</td>\n",
       "      <td>2020-02-29</td>\n",
       "      <td>Normal</td>\n",
       "      <td>MALE</td>\n",
       "    </tr>\n",
       "    <tr>\n",
       "      <th>21764</th>\n",
       "      <td>163.0</td>\n",
       "      <td>2.0</td>\n",
       "      <td>85.970698</td>\n",
       "      <td>92.77</td>\n",
       "      <td>2.603373</td>\n",
       "      <td>1.245301</td>\n",
       "      <td>85.027960</td>\n",
       "      <td>87.309510</td>\n",
       "      <td>0.494071</td>\n",
       "      <td>0.726719</td>\n",
       "      <td>...</td>\n",
       "      <td>8.654165e+12</td>\n",
       "      <td>6.921397e+12</td>\n",
       "      <td>2.557735e+12</td>\n",
       "      <td>1.851633e+12</td>\n",
       "      <td>1.560262e+11</td>\n",
       "      <td>5.6</td>\n",
       "      <td>2020-02-29 09:33:24</td>\n",
       "      <td>2020-02-29</td>\n",
       "      <td>Normal</td>\n",
       "      <td>MALE</td>\n",
       "    </tr>\n",
       "  </tbody>\n",
       "</table>\n",
       "<p>21765 rows × 90 columns</p>\n",
       "</div>"
      ],
      "text/plain": [
       "          IG  Participant    HR_Mean  HR_Max    HR_Std   HR_Skew     HR_Q1G  \\\n",
       "0       97.0         16.0  73.225681   73.57  0.234825 -0.862047  73.108174   \n",
       "1       95.0         16.0  72.758239   73.57  0.351658  0.620606  72.608911   \n",
       "2       92.0         16.0  73.699934   75.07  0.628637 -0.038853  73.416714   \n",
       "3       89.0         16.0  73.565316   77.47  2.043241  0.121869  72.647048   \n",
       "4       90.0         16.0  75.144385   80.30  2.978029  0.467569  73.879337   \n",
       "...      ...          ...        ...     ...       ...       ...        ...   \n",
       "21760  181.0          2.0  85.898538   88.55  1.808236 -0.842159  84.978402   \n",
       "21761  177.0          2.0  82.445449   86.57  2.433794 -0.729108  81.244232   \n",
       "21762  171.0          2.0  84.667375   87.22  1.835218 -0.553606  83.805195   \n",
       "21763  166.0          2.0  86.173621   87.45  0.689601 -1.170720  85.873365   \n",
       "21764  163.0          2.0  85.970698   92.77  2.603373  1.245301  85.027960   \n",
       "\n",
       "          HR_Q3G  EDA_Mean   EDA_Max  ...  stage_0_count  stage_1_count  \\\n",
       "0      73.313689  0.301333  0.334533  ...   6.200000e+01   8.900000e+01   \n",
       "1      72.921836  0.359451  0.394727  ...   6.200000e+01   8.900000e+01   \n",
       "2      73.968872  0.423380  0.458762  ...   6.200000e+01   8.900000e+01   \n",
       "3      74.517301  0.481480  1.456508  ...   6.200000e+01   8.900000e+01   \n",
       "4      76.672485  1.854490  5.904090  ...   6.200000e+01   8.900000e+01   \n",
       "...          ...       ...       ...  ...            ...            ...   \n",
       "21760  86.595798  0.530921  0.566582  ...   5.223788e+12   4.177862e+12   \n",
       "21761  83.365709  0.515155  0.538398  ...   5.651871e+12   4.520233e+12   \n",
       "21762  85.447387  0.511280  0.866359  ...  -5.981797e+12  -4.784100e+12   \n",
       "21763  86.427853  0.509617  0.516619  ...   9.806384e+12   7.842915e+12   \n",
       "21764  87.309510  0.494071  0.726719  ...   8.654165e+12   6.921397e+12   \n",
       "\n",
       "       stage_2_count  stage_3_count  stage_5_count  HbA1c  \\\n",
       "0       2.630000e+02   7.000000e+01   4.100000e+01    5.5   \n",
       "1       2.630000e+02   7.000000e+01   4.100000e+01    5.5   \n",
       "2       2.630000e+02   7.000000e+01   4.100000e+01    5.5   \n",
       "3       2.630000e+02   7.000000e+01   4.100000e+01    5.5   \n",
       "4       2.630000e+02   7.000000e+01   4.100000e+01    5.5   \n",
       "...              ...            ...            ...    ...   \n",
       "21760   1.543889e+12   1.117674e+12   9.417980e+10    5.6   \n",
       "21761   1.670409e+12   1.209266e+12   1.018977e+11    5.6   \n",
       "21762  -1.767918e+12  -1.279857e+12  -1.078460e+11    5.6   \n",
       "21763   2.898273e+12   2.098160e+12   1.767995e+11    5.6   \n",
       "21764   2.557735e+12   1.851633e+12   1.560262e+11    5.6   \n",
       "\n",
       "                      Time        Date  glucose_level  Gender  \n",
       "0      2020-07-17 00:03:24  2020-07-17         Normal    MALE  \n",
       "1      2020-07-17 00:08:23  2020-07-17         Normal    MALE  \n",
       "2      2020-07-17 00:13:24  2020-07-17         Normal    MALE  \n",
       "3      2020-07-17 00:18:24  2020-07-17            Low    MALE  \n",
       "4      2020-07-17 00:23:24  2020-07-17            Low    MALE  \n",
       "...                    ...         ...            ...     ...  \n",
       "21760  2020-02-29 09:13:25  2020-02-29           High    MALE  \n",
       "21761  2020-02-29 09:18:25  2020-02-29           High    MALE  \n",
       "21762  2020-02-29 09:23:24  2020-02-29           High    MALE  \n",
       "21763  2020-02-29 09:28:24  2020-02-29         Normal    MALE  \n",
       "21764  2020-02-29 09:33:24  2020-02-29         Normal    MALE  \n",
       "\n",
       "[21765 rows x 90 columns]"
      ]
     },
     "execution_count": 7,
     "metadata": {},
     "output_type": "execute_result"
    }
   ],
   "source": [
    "df_imputed"
   ]
  },
  {
   "cell_type": "code",
   "execution_count": 9,
   "id": "4c31082a-7a0d-48a2-b5f0-f65bacc7991c",
   "metadata": {
    "tags": []
   },
   "outputs": [
    {
     "data": {
      "image/png": "[encoded data removed]",
      "text/plain": [
       "<Figure size 432x288 with 1 Axes>"
      ]
     },
     "metadata": {
      "needs_background": "light"
     },
     "output_type": "display_data"
    }
   ],
   "source": [
    "import matplotlib.pyplot as plt\n",
    "from matplotlib import rcParams\n",
    "\n",
    "# Set default font to DejaVu Sans\n",
    "rcParams['font.sans-serif'] = ['DejaVu Sans']\n",
    "\n",
    "# Alternatively, you can use another available font on your system\n",
    "# rcParams['font.sans-serif'] = ['Helvetica']\n",
    "\n",
    "# Plot your data\n",
    "plt.plot([1, 2, 3], [4, 5, 6])\n",
    "plt.title('Example Plot')\n",
    "plt.xlabel('X-axis')\n",
    "plt.ylabel('Y-axis')\n",
    "plt.show()"
   ]
  },
  {
   "cell_type": "code",
   "execution_count": 11,
   "id": "8c4cd08f-6d32-4d82-aeb4-ce267107f650",
   "metadata": {
    "tags": []
   },
   "outputs": [
    {
     "data": {
      "image/png": "[encoded data removed]",
      "text/plain": [
       "<Figure size 864x1152 with 1 Axes>"
      ]
     },
     "metadata": {
      "needs_background": "light"
     },
     "output_type": "display_data"
    }
   ],
   "source": [
    "from yellowbrick.target import FeatureCorrelation\n",
    "\n",
    "plt.figure(figsize=(12, 16))\n",
    "visualizer = FeatureCorrelation(labels=sleep_features)\n",
    "visualizer.fit(df_imputed[sleep_features], df_imputed['IG'])\n",
    "visualizer.show(outpath=\"feature_correlation.svg\")\n",
    "plt.show()"
   ]
  },
  {
   "cell_type": "code",
   "execution_count": 20,
   "id": "f9232efd-af7c-465c-bba5-bc5214dc9a61",
   "metadata": {
    "tags": []
   },
   "outputs": [],
   "source": [
    "from scipy.stats import skew"
   ]
  },
  {
   "cell_type": "code",
   "execution_count": null,
   "id": "470b3873-47a2-441d-a1d7-747322ad1173",
   "metadata": {},
   "outputs": [],
   "source": []
  },
  {
   "cell_type": "code",
   "execution_count": 14,
   "id": "3cf34822-81c8-465b-8894-b07c9e212550",
   "metadata": {},
   "outputs": [
    {
     "name": "stderr",
     "output_type": "stream",
     "text": [
      "/home/wsf4491/.local/Python-3.10-gimkl-2022a/lib/python3.10/site-packages/pandas/core/arraylike.py:402: RuntimeWarning: invalid value encountered in log\n",
      "  result = getattr(ufunc, method)(*inputs, **kwargs)\n"
     ]
    }
   ],
   "source": [
    "df_imputed['total_sleep_time_log'] = np.log(df_imputed['total_sleep_time'])"
   ]
  },
  {
   "cell_type": "code",
   "execution_count": 15,
   "id": "b547d630-0e26-453f-a627-9799b8f33fde",
   "metadata": {
    "tags": []
   },
   "outputs": [],
   "source": [
    "df_imputed['percent_time_asleep_log'] = np.log(df_imputed['percent_time_asleep'])"
   ]
  },
  {
   "cell_type": "code",
   "execution_count": 16,
   "id": "8adec620-8df7-441e-acae-e1b9df164c0c",
   "metadata": {
    "tags": []
   },
   "outputs": [
    {
     "name": "stderr",
     "output_type": "stream",
     "text": [
      "/home/wsf4491/.local/Python-3.10-gimkl-2022a/lib/python3.10/site-packages/pandas/core/arraylike.py:402: RuntimeWarning: invalid value encountered in log\n",
      "  result = getattr(ufunc, method)(*inputs, **kwargs)\n"
     ]
    }
   ],
   "source": [
    "df_imputed['stage_0_count_log'] = np.log(df_imputed['stage_0_count'])"
   ]
  },
  {
   "cell_type": "code",
   "execution_count": 17,
   "id": "e91dade5-40ad-4ce5-893f-255f49f82efc",
   "metadata": {
    "tags": []
   },
   "outputs": [],
   "source": [
    "sleep_features.append('stage_0_count_log')"
   ]
  },
  {
   "cell_type": "code",
   "execution_count": 18,
   "id": "0edd31ec-9563-4a6b-8cde-e9b8288404ca",
   "metadata": {
    "tags": []
   },
   "outputs": [],
   "source": [
    "sleep_features.append('percent_time_asleep_log')\n",
    "sleep_features.append('total_sleep_time_log')"
   ]
  },
  {
   "cell_type": "code",
   "execution_count": 19,
   "id": "dde6c9ff-d0bb-4ff4-b14f-88f97b9750b4",
   "metadata": {
    "tags": []
   },
   "outputs": [
    {
     "data": {
      "text/html": [
       "<div>\n",
       "<style scoped>\n",
       "    .dataframe tbody tr th:only-of-type {\n",
       "        vertical-align: middle;\n",
       "    }\n",
       "\n",
       "    .dataframe tbody tr th {\n",
       "        vertical-align: top;\n",
       "    }\n",
       "\n",
       "    .dataframe thead th {\n",
       "        text-align: right;\n",
       "    }\n",
       "</style>\n",
       "<table border=\"1\" class=\"dataframe\">\n",
       "  <thead>\n",
       "    <tr style=\"text-align: right;\">\n",
       "      <th></th>\n",
       "      <th>total_sleep_time</th>\n",
       "      <th>percent_time_asleep</th>\n",
       "      <th>waso</th>\n",
       "      <th>sleep_onset_latency</th>\n",
       "      <th>number_wake_bouts</th>\n",
       "      <th>stage_0_count</th>\n",
       "      <th>stage_1_count</th>\n",
       "      <th>stage_2_count</th>\n",
       "      <th>stage_3_count</th>\n",
       "      <th>stage_5_count</th>\n",
       "      <th>stage_0_count_log</th>\n",
       "      <th>percent_time_asleep_log</th>\n",
       "      <th>total_sleep_time_log</th>\n",
       "    </tr>\n",
       "  </thead>\n",
       "  <tbody>\n",
       "    <tr>\n",
       "      <th>0</th>\n",
       "      <td>579.0</td>\n",
       "      <td>40.0</td>\n",
       "      <td>838.0</td>\n",
       "      <td>22.0</td>\n",
       "      <td>36.0</td>\n",
       "      <td>6.200000e+01</td>\n",
       "      <td>8.900000e+01</td>\n",
       "      <td>2.630000e+02</td>\n",
       "      <td>7.000000e+01</td>\n",
       "      <td>4.100000e+01</td>\n",
       "      <td>4.127134</td>\n",
       "      <td>3.688879</td>\n",
       "      <td>6.361302</td>\n",
       "    </tr>\n",
       "    <tr>\n",
       "      <th>1</th>\n",
       "      <td>579.0</td>\n",
       "      <td>40.0</td>\n",
       "      <td>838.0</td>\n",
       "      <td>22.0</td>\n",
       "      <td>36.0</td>\n",
       "      <td>6.200000e+01</td>\n",
       "      <td>8.900000e+01</td>\n",
       "      <td>2.630000e+02</td>\n",
       "      <td>7.000000e+01</td>\n",
       "      <td>4.100000e+01</td>\n",
       "      <td>4.127134</td>\n",
       "      <td>3.688879</td>\n",
       "      <td>6.361302</td>\n",
       "    </tr>\n",
       "    <tr>\n",
       "      <th>2</th>\n",
       "      <td>579.0</td>\n",
       "      <td>40.0</td>\n",
       "      <td>838.0</td>\n",
       "      <td>22.0</td>\n",
       "      <td>36.0</td>\n",
       "      <td>6.200000e+01</td>\n",
       "      <td>8.900000e+01</td>\n",
       "      <td>2.630000e+02</td>\n",
       "      <td>7.000000e+01</td>\n",
       "      <td>4.100000e+01</td>\n",
       "      <td>4.127134</td>\n",
       "      <td>3.688879</td>\n",
       "      <td>6.361302</td>\n",
       "    </tr>\n",
       "    <tr>\n",
       "      <th>3</th>\n",
       "      <td>579.0</td>\n",
       "      <td>40.0</td>\n",
       "      <td>838.0</td>\n",
       "      <td>22.0</td>\n",
       "      <td>36.0</td>\n",
       "      <td>6.200000e+01</td>\n",
       "      <td>8.900000e+01</td>\n",
       "      <td>2.630000e+02</td>\n",
       "      <td>7.000000e+01</td>\n",
       "      <td>4.100000e+01</td>\n",
       "      <td>4.127134</td>\n",
       "      <td>3.688879</td>\n",
       "      <td>6.361302</td>\n",
       "    </tr>\n",
       "    <tr>\n",
       "      <th>4</th>\n",
       "      <td>579.0</td>\n",
       "      <td>40.0</td>\n",
       "      <td>838.0</td>\n",
       "      <td>22.0</td>\n",
       "      <td>36.0</td>\n",
       "      <td>6.200000e+01</td>\n",
       "      <td>8.900000e+01</td>\n",
       "      <td>2.630000e+02</td>\n",
       "      <td>7.000000e+01</td>\n",
       "      <td>4.100000e+01</td>\n",
       "      <td>4.127134</td>\n",
       "      <td>3.688879</td>\n",
       "      <td>6.361302</td>\n",
       "    </tr>\n",
       "    <tr>\n",
       "      <th>...</th>\n",
       "      <td>...</td>\n",
       "      <td>...</td>\n",
       "      <td>...</td>\n",
       "      <td>...</td>\n",
       "      <td>...</td>\n",
       "      <td>...</td>\n",
       "      <td>...</td>\n",
       "      <td>...</td>\n",
       "      <td>...</td>\n",
       "      <td>...</td>\n",
       "      <td>...</td>\n",
       "      <td>...</td>\n",
       "      <td>...</td>\n",
       "    </tr>\n",
       "    <tr>\n",
       "      <th>21760</th>\n",
       "      <td>403.0</td>\n",
       "      <td>48.0</td>\n",
       "      <td>187.0</td>\n",
       "      <td>253.0</td>\n",
       "      <td>20.0</td>\n",
       "      <td>5.223788e+12</td>\n",
       "      <td>4.177862e+12</td>\n",
       "      <td>1.543889e+12</td>\n",
       "      <td>1.117674e+12</td>\n",
       "      <td>9.417980e+10</td>\n",
       "      <td>29.284244</td>\n",
       "      <td>3.871201</td>\n",
       "      <td>5.998937</td>\n",
       "    </tr>\n",
       "    <tr>\n",
       "      <th>21761</th>\n",
       "      <td>403.0</td>\n",
       "      <td>48.0</td>\n",
       "      <td>187.0</td>\n",
       "      <td>253.0</td>\n",
       "      <td>20.0</td>\n",
       "      <td>5.651871e+12</td>\n",
       "      <td>4.520233e+12</td>\n",
       "      <td>1.670409e+12</td>\n",
       "      <td>1.209266e+12</td>\n",
       "      <td>1.018977e+11</td>\n",
       "      <td>29.363008</td>\n",
       "      <td>3.871201</td>\n",
       "      <td>5.998937</td>\n",
       "    </tr>\n",
       "    <tr>\n",
       "      <th>21762</th>\n",
       "      <td>403.0</td>\n",
       "      <td>48.0</td>\n",
       "      <td>187.0</td>\n",
       "      <td>253.0</td>\n",
       "      <td>20.0</td>\n",
       "      <td>-5.981797e+12</td>\n",
       "      <td>-4.784100e+12</td>\n",
       "      <td>-1.767918e+12</td>\n",
       "      <td>-1.279857e+12</td>\n",
       "      <td>-1.078460e+11</td>\n",
       "      <td>NaN</td>\n",
       "      <td>3.871201</td>\n",
       "      <td>5.998937</td>\n",
       "    </tr>\n",
       "    <tr>\n",
       "      <th>21763</th>\n",
       "      <td>403.0</td>\n",
       "      <td>48.0</td>\n",
       "      <td>187.0</td>\n",
       "      <td>253.0</td>\n",
       "      <td>20.0</td>\n",
       "      <td>9.806384e+12</td>\n",
       "      <td>7.842915e+12</td>\n",
       "      <td>2.898273e+12</td>\n",
       "      <td>2.098160e+12</td>\n",
       "      <td>1.767995e+11</td>\n",
       "      <td>29.914055</td>\n",
       "      <td>3.871201</td>\n",
       "      <td>5.998937</td>\n",
       "    </tr>\n",
       "    <tr>\n",
       "      <th>21764</th>\n",
       "      <td>403.0</td>\n",
       "      <td>48.0</td>\n",
       "      <td>187.0</td>\n",
       "      <td>253.0</td>\n",
       "      <td>20.0</td>\n",
       "      <td>8.654165e+12</td>\n",
       "      <td>6.921397e+12</td>\n",
       "      <td>2.557735e+12</td>\n",
       "      <td>1.851633e+12</td>\n",
       "      <td>1.560262e+11</td>\n",
       "      <td>29.789062</td>\n",
       "      <td>3.871201</td>\n",
       "      <td>5.998937</td>\n",
       "    </tr>\n",
       "  </tbody>\n",
       "</table>\n",
       "<p>21765 rows × 13 columns</p>\n",
       "</div>"
      ],
      "text/plain": [
       "       total_sleep_time  percent_time_asleep   waso  sleep_onset_latency  \\\n",
       "0                 579.0                 40.0  838.0                 22.0   \n",
       "1                 579.0                 40.0  838.0                 22.0   \n",
       "2                 579.0                 40.0  838.0                 22.0   \n",
       "3                 579.0                 40.0  838.0                 22.0   \n",
       "4                 579.0                 40.0  838.0                 22.0   \n",
       "...                 ...                  ...    ...                  ...   \n",
       "21760             403.0                 48.0  187.0                253.0   \n",
       "21761             403.0                 48.0  187.0                253.0   \n",
       "21762             403.0                 48.0  187.0                253.0   \n",
       "21763             403.0                 48.0  187.0                253.0   \n",
       "21764             403.0                 48.0  187.0                253.0   \n",
       "\n",
       "       number_wake_bouts  stage_0_count  stage_1_count  stage_2_count  \\\n",
       "0                   36.0   6.200000e+01   8.900000e+01   2.630000e+02   \n",
       "1                   36.0   6.200000e+01   8.900000e+01   2.630000e+02   \n",
       "2                   36.0   6.200000e+01   8.900000e+01   2.630000e+02   \n",
       "3                   36.0   6.200000e+01   8.900000e+01   2.630000e+02   \n",
       "4                   36.0   6.200000e+01   8.900000e+01   2.630000e+02   \n",
       "...                  ...            ...            ...            ...   \n",
       "21760               20.0   5.223788e+12   4.177862e+12   1.543889e+12   \n",
       "21761               20.0   5.651871e+12   4.520233e+12   1.670409e+12   \n",
       "21762               20.0  -5.981797e+12  -4.784100e+12  -1.767918e+12   \n",
       "21763               20.0   9.806384e+12   7.842915e+12   2.898273e+12   \n",
       "21764               20.0   8.654165e+12   6.921397e+12   2.557735e+12   \n",
       "\n",
       "       stage_3_count  stage_5_count  stage_0_count_log  \\\n",
       "0       7.000000e+01   4.100000e+01           4.127134   \n",
       "1       7.000000e+01   4.100000e+01           4.127134   \n",
       "2       7.000000e+01   4.100000e+01           4.127134   \n",
       "3       7.000000e+01   4.100000e+01           4.127134   \n",
       "4       7.000000e+01   4.100000e+01           4.127134   \n",
       "...              ...            ...                ...   \n",
       "21760   1.117674e+12   9.417980e+10          29.284244   \n",
       "21761   1.209266e+12   1.018977e+11          29.363008   \n",
       "21762  -1.279857e+12  -1.078460e+11                NaN   \n",
       "21763   2.098160e+12   1.767995e+11          29.914055   \n",
       "21764   1.851633e+12   1.560262e+11          29.789062   \n",
       "\n",
       "       percent_time_asleep_log  total_sleep_time_log  \n",
       "0                     3.688879              6.361302  \n",
       "1                     3.688879              6.361302  \n",
       "2                     3.688879              6.361302  \n",
       "3                     3.688879              6.361302  \n",
       "4                     3.688879              6.361302  \n",
       "...                        ...                   ...  \n",
       "21760                 3.871201              5.998937  \n",
       "21761                 3.871201              5.998937  \n",
       "21762                 3.871201              5.998937  \n",
       "21763                 3.871201              5.998937  \n",
       "21764                 3.871201              5.998937  \n",
       "\n",
       "[21765 rows x 13 columns]"
      ]
     },
     "execution_count": 19,
     "metadata": {},
     "output_type": "execute_result"
    }
   ],
   "source": [
    "df_imputed[sleep_features]"
   ]
  },
  {
   "cell_type": "code",
   "execution_count": 20,
   "id": "5bf8c043-2967-40ba-af82-e35b2cddfe09",
   "metadata": {
    "tags": []
   },
   "outputs": [
    {
     "name": "stdout",
     "output_type": "stream",
     "text": [
      "Total Data: 21765\n",
      "Missing Data: 1396\n",
      "Actual Instances of Data: 20369\n"
     ]
    }
   ],
   "source": [
    "print(\"Total Data:\",len(df_imputed))\n",
    "print(\"Missing Data:\",df_imputed.isnull().any(axis=1).sum())\n",
    "print(\"Actual Instances of Data:\",len(df_imputed)-df_imputed.isnull().any(axis=1).sum())"
   ]
  },
  {
   "cell_type": "code",
   "execution_count": 21,
   "id": "6e647a3f-83a4-4fa6-b343-765e5b69ca63",
   "metadata": {
    "tags": []
   },
   "outputs": [],
   "source": [
    "df_imputed=df_imputed.dropna()"
   ]
  },
  {
   "cell_type": "code",
   "execution_count": 22,
   "id": "8c0e3fac-2fef-4493-b0db-5b989d55b1b4",
   "metadata": {
    "tags": []
   },
   "outputs": [
    {
     "name": "stdout",
     "output_type": "stream",
     "text": [
      "Total Data: 20369\n",
      "Missing Data: 0\n",
      "Actual Instances of Data: 20369\n"
     ]
    }
   ],
   "source": [
    "print(\"Total Data:\",len(df_imputed))\n",
    "print(\"Missing Data:\",df_imputed.isnull().any(axis=1).sum())\n",
    "print(\"Actual Instances of Data:\",len(df_imputed)-df_imputed.isnull().any(axis=1).sum())"
   ]
  },
  {
   "cell_type": "code",
   "execution_count": 18,
   "id": "5e8e7d0d-6df2-4ceb-8f93-7a62fbdbbfbc",
   "metadata": {
    "tags": []
   },
   "outputs": [
    {
     "data": {
      "text/plain": [
       "['total_sleep_time',\n",
       " 'percent_time_asleep',\n",
       " 'waso',\n",
       " 'sleep_onset_latency',\n",
       " 'number_wake_bouts',\n",
       " 'stage_0_count',\n",
       " 'stage_1_count',\n",
       " 'stage_2_count',\n",
       " 'stage_3_count',\n",
       " 'stage_5_count',\n",
       " 'stage_0_count_log',\n",
       " 'percent_time_asleep_log',\n",
       " 'total_sleep_time_log']"
      ]
     },
     "execution_count": 18,
     "metadata": {},
     "output_type": "execute_result"
    }
   ],
   "source": [
    "sleep_features"
   ]
  },
  {
   "cell_type": "code",
   "execution_count": 19,
   "id": "b7839555-fa66-46c2-844a-8f9353c233dd",
   "metadata": {
    "tags": []
   },
   "outputs": [
    {
     "data": {
      "text/html": [
       "<div>\n",
       "<style scoped>\n",
       "    .dataframe tbody tr th:only-of-type {\n",
       "        vertical-align: middle;\n",
       "    }\n",
       "\n",
       "    .dataframe tbody tr th {\n",
       "        vertical-align: top;\n",
       "    }\n",
       "\n",
       "    .dataframe thead th {\n",
       "        text-align: right;\n",
       "    }\n",
       "</style>\n",
       "<table border=\"1\" class=\"dataframe\">\n",
       "  <thead>\n",
       "    <tr style=\"text-align: right;\">\n",
       "      <th></th>\n",
       "      <th>total_sleep_time</th>\n",
       "      <th>percent_time_asleep</th>\n",
       "      <th>waso</th>\n",
       "      <th>sleep_onset_latency</th>\n",
       "      <th>number_wake_bouts</th>\n",
       "      <th>stage_0_count</th>\n",
       "      <th>stage_1_count</th>\n",
       "      <th>stage_2_count</th>\n",
       "      <th>stage_3_count</th>\n",
       "      <th>stage_5_count</th>\n",
       "      <th>stage_0_count_log</th>\n",
       "      <th>percent_time_asleep_log</th>\n",
       "      <th>total_sleep_time_log</th>\n",
       "    </tr>\n",
       "  </thead>\n",
       "  <tbody>\n",
       "    <tr>\n",
       "      <th>0</th>\n",
       "      <td>579.0</td>\n",
       "      <td>40.0</td>\n",
       "      <td>838.0</td>\n",
       "      <td>22.0</td>\n",
       "      <td>36.0</td>\n",
       "      <td>6.200000e+01</td>\n",
       "      <td>8.900000e+01</td>\n",
       "      <td>2.630000e+02</td>\n",
       "      <td>7.000000e+01</td>\n",
       "      <td>4.100000e+01</td>\n",
       "      <td>4.127134</td>\n",
       "      <td>3.688879</td>\n",
       "      <td>6.361302</td>\n",
       "    </tr>\n",
       "    <tr>\n",
       "      <th>1</th>\n",
       "      <td>579.0</td>\n",
       "      <td>40.0</td>\n",
       "      <td>838.0</td>\n",
       "      <td>22.0</td>\n",
       "      <td>36.0</td>\n",
       "      <td>6.200000e+01</td>\n",
       "      <td>8.900000e+01</td>\n",
       "      <td>2.630000e+02</td>\n",
       "      <td>7.000000e+01</td>\n",
       "      <td>4.100000e+01</td>\n",
       "      <td>4.127134</td>\n",
       "      <td>3.688879</td>\n",
       "      <td>6.361302</td>\n",
       "    </tr>\n",
       "    <tr>\n",
       "      <th>2</th>\n",
       "      <td>579.0</td>\n",
       "      <td>40.0</td>\n",
       "      <td>838.0</td>\n",
       "      <td>22.0</td>\n",
       "      <td>36.0</td>\n",
       "      <td>6.200000e+01</td>\n",
       "      <td>8.900000e+01</td>\n",
       "      <td>2.630000e+02</td>\n",
       "      <td>7.000000e+01</td>\n",
       "      <td>4.100000e+01</td>\n",
       "      <td>4.127134</td>\n",
       "      <td>3.688879</td>\n",
       "      <td>6.361302</td>\n",
       "    </tr>\n",
       "    <tr>\n",
       "      <th>3</th>\n",
       "      <td>579.0</td>\n",
       "      <td>40.0</td>\n",
       "      <td>838.0</td>\n",
       "      <td>22.0</td>\n",
       "      <td>36.0</td>\n",
       "      <td>6.200000e+01</td>\n",
       "      <td>8.900000e+01</td>\n",
       "      <td>2.630000e+02</td>\n",
       "      <td>7.000000e+01</td>\n",
       "      <td>4.100000e+01</td>\n",
       "      <td>4.127134</td>\n",
       "      <td>3.688879</td>\n",
       "      <td>6.361302</td>\n",
       "    </tr>\n",
       "    <tr>\n",
       "      <th>4</th>\n",
       "      <td>579.0</td>\n",
       "      <td>40.0</td>\n",
       "      <td>838.0</td>\n",
       "      <td>22.0</td>\n",
       "      <td>36.0</td>\n",
       "      <td>6.200000e+01</td>\n",
       "      <td>8.900000e+01</td>\n",
       "      <td>2.630000e+02</td>\n",
       "      <td>7.000000e+01</td>\n",
       "      <td>4.100000e+01</td>\n",
       "      <td>4.127134</td>\n",
       "      <td>3.688879</td>\n",
       "      <td>6.361302</td>\n",
       "    </tr>\n",
       "    <tr>\n",
       "      <th>...</th>\n",
       "      <td>...</td>\n",
       "      <td>...</td>\n",
       "      <td>...</td>\n",
       "      <td>...</td>\n",
       "      <td>...</td>\n",
       "      <td>...</td>\n",
       "      <td>...</td>\n",
       "      <td>...</td>\n",
       "      <td>...</td>\n",
       "      <td>...</td>\n",
       "      <td>...</td>\n",
       "      <td>...</td>\n",
       "      <td>...</td>\n",
       "    </tr>\n",
       "    <tr>\n",
       "      <th>21756</th>\n",
       "      <td>403.0</td>\n",
       "      <td>48.0</td>\n",
       "      <td>187.0</td>\n",
       "      <td>253.0</td>\n",
       "      <td>20.0</td>\n",
       "      <td>3.334921e+12</td>\n",
       "      <td>2.667192e+12</td>\n",
       "      <td>9.856348e+11</td>\n",
       "      <td>7.135349e+11</td>\n",
       "      <td>6.012538e+10</td>\n",
       "      <td>28.835470</td>\n",
       "      <td>3.871201</td>\n",
       "      <td>5.998937</td>\n",
       "    </tr>\n",
       "    <tr>\n",
       "      <th>21760</th>\n",
       "      <td>403.0</td>\n",
       "      <td>48.0</td>\n",
       "      <td>187.0</td>\n",
       "      <td>253.0</td>\n",
       "      <td>20.0</td>\n",
       "      <td>5.223788e+12</td>\n",
       "      <td>4.177862e+12</td>\n",
       "      <td>1.543889e+12</td>\n",
       "      <td>1.117674e+12</td>\n",
       "      <td>9.417980e+10</td>\n",
       "      <td>29.284244</td>\n",
       "      <td>3.871201</td>\n",
       "      <td>5.998937</td>\n",
       "    </tr>\n",
       "    <tr>\n",
       "      <th>21761</th>\n",
       "      <td>403.0</td>\n",
       "      <td>48.0</td>\n",
       "      <td>187.0</td>\n",
       "      <td>253.0</td>\n",
       "      <td>20.0</td>\n",
       "      <td>5.651871e+12</td>\n",
       "      <td>4.520233e+12</td>\n",
       "      <td>1.670409e+12</td>\n",
       "      <td>1.209266e+12</td>\n",
       "      <td>1.018977e+11</td>\n",
       "      <td>29.363008</td>\n",
       "      <td>3.871201</td>\n",
       "      <td>5.998937</td>\n",
       "    </tr>\n",
       "    <tr>\n",
       "      <th>21763</th>\n",
       "      <td>403.0</td>\n",
       "      <td>48.0</td>\n",
       "      <td>187.0</td>\n",
       "      <td>253.0</td>\n",
       "      <td>20.0</td>\n",
       "      <td>9.806384e+12</td>\n",
       "      <td>7.842915e+12</td>\n",
       "      <td>2.898273e+12</td>\n",
       "      <td>2.098160e+12</td>\n",
       "      <td>1.767995e+11</td>\n",
       "      <td>29.914055</td>\n",
       "      <td>3.871201</td>\n",
       "      <td>5.998937</td>\n",
       "    </tr>\n",
       "    <tr>\n",
       "      <th>21764</th>\n",
       "      <td>403.0</td>\n",
       "      <td>48.0</td>\n",
       "      <td>187.0</td>\n",
       "      <td>253.0</td>\n",
       "      <td>20.0</td>\n",
       "      <td>8.654165e+12</td>\n",
       "      <td>6.921397e+12</td>\n",
       "      <td>2.557735e+12</td>\n",
       "      <td>1.851633e+12</td>\n",
       "      <td>1.560262e+11</td>\n",
       "      <td>29.789062</td>\n",
       "      <td>3.871201</td>\n",
       "      <td>5.998937</td>\n",
       "    </tr>\n",
       "  </tbody>\n",
       "</table>\n",
       "<p>20369 rows × 13 columns</p>\n",
       "</div>"
      ],
      "text/plain": [
       "       total_sleep_time  percent_time_asleep   waso  sleep_onset_latency  \\\n",
       "0                 579.0                 40.0  838.0                 22.0   \n",
       "1                 579.0                 40.0  838.0                 22.0   \n",
       "2                 579.0                 40.0  838.0                 22.0   \n",
       "3                 579.0                 40.0  838.0                 22.0   \n",
       "4                 579.0                 40.0  838.0                 22.0   \n",
       "...                 ...                  ...    ...                  ...   \n",
       "21756             403.0                 48.0  187.0                253.0   \n",
       "21760             403.0                 48.0  187.0                253.0   \n",
       "21761             403.0                 48.0  187.0                253.0   \n",
       "21763             403.0                 48.0  187.0                253.0   \n",
       "21764             403.0                 48.0  187.0                253.0   \n",
       "\n",
       "       number_wake_bouts  stage_0_count  stage_1_count  stage_2_count  \\\n",
       "0                   36.0   6.200000e+01   8.900000e+01   2.630000e+02   \n",
       "1                   36.0   6.200000e+01   8.900000e+01   2.630000e+02   \n",
       "2                   36.0   6.200000e+01   8.900000e+01   2.630000e+02   \n",
       "3                   36.0   6.200000e+01   8.900000e+01   2.630000e+02   \n",
       "4                   36.0   6.200000e+01   8.900000e+01   2.630000e+02   \n",
       "...                  ...            ...            ...            ...   \n",
       "21756               20.0   3.334921e+12   2.667192e+12   9.856348e+11   \n",
       "21760               20.0   5.223788e+12   4.177862e+12   1.543889e+12   \n",
       "21761               20.0   5.651871e+12   4.520233e+12   1.670409e+12   \n",
       "21763               20.0   9.806384e+12   7.842915e+12   2.898273e+12   \n",
       "21764               20.0   8.654165e+12   6.921397e+12   2.557735e+12   \n",
       "\n",
       "       stage_3_count  stage_5_count  stage_0_count_log  \\\n",
       "0       7.000000e+01   4.100000e+01           4.127134   \n",
       "1       7.000000e+01   4.100000e+01           4.127134   \n",
       "2       7.000000e+01   4.100000e+01           4.127134   \n",
       "3       7.000000e+01   4.100000e+01           4.127134   \n",
       "4       7.000000e+01   4.100000e+01           4.127134   \n",
       "...              ...            ...                ...   \n",
       "21756   7.135349e+11   6.012538e+10          28.835470   \n",
       "21760   1.117674e+12   9.417980e+10          29.284244   \n",
       "21761   1.209266e+12   1.018977e+11          29.363008   \n",
       "21763   2.098160e+12   1.767995e+11          29.914055   \n",
       "21764   1.851633e+12   1.560262e+11          29.789062   \n",
       "\n",
       "       percent_time_asleep_log  total_sleep_time_log  \n",
       "0                     3.688879              6.361302  \n",
       "1                     3.688879              6.361302  \n",
       "2                     3.688879              6.361302  \n",
       "3                     3.688879              6.361302  \n",
       "4                     3.688879              6.361302  \n",
       "...                        ...                   ...  \n",
       "21756                 3.871201              5.998937  \n",
       "21760                 3.871201              5.998937  \n",
       "21761                 3.871201              5.998937  \n",
       "21763                 3.871201              5.998937  \n",
       "21764                 3.871201              5.998937  \n",
       "\n",
       "[20369 rows x 13 columns]"
      ]
     },
     "execution_count": 19,
     "metadata": {},
     "output_type": "execute_result"
    }
   ],
   "source": [
    "df_imputed[sleep_features]"
   ]
  },
  {
   "cell_type": "code",
   "execution_count": 60,
   "id": "bce07b93-a9f2-440b-84b5-ffc3cfbda35d",
   "metadata": {
    "tags": []
   },
   "outputs": [],
   "source": [
    "sleep_features=['total_sleep_time',\n",
    " 'percent_time_asleep',\n",
    " 'waso',\n",
    " 'sleep_onset_latency',\n",
    " 'number_wake_bouts',\n",
    " 'stage_0_count',\n",
    " 'stage_1_count',\n",
    " 'stage_2_count',\n",
    " 'stage_3_count',\n",
    " 'stage_5_count',\n",
    " 'stage_0_count_log',\n",
    " 'percent_time_asleep_log',\n",
    " 'total_sleep_time_log',\n",
    " 'percent_time_asleep_log',\n",
    " 'total_sleep_time_log']"
   ]
  },
  {
   "cell_type": "code",
   "execution_count": 12,
   "id": "be19cf85-fd52-4f6c-9625-eff28cfc0241",
   "metadata": {
    "tags": []
   },
   "outputs": [
    {
     "data": {
      "image/png": "[encoded data removed]",
      "text/plain": [
       "<Figure size 864x1152 with 1 Axes>"
      ]
     },
     "metadata": {
      "needs_background": "light"
     },
     "output_type": "display_data"
    },
    {
     "data": {
      "text/plain": [
       "<Axes: title={'center': 'Features correlation with dependent variable'}, xlabel='Pearson Correlation'>"
      ]
     },
     "execution_count": 12,
     "metadata": {},
     "output_type": "execute_result"
    }
   ],
   "source": [
    "from yellowbrick.target import FeatureCorrelation\n",
    "\n",
    "plt.figure(figsize=(12, 16))\n",
    "visualizer = FeatureCorrelation(labels=sleep_features)\n",
    "visualizer.fit(df_imputed[sleep_features], df_imputed['IG'])\n",
    "visualizer.show()"
   ]
  },
  {
   "cell_type": "code",
   "execution_count": null,
   "id": "84595803-bb43-4649-bf71-f5b05977d8e8",
   "metadata": {},
   "outputs": [],
   "source": [
    "sleep_features=['total_sleep_time',\n",
    " 'percent_time_asleep',\n",
    " 'waso',\n",
    " 'sleep_onset_latency',\n",
    " 'number_wake_bouts',\n",
    " 'stage_0_count',\n",
    " 'stage_1_count',\n",
    " 'stage_2_count',\n",
    " 'stage_3_count',\n",
    " 'stage_5_count',\n",
    " 'stage_0_count_log',\n",
    " 'percent_time_asleep_log',\n",
    " 'total_sleep_time_log',\n",
    " 'percent_time_asleep_log',\n",
    " 'total_sleep_time_log']"
   ]
  },
  {
   "cell_type": "code",
   "execution_count": 29,
   "id": "5d1cda27-04af-408a-9d73-27d9d378235f",
   "metadata": {},
   "outputs": [
    {
     "data": {
      "image/png": "[encoded data removed]",
      "text/plain": [
       "<Figure size 432x288 with 1 Axes>"
      ]
     },
     "metadata": {
      "needs_background": "light"
     },
     "output_type": "display_data"
    },
    {
     "data": {
      "image/png": "[encoded data removed]",
      "text/plain": [
       "<Figure size 432x288 with 1 Axes>"
      ]
     },
     "metadata": {
      "needs_background": "light"
     },
     "output_type": "display_data"
    },
    {
     "data": {
      "image/png": "[encoded data removed]",
      "text/plain": [
       "<Figure size 432x288 with 1 Axes>"
      ]
     },
     "metadata": {
      "needs_background": "light"
     },
     "output_type": "display_data"
    },
    {
     "data": {
      "image/png": "[encoded data removed]",
      "text/plain": [
       "<Figure size 432x288 with 1 Axes>"
      ]
     },
     "metadata": {
      "needs_background": "light"
     },
     "output_type": "display_data"
    },
    {
     "ename": "MemoryError",
     "evalue": "Unable to allocate 107. TiB for an array with shape (14715876027564,) and data type float64",
     "output_type": "error",
     "traceback": [
      "\u001b[0;31m---------------------------------------------------------------------------\u001b[0m",
      "\u001b[0;31mMemoryError\u001b[0m                               Traceback (most recent call last)",
      "Input \u001b[0;32mIn [29]\u001b[0m, in \u001b[0;36m<cell line: 45>\u001b[0;34m()\u001b[0m\n\u001b[1;32m     43\u001b[0m scaler \u001b[38;5;241m=\u001b[39m StandardScaler()\n\u001b[1;32m     44\u001b[0m df[\u001b[38;5;124m'\u001b[39m\u001b[38;5;124mstage_0_count_standardized\u001b[39m\u001b[38;5;124m'\u001b[39m] \u001b[38;5;241m=\u001b[39m scaler\u001b[38;5;241m.\u001b[39mfit_transform(df[[\u001b[38;5;124m'\u001b[39m\u001b[38;5;124mstage_0_count\u001b[39m\u001b[38;5;124m'\u001b[39m]])\n\u001b[0;32m---> 45\u001b[0m \u001b[43msns\u001b[49m\u001b[38;5;241;43m.\u001b[39;49m\u001b[43mhistplot\u001b[49m\u001b[43m(\u001b[49m\u001b[43mdf\u001b[49m\u001b[43m[\u001b[49m\u001b[38;5;124;43m'\u001b[39;49m\u001b[38;5;124;43mstage_0_count_standardized\u001b[39;49m\u001b[38;5;124;43m'\u001b[39;49m\u001b[43m]\u001b[49m\u001b[43m,\u001b[49m\u001b[43m \u001b[49m\u001b[43mkde\u001b[49m\u001b[38;5;241;43m=\u001b[39;49m\u001b[38;5;28;43;01mTrue\u001b[39;49;00m\u001b[43m)\u001b[49m\n\u001b[1;32m     46\u001b[0m plt\u001b[38;5;241m.\u001b[39mtitle(\u001b[38;5;124m'\u001b[39m\u001b[38;5;124mStandardized stage_0_count Distribution\u001b[39m\u001b[38;5;124m'\u001b[39m)\n\u001b[1;32m     47\u001b[0m plt\u001b[38;5;241m.\u001b[39mshow()\n",
      "File \u001b[0;32m~/.local/Python-3.10-gimkl-2022a/lib/python3.10/site-packages/seaborn/distributions.py:1416\u001b[0m, in \u001b[0;36mhistplot\u001b[0;34m(data, x, y, hue, weights, stat, bins, binwidth, binrange, discrete, cumulative, common_bins, common_norm, multiple, element, fill, shrink, kde, kde_kws, line_kws, thresh, pthresh, pmax, cbar, cbar_ax, cbar_kws, palette, hue_order, hue_norm, color, log_scale, legend, ax, **kwargs)\u001b[0m\n\u001b[1;32m   1405\u001b[0m estimate_kws \u001b[38;5;241m=\u001b[39m \u001b[38;5;28mdict\u001b[39m(\n\u001b[1;32m   1406\u001b[0m     stat\u001b[38;5;241m=\u001b[39mstat,\n\u001b[1;32m   1407\u001b[0m     bins\u001b[38;5;241m=\u001b[39mbins,\n\u001b[0;32m   (...)\u001b[0m\n\u001b[1;32m   1411\u001b[0m     cumulative\u001b[38;5;241m=\u001b[39mcumulative,\n\u001b[1;32m   1412\u001b[0m )\n\u001b[1;32m   1414\u001b[0m \u001b[38;5;28;01mif\u001b[39;00m p\u001b[38;5;241m.\u001b[39munivariate:\n\u001b[0;32m-> 1416\u001b[0m     \u001b[43mp\u001b[49m\u001b[38;5;241;43m.\u001b[39;49m\u001b[43mplot_univariate_histogram\u001b[49m\u001b[43m(\u001b[49m\n\u001b[1;32m   1417\u001b[0m \u001b[43m        \u001b[49m\u001b[43mmultiple\u001b[49m\u001b[38;5;241;43m=\u001b[39;49m\u001b[43mmultiple\u001b[49m\u001b[43m,\u001b[49m\n\u001b[1;32m   1418\u001b[0m \u001b[43m        \u001b[49m\u001b[43melement\u001b[49m\u001b[38;5;241;43m=\u001b[39;49m\u001b[43melement\u001b[49m\u001b[43m,\u001b[49m\n\u001b[1;32m   1419\u001b[0m \u001b[43m        \u001b[49m\u001b[43mfill\u001b[49m\u001b[38;5;241;43m=\u001b[39;49m\u001b[43mfill\u001b[49m\u001b[43m,\u001b[49m\n\u001b[1;32m   1420\u001b[0m \u001b[43m        \u001b[49m\u001b[43mshrink\u001b[49m\u001b[38;5;241;43m=\u001b[39;49m\u001b[43mshrink\u001b[49m\u001b[43m,\u001b[49m\n\u001b[1;32m   1421\u001b[0m \u001b[43m        \u001b[49m\u001b[43mcommon_norm\u001b[49m\u001b[38;5;241;43m=\u001b[39;49m\u001b[43mcommon_norm\u001b[49m\u001b[43m,\u001b[49m\n\u001b[1;32m   1422\u001b[0m \u001b[43m        \u001b[49m\u001b[43mcommon_bins\u001b[49m\u001b[38;5;241;43m=\u001b[39;49m\u001b[43mcommon_bins\u001b[49m\u001b[43m,\u001b[49m\n\u001b[1;32m   1423\u001b[0m \u001b[43m        \u001b[49m\u001b[43mkde\u001b[49m\u001b[38;5;241;43m=\u001b[39;49m\u001b[43mkde\u001b[49m\u001b[43m,\u001b[49m\n\u001b[1;32m   1424\u001b[0m \u001b[43m        \u001b[49m\u001b[43mkde_kws\u001b[49m\u001b[38;5;241;43m=\u001b[39;49m\u001b[43mkde_kws\u001b[49m\u001b[43m,\u001b[49m\n\u001b[1;32m   1425\u001b[0m \u001b[43m        \u001b[49m\u001b[43mcolor\u001b[49m\u001b[38;5;241;43m=\u001b[39;49m\u001b[43mcolor\u001b[49m\u001b[43m,\u001b[49m\n\u001b[1;32m   1426\u001b[0m \u001b[43m        \u001b[49m\u001b[43mlegend\u001b[49m\u001b[38;5;241;43m=\u001b[39;49m\u001b[43mlegend\u001b[49m\u001b[43m,\u001b[49m\n\u001b[1;32m   1427\u001b[0m \u001b[43m        \u001b[49m\u001b[43mestimate_kws\u001b[49m\u001b[38;5;241;43m=\u001b[39;49m\u001b[43mestimate_kws\u001b[49m\u001b[43m,\u001b[49m\n\u001b[1;32m   1428\u001b[0m \u001b[43m        \u001b[49m\u001b[43mline_kws\u001b[49m\u001b[38;5;241;43m=\u001b[39;49m\u001b[43mline_kws\u001b[49m\u001b[43m,\u001b[49m\n\u001b[1;32m   1429\u001b[0m \u001b[43m        \u001b[49m\u001b[38;5;241;43m*\u001b[39;49m\u001b[38;5;241;43m*\u001b[39;49m\u001b[43mkwargs\u001b[49m\u001b[43m,\u001b[49m\n\u001b[1;32m   1430\u001b[0m \u001b[43m    \u001b[49m\u001b[43m)\u001b[49m\n\u001b[1;32m   1432\u001b[0m \u001b[38;5;28;01melse\u001b[39;00m:\n\u001b[1;32m   1434\u001b[0m     p\u001b[38;5;241m.\u001b[39mplot_bivariate_histogram(\n\u001b[1;32m   1435\u001b[0m         common_bins\u001b[38;5;241m=\u001b[39mcommon_bins,\n\u001b[1;32m   1436\u001b[0m         common_norm\u001b[38;5;241m=\u001b[39mcommon_norm,\n\u001b[0;32m   (...)\u001b[0m\n\u001b[1;32m   1446\u001b[0m         \u001b[38;5;241m*\u001b[39m\u001b[38;5;241m*\u001b[39mkwargs,\n\u001b[1;32m   1447\u001b[0m     )\n",
      "File \u001b[0;32m~/.local/Python-3.10-gimkl-2022a/lib/python3.10/site-packages/seaborn/distributions.py:470\u001b[0m, in \u001b[0;36m_DistributionPlotter.plot_univariate_histogram\u001b[0;34m(self, multiple, element, fill, common_norm, common_bins, shrink, kde, kde_kws, color, legend, line_kws, estimate_kws, **plot_kws)\u001b[0m\n\u001b[1;32m    468\u001b[0m \u001b[38;5;66;03m# Do the histogram computation\u001b[39;00m\n\u001b[1;32m    469\u001b[0m \u001b[38;5;28;01mif\u001b[39;00m \u001b[38;5;129;01mnot\u001b[39;00m (multiple_histograms \u001b[38;5;129;01mand\u001b[39;00m common_bins):\n\u001b[0;32m--> 470\u001b[0m     bin_kws \u001b[38;5;241m=\u001b[39m \u001b[43mestimator\u001b[49m\u001b[38;5;241;43m.\u001b[39;49m\u001b[43m_define_bin_params\u001b[49m\u001b[43m(\u001b[49m\u001b[43msub_data\u001b[49m\u001b[43m,\u001b[49m\u001b[43m \u001b[49m\u001b[43morient\u001b[49m\u001b[43m,\u001b[49m\u001b[43m \u001b[49m\u001b[38;5;28;43;01mNone\u001b[39;49;00m\u001b[43m)\u001b[49m\n\u001b[1;32m    471\u001b[0m res \u001b[38;5;241m=\u001b[39m estimator\u001b[38;5;241m.\u001b[39m_normalize(estimator\u001b[38;5;241m.\u001b[39m_eval(sub_data, orient, bin_kws))\n\u001b[1;32m    472\u001b[0m heights \u001b[38;5;241m=\u001b[39m res[estimator\u001b[38;5;241m.\u001b[39mstat]\u001b[38;5;241m.\u001b[39mto_numpy()\n",
      "File \u001b[0;32m~/.local/Python-3.10-gimkl-2022a/lib/python3.10/site-packages/seaborn/_stats/counting.py:152\u001b[0m, in \u001b[0;36mHist._define_bin_params\u001b[0;34m(self, data, orient, scale_type)\u001b[0m\n\u001b[1;32m    148\u001b[0m \u001b[38;5;66;03m# TODO We'll want this for ordinal / discrete scales too\u001b[39;00m\n\u001b[1;32m    149\u001b[0m \u001b[38;5;66;03m# (Do we need discrete as a parameter or just infer from scale?)\u001b[39;00m\n\u001b[1;32m    150\u001b[0m discrete \u001b[38;5;241m=\u001b[39m \u001b[38;5;28mself\u001b[39m\u001b[38;5;241m.\u001b[39mdiscrete \u001b[38;5;129;01mor\u001b[39;00m scale_type \u001b[38;5;241m==\u001b[39m \u001b[38;5;124m\"\u001b[39m\u001b[38;5;124mnominal\u001b[39m\u001b[38;5;124m\"\u001b[39m\n\u001b[0;32m--> 152\u001b[0m bin_edges \u001b[38;5;241m=\u001b[39m \u001b[38;5;28;43mself\u001b[39;49m\u001b[38;5;241;43m.\u001b[39;49m\u001b[43m_define_bin_edges\u001b[49m\u001b[43m(\u001b[49m\n\u001b[1;32m    153\u001b[0m \u001b[43m    \u001b[49m\u001b[43mvals\u001b[49m\u001b[43m,\u001b[49m\u001b[43m \u001b[49m\u001b[43mweights\u001b[49m\u001b[43m,\u001b[49m\u001b[43m \u001b[49m\u001b[38;5;28;43mself\u001b[39;49m\u001b[38;5;241;43m.\u001b[39;49m\u001b[43mbins\u001b[49m\u001b[43m,\u001b[49m\u001b[43m \u001b[49m\u001b[38;5;28;43mself\u001b[39;49m\u001b[38;5;241;43m.\u001b[39;49m\u001b[43mbinwidth\u001b[49m\u001b[43m,\u001b[49m\u001b[43m \u001b[49m\u001b[38;5;28;43mself\u001b[39;49m\u001b[38;5;241;43m.\u001b[39;49m\u001b[43mbinrange\u001b[49m\u001b[43m,\u001b[49m\u001b[43m \u001b[49m\u001b[43mdiscrete\u001b[49m\u001b[43m,\u001b[49m\n\u001b[1;32m    154\u001b[0m \u001b[43m\u001b[49m\u001b[43m)\u001b[49m\n\u001b[1;32m    156\u001b[0m \u001b[38;5;28;01mif\u001b[39;00m \u001b[38;5;28misinstance\u001b[39m(\u001b[38;5;28mself\u001b[39m\u001b[38;5;241m.\u001b[39mbins, (\u001b[38;5;28mstr\u001b[39m, \u001b[38;5;28mint\u001b[39m)):\n\u001b[1;32m    157\u001b[0m     n_bins \u001b[38;5;241m=\u001b[39m \u001b[38;5;28mlen\u001b[39m(bin_edges) \u001b[38;5;241m-\u001b[39m \u001b[38;5;241m1\u001b[39m\n",
      "File \u001b[0;32m~/.local/Python-3.10-gimkl-2022a/lib/python3.10/site-packages/seaborn/_stats/counting.py:137\u001b[0m, in \u001b[0;36mHist._define_bin_edges\u001b[0;34m(self, vals, weight, bins, binwidth, binrange, discrete)\u001b[0m\n\u001b[1;32m    135\u001b[0m     \u001b[38;5;28;01mif\u001b[39;00m binwidth \u001b[38;5;129;01mis\u001b[39;00m \u001b[38;5;129;01mnot\u001b[39;00m \u001b[38;5;28;01mNone\u001b[39;00m:\n\u001b[1;32m    136\u001b[0m         bins \u001b[38;5;241m=\u001b[39m \u001b[38;5;28mint\u001b[39m(\u001b[38;5;28mround\u001b[39m((stop \u001b[38;5;241m-\u001b[39m start) \u001b[38;5;241m/\u001b[39m binwidth))\n\u001b[0;32m--> 137\u001b[0m     bin_edges \u001b[38;5;241m=\u001b[39m \u001b[43mnp\u001b[49m\u001b[38;5;241;43m.\u001b[39;49m\u001b[43mhistogram_bin_edges\u001b[49m\u001b[43m(\u001b[49m\u001b[43mvals\u001b[49m\u001b[43m,\u001b[49m\u001b[43m \u001b[49m\u001b[43mbins\u001b[49m\u001b[43m,\u001b[49m\u001b[43m \u001b[49m\u001b[43mbinrange\u001b[49m\u001b[43m,\u001b[49m\u001b[43m \u001b[49m\u001b[43mweight\u001b[49m\u001b[43m)\u001b[49m\n\u001b[1;32m    139\u001b[0m \u001b[38;5;66;03m# TODO warning or cap on too many bins?\u001b[39;00m\n\u001b[1;32m    141\u001b[0m \u001b[38;5;28;01mreturn\u001b[39;00m bin_edges\n",
      "File \u001b[0;32m~/.local/Python-3.10-gimkl-2022a/lib/python3.10/site-packages/numpy/lib/histograms.py:669\u001b[0m, in \u001b[0;36mhistogram_bin_edges\u001b[0;34m(a, bins, range, weights)\u001b[0m\n\u001b[1;32m    472\u001b[0m \u001b[38;5;124mr\u001b[39m\u001b[38;5;124;03m\"\"\"\u001b[39;00m\n\u001b[1;32m    473\u001b[0m \u001b[38;5;124;03mFunction to calculate only the edges of the bins used by the `histogram`\u001b[39;00m\n\u001b[1;32m    474\u001b[0m \u001b[38;5;124;03mfunction.\u001b[39;00m\n\u001b[0;32m   (...)\u001b[0m\n\u001b[1;32m    666\u001b[0m \n\u001b[1;32m    667\u001b[0m \u001b[38;5;124;03m\"\"\"\u001b[39;00m\n\u001b[1;32m    668\u001b[0m a, weights \u001b[38;5;241m=\u001b[39m _ravel_and_check_weights(a, weights)\n\u001b[0;32m--> 669\u001b[0m bin_edges, _ \u001b[38;5;241m=\u001b[39m \u001b[43m_get_bin_edges\u001b[49m\u001b[43m(\u001b[49m\u001b[43ma\u001b[49m\u001b[43m,\u001b[49m\u001b[43m \u001b[49m\u001b[43mbins\u001b[49m\u001b[43m,\u001b[49m\u001b[43m \u001b[49m\u001b[38;5;28;43mrange\u001b[39;49m\u001b[43m,\u001b[49m\u001b[43m \u001b[49m\u001b[43mweights\u001b[49m\u001b[43m)\u001b[49m\n\u001b[1;32m    670\u001b[0m \u001b[38;5;28;01mreturn\u001b[39;00m bin_edges\n",
      "File \u001b[0;32m~/.local/Python-3.10-gimkl-2022a/lib/python3.10/site-packages/numpy/lib/histograms.py:446\u001b[0m, in \u001b[0;36m_get_bin_edges\u001b[0;34m(a, bins, range, weights)\u001b[0m\n\u001b[1;32m    443\u001b[0m         bin_type \u001b[38;5;241m=\u001b[39m np\u001b[38;5;241m.\u001b[39mresult_type(bin_type, \u001b[38;5;28mfloat\u001b[39m)\n\u001b[1;32m    445\u001b[0m     \u001b[38;5;66;03m# bin edges must be computed\u001b[39;00m\n\u001b[0;32m--> 446\u001b[0m     bin_edges \u001b[38;5;241m=\u001b[39m \u001b[43mnp\u001b[49m\u001b[38;5;241;43m.\u001b[39;49m\u001b[43mlinspace\u001b[49m\u001b[43m(\u001b[49m\n\u001b[1;32m    447\u001b[0m \u001b[43m        \u001b[49m\u001b[43mfirst_edge\u001b[49m\u001b[43m,\u001b[49m\u001b[43m \u001b[49m\u001b[43mlast_edge\u001b[49m\u001b[43m,\u001b[49m\u001b[43m \u001b[49m\u001b[43mn_equal_bins\u001b[49m\u001b[43m \u001b[49m\u001b[38;5;241;43m+\u001b[39;49m\u001b[43m \u001b[49m\u001b[38;5;241;43m1\u001b[39;49m\u001b[43m,\u001b[49m\n\u001b[1;32m    448\u001b[0m \u001b[43m        \u001b[49m\u001b[43mendpoint\u001b[49m\u001b[38;5;241;43m=\u001b[39;49m\u001b[38;5;28;43;01mTrue\u001b[39;49;00m\u001b[43m,\u001b[49m\u001b[43m \u001b[49m\u001b[43mdtype\u001b[49m\u001b[38;5;241;43m=\u001b[39;49m\u001b[43mbin_type\u001b[49m\u001b[43m)\u001b[49m\n\u001b[1;32m    449\u001b[0m     \u001b[38;5;28;01mreturn\u001b[39;00m bin_edges, (first_edge, last_edge, n_equal_bins)\n\u001b[1;32m    450\u001b[0m \u001b[38;5;28;01melse\u001b[39;00m:\n",
      "File \u001b[0;32m~/.local/Python-3.10-gimkl-2022a/lib/python3.10/site-packages/numpy/core/function_base.py:140\u001b[0m, in \u001b[0;36mlinspace\u001b[0;34m(start, stop, num, endpoint, retstep, dtype, axis)\u001b[0m\n\u001b[1;32m    137\u001b[0m     integer_dtype \u001b[38;5;241m=\u001b[39m _nx\u001b[38;5;241m.\u001b[39missubdtype(dtype, _nx\u001b[38;5;241m.\u001b[39minteger)\n\u001b[1;32m    139\u001b[0m delta \u001b[38;5;241m=\u001b[39m stop \u001b[38;5;241m-\u001b[39m start\n\u001b[0;32m--> 140\u001b[0m y \u001b[38;5;241m=\u001b[39m \u001b[43m_nx\u001b[49m\u001b[38;5;241;43m.\u001b[39;49m\u001b[43marange\u001b[49m\u001b[43m(\u001b[49m\u001b[38;5;241;43m0\u001b[39;49m\u001b[43m,\u001b[49m\u001b[43m \u001b[49m\u001b[43mnum\u001b[49m\u001b[43m,\u001b[49m\u001b[43m \u001b[49m\u001b[43mdtype\u001b[49m\u001b[38;5;241;43m=\u001b[39;49m\u001b[43mdt\u001b[49m\u001b[43m)\u001b[49m\u001b[38;5;241m.\u001b[39mreshape((\u001b[38;5;241m-\u001b[39m\u001b[38;5;241m1\u001b[39m,) \u001b[38;5;241m+\u001b[39m (\u001b[38;5;241m1\u001b[39m,) \u001b[38;5;241m*\u001b[39m ndim(delta))\n\u001b[1;32m    141\u001b[0m \u001b[38;5;66;03m# In-place multiplication y *= delta/div is faster, but prevents the multiplicant\u001b[39;00m\n\u001b[1;32m    142\u001b[0m \u001b[38;5;66;03m# from overriding what class is produced, and thus prevents, e.g. use of Quantities,\u001b[39;00m\n\u001b[1;32m    143\u001b[0m \u001b[38;5;66;03m# see gh-7142. Hence, we multiply in place only for standard scalar types.\u001b[39;00m\n\u001b[1;32m    144\u001b[0m \u001b[38;5;28;01mif\u001b[39;00m div \u001b[38;5;241m>\u001b[39m \u001b[38;5;241m0\u001b[39m:\n",
      "\u001b[0;31mMemoryError\u001b[0m: Unable to allocate 107. TiB for an array with shape (14715876027564,) and data type float64"
     ]
    },
    {
     "data": {
      "image/png": "[encoded data removed]",
      "text/plain": [
       "<Figure size 432x288 with 1 Axes>"
      ]
     },
     "metadata": {
      "needs_background": "light"
     },
     "output_type": "display_data"
    }
   ],
   "source": [
    "import pandas as pd\n",
    "import numpy as np\n",
    "from scipy.stats import boxcox, shapiro, rankdata, norm\n",
    "from sklearn.preprocessing import PowerTransformer, StandardScaler\n",
    "import matplotlib.pyplot as plt\n",
    "import seaborn as sns\n",
    "\n",
    "# Assuming df is your DataFrame and 'HR_Std' is a non-normal feature\n",
    "df= df_imputed\n",
    "\"\"\"\n",
    "# Original Data\n",
    "sns.histplot(df['stage_0_count'], kde=True)\n",
    "plt.title('Original stage_0_count Distribution')\n",
    "plt.show()\n",
    "\"\"\"\n",
    "# Log Transformation\n",
    "df['stage_0_count_log'] = np.log(df['stage_0_count'] + 1)\n",
    "sns.histplot(df['stage_0_count_log'], kde=True)\n",
    "plt.title('Log Transformed stage_0_count_log Distribution')\n",
    "plt.show()\n",
    "\n",
    "# Box-Cox Transformation\n",
    "df['stage_0_count_boxcox'], _ = boxcox(df['stage_0_count'] + 1)\n",
    "sns.histplot(df['stage_0_count_boxcox'], kde=True)\n",
    "plt.title('Box-Cox Transformed stage_0_count_boxcox Distribution')\n",
    "plt.show()\n",
    "\n",
    "# Yeo-Johnson Transformation\n",
    "pt = PowerTransformer(method='yeo-johnson')\n",
    "df['stage_0_count_yeojohnson'] = pt.fit_transform(df[['stage_0_count']])\n",
    "sns.histplot(df['stage_0_count_yeojohnson'], kde=True)\n",
    "plt.title('Yeo-Johnson Transformed stage_0_count Distribution')\n",
    "plt.show()\n",
    "\n",
    "# Rank-Based Inverse Normal Transformation\n",
    "ranks = rankdata(df['stage_0_count'])\n",
    "df['stage_0_count_rank'] = norm.ppf((ranks - 0.5) / len(ranks))\n",
    "sns.histplot(df['stage_0_count_rank'], kde=True)\n",
    "plt.title('Rank-Based Inverse Normal Transformed stage_0_count')\n",
    "plt.show()\n",
    "\n",
    "# Standardization\n",
    "scaler = StandardScaler()\n",
    "df['stage_0_count_standardized'] = scaler.fit_transform(df[['stage_0_count']])\n",
    "sns.histplot(df['stage_0_count_standardized'], kde=True)\n",
    "plt.title('Standardized stage_0_count Distribution')\n",
    "plt.show()\n",
    "\n",
    "# Re-evaluate normality using Shapiro-Wilk test\n",
    "_, p_value_original = shapiro(df['stage_0_count'])\n",
    "_, p_value_log = shapiro(df['stage_0_count_log'])\n",
    "_, p_value_boxcox = shapiro(df['stage_0_count_boxcox'])\n",
    "_, p_value_yeojohnson = shapiro(df['stage_0_count_yeojohnson'])\n",
    "_, p_value_rank = shapiro(df['stage_0_count_rank'])\n",
    "_, p_value_standardized = shapiro(df['stage_0_count'])\n",
    "\n",
    "print(f'Original: p-value = {p_value_original}')\n",
    "print(f'Log: p-value = {p_value_log}')\n",
    "print(f'Box-Cox: p-value = {p_value_boxcox}')\n",
    "print(f'Yeo-Johnson: p-value = {p_value_yeojohnson}')\n",
    "print(f'Rank-Based Inverse Normal: p-value = {p_value_rank}')\n",
    "print(f'Standardized: p-value = {p_value_standardized}')"
   ]
  },
  {
   "cell_type": "code",
   "execution_count": 24,
   "id": "6d04e82e-bdfe-4488-9a3a-10bbfeb24160",
   "metadata": {
    "tags": []
   },
   "outputs": [
    {
     "data": {
      "text/html": [
       "<div>\n",
       "<style scoped>\n",
       "    .dataframe tbody tr th:only-of-type {\n",
       "        vertical-align: middle;\n",
       "    }\n",
       "\n",
       "    .dataframe tbody tr th {\n",
       "        vertical-align: top;\n",
       "    }\n",
       "\n",
       "    .dataframe thead th {\n",
       "        text-align: right;\n",
       "    }\n",
       "</style>\n",
       "<table border=\"1\" class=\"dataframe\">\n",
       "  <thead>\n",
       "    <tr style=\"text-align: right;\">\n",
       "      <th></th>\n",
       "      <th>IG</th>\n",
       "      <th>Participant</th>\n",
       "      <th>HR_Mean</th>\n",
       "      <th>HR_Max</th>\n",
       "      <th>HR_Std</th>\n",
       "      <th>HR_Skew</th>\n",
       "      <th>HR_Q1G</th>\n",
       "      <th>HR_Q3G</th>\n",
       "      <th>EDA_Mean</th>\n",
       "      <th>EDA_Max</th>\n",
       "      <th>...</th>\n",
       "      <th>glucose_level</th>\n",
       "      <th>Gender</th>\n",
       "      <th>total_sleep_time_log</th>\n",
       "      <th>percent_time_asleep_log</th>\n",
       "      <th>stage_0_count_log</th>\n",
       "      <th>total_sleep_time_boxcox</th>\n",
       "      <th>HR_Std_yeojohnson</th>\n",
       "      <th>total_sleep_time_rank</th>\n",
       "      <th>total_sleep_time_standardized</th>\n",
       "      <th>total_sleep_time_yeojohnson</th>\n",
       "    </tr>\n",
       "  </thead>\n",
       "  <tbody>\n",
       "    <tr>\n",
       "      <th>0</th>\n",
       "      <td>97.0</td>\n",
       "      <td>16.0</td>\n",
       "      <td>73.225681</td>\n",
       "      <td>73.57</td>\n",
       "      <td>0.234825</td>\n",
       "      <td>-0.862047</td>\n",
       "      <td>73.108174</td>\n",
       "      <td>73.313689</td>\n",
       "      <td>0.301333</td>\n",
       "      <td>0.334533</td>\n",
       "      <td>...</td>\n",
       "      <td>Normal</td>\n",
       "      <td>MALE</td>\n",
       "      <td>6.363028</td>\n",
       "      <td>3.688879</td>\n",
       "      <td>4.127134</td>\n",
       "      <td>32.989376</td>\n",
       "      <td>-1.854988</td>\n",
       "      <td>-0.020245</td>\n",
       "      <td>-0.047577</td>\n",
       "      <td>0.067502</td>\n",
       "    </tr>\n",
       "    <tr>\n",
       "      <th>1</th>\n",
       "      <td>95.0</td>\n",
       "      <td>16.0</td>\n",
       "      <td>72.758239</td>\n",
       "      <td>73.57</td>\n",
       "      <td>0.351658</td>\n",
       "      <td>0.620606</td>\n",
       "      <td>72.608911</td>\n",
       "      <td>72.921836</td>\n",
       "      <td>0.359451</td>\n",
       "      <td>0.394727</td>\n",
       "      <td>...</td>\n",
       "      <td>Normal</td>\n",
       "      <td>MALE</td>\n",
       "      <td>6.363028</td>\n",
       "      <td>3.688879</td>\n",
       "      <td>4.127134</td>\n",
       "      <td>32.989376</td>\n",
       "      <td>-1.732922</td>\n",
       "      <td>-0.020245</td>\n",
       "      <td>-0.047577</td>\n",
       "      <td>0.067502</td>\n",
       "    </tr>\n",
       "    <tr>\n",
       "      <th>2</th>\n",
       "      <td>92.0</td>\n",
       "      <td>16.0</td>\n",
       "      <td>73.699934</td>\n",
       "      <td>75.07</td>\n",
       "      <td>0.628637</td>\n",
       "      <td>-0.038853</td>\n",
       "      <td>73.416714</td>\n",
       "      <td>73.968872</td>\n",
       "      <td>0.423380</td>\n",
       "      <td>0.458762</td>\n",
       "      <td>...</td>\n",
       "      <td>Normal</td>\n",
       "      <td>MALE</td>\n",
       "      <td>6.363028</td>\n",
       "      <td>3.688879</td>\n",
       "      <td>4.127134</td>\n",
       "      <td>32.989376</td>\n",
       "      <td>-1.482199</td>\n",
       "      <td>-0.020245</td>\n",
       "      <td>-0.047577</td>\n",
       "      <td>0.067502</td>\n",
       "    </tr>\n",
       "    <tr>\n",
       "      <th>3</th>\n",
       "      <td>89.0</td>\n",
       "      <td>16.0</td>\n",
       "      <td>73.565316</td>\n",
       "      <td>77.47</td>\n",
       "      <td>2.043241</td>\n",
       "      <td>0.121869</td>\n",
       "      <td>72.647048</td>\n",
       "      <td>74.517301</td>\n",
       "      <td>0.481480</td>\n",
       "      <td>1.456508</td>\n",
       "      <td>...</td>\n",
       "      <td>Low</td>\n",
       "      <td>MALE</td>\n",
       "      <td>6.363028</td>\n",
       "      <td>3.688879</td>\n",
       "      <td>4.127134</td>\n",
       "      <td>32.989376</td>\n",
       "      <td>-0.650880</td>\n",
       "      <td>-0.020245</td>\n",
       "      <td>-0.047577</td>\n",
       "      <td>0.067502</td>\n",
       "    </tr>\n",
       "    <tr>\n",
       "      <th>4</th>\n",
       "      <td>90.0</td>\n",
       "      <td>16.0</td>\n",
       "      <td>75.144385</td>\n",
       "      <td>80.30</td>\n",
       "      <td>2.978029</td>\n",
       "      <td>0.467569</td>\n",
       "      <td>73.879337</td>\n",
       "      <td>76.672485</td>\n",
       "      <td>1.854490</td>\n",
       "      <td>5.904090</td>\n",
       "      <td>...</td>\n",
       "      <td>Low</td>\n",
       "      <td>MALE</td>\n",
       "      <td>6.363028</td>\n",
       "      <td>3.688879</td>\n",
       "      <td>4.127134</td>\n",
       "      <td>32.989376</td>\n",
       "      <td>-0.299151</td>\n",
       "      <td>-0.020245</td>\n",
       "      <td>-0.047577</td>\n",
       "      <td>0.067502</td>\n",
       "    </tr>\n",
       "    <tr>\n",
       "      <th>...</th>\n",
       "      <td>...</td>\n",
       "      <td>...</td>\n",
       "      <td>...</td>\n",
       "      <td>...</td>\n",
       "      <td>...</td>\n",
       "      <td>...</td>\n",
       "      <td>...</td>\n",
       "      <td>...</td>\n",
       "      <td>...</td>\n",
       "      <td>...</td>\n",
       "      <td>...</td>\n",
       "      <td>...</td>\n",
       "      <td>...</td>\n",
       "      <td>...</td>\n",
       "      <td>...</td>\n",
       "      <td>...</td>\n",
       "      <td>...</td>\n",
       "      <td>...</td>\n",
       "      <td>...</td>\n",
       "      <td>...</td>\n",
       "      <td>...</td>\n",
       "    </tr>\n",
       "    <tr>\n",
       "      <th>21756</th>\n",
       "      <td>174.0</td>\n",
       "      <td>2.0</td>\n",
       "      <td>83.044585</td>\n",
       "      <td>87.05</td>\n",
       "      <td>1.797977</td>\n",
       "      <td>0.482883</td>\n",
       "      <td>82.291102</td>\n",
       "      <td>83.831879</td>\n",
       "      <td>0.570997</td>\n",
       "      <td>0.596047</td>\n",
       "      <td>...</td>\n",
       "      <td>High</td>\n",
       "      <td>MALE</td>\n",
       "      <td>6.001415</td>\n",
       "      <td>3.871201</td>\n",
       "      <td>28.835470</td>\n",
       "      <td>27.942060</td>\n",
       "      <td>-0.761763</td>\n",
       "      <td>-1.170405</td>\n",
       "      <td>-0.318091</td>\n",
       "      <td>-0.531718</td>\n",
       "    </tr>\n",
       "    <tr>\n",
       "      <th>21760</th>\n",
       "      <td>181.0</td>\n",
       "      <td>2.0</td>\n",
       "      <td>85.898538</td>\n",
       "      <td>88.55</td>\n",
       "      <td>1.808236</td>\n",
       "      <td>-0.842159</td>\n",
       "      <td>84.978402</td>\n",
       "      <td>86.595798</td>\n",
       "      <td>0.530921</td>\n",
       "      <td>0.566582</td>\n",
       "      <td>...</td>\n",
       "      <td>High</td>\n",
       "      <td>MALE</td>\n",
       "      <td>6.001415</td>\n",
       "      <td>3.871201</td>\n",
       "      <td>29.284244</td>\n",
       "      <td>27.942060</td>\n",
       "      <td>-0.756928</td>\n",
       "      <td>-1.170405</td>\n",
       "      <td>-0.318091</td>\n",
       "      <td>-0.531718</td>\n",
       "    </tr>\n",
       "    <tr>\n",
       "      <th>21761</th>\n",
       "      <td>177.0</td>\n",
       "      <td>2.0</td>\n",
       "      <td>82.445449</td>\n",
       "      <td>86.57</td>\n",
       "      <td>2.433794</td>\n",
       "      <td>-0.729108</td>\n",
       "      <td>81.244232</td>\n",
       "      <td>83.365709</td>\n",
       "      <td>0.515155</td>\n",
       "      <td>0.538398</td>\n",
       "      <td>...</td>\n",
       "      <td>High</td>\n",
       "      <td>MALE</td>\n",
       "      <td>6.001415</td>\n",
       "      <td>3.871201</td>\n",
       "      <td>29.363008</td>\n",
       "      <td>27.942060</td>\n",
       "      <td>-0.492006</td>\n",
       "      <td>-1.170405</td>\n",
       "      <td>-0.318091</td>\n",
       "      <td>-0.531718</td>\n",
       "    </tr>\n",
       "    <tr>\n",
       "      <th>21763</th>\n",
       "      <td>166.0</td>\n",
       "      <td>2.0</td>\n",
       "      <td>86.173621</td>\n",
       "      <td>87.45</td>\n",
       "      <td>0.689601</td>\n",
       "      <td>-1.170720</td>\n",
       "      <td>85.873365</td>\n",
       "      <td>86.427853</td>\n",
       "      <td>0.509617</td>\n",
       "      <td>0.516619</td>\n",
       "      <td>...</td>\n",
       "      <td>Normal</td>\n",
       "      <td>MALE</td>\n",
       "      <td>6.001415</td>\n",
       "      <td>3.871201</td>\n",
       "      <td>29.914055</td>\n",
       "      <td>27.942060</td>\n",
       "      <td>-1.432926</td>\n",
       "      <td>-1.170405</td>\n",
       "      <td>-0.318091</td>\n",
       "      <td>-0.531718</td>\n",
       "    </tr>\n",
       "    <tr>\n",
       "      <th>21764</th>\n",
       "      <td>163.0</td>\n",
       "      <td>2.0</td>\n",
       "      <td>85.970698</td>\n",
       "      <td>92.77</td>\n",
       "      <td>2.603373</td>\n",
       "      <td>1.245301</td>\n",
       "      <td>85.027960</td>\n",
       "      <td>87.309510</td>\n",
       "      <td>0.494071</td>\n",
       "      <td>0.726719</td>\n",
       "      <td>...</td>\n",
       "      <td>Normal</td>\n",
       "      <td>MALE</td>\n",
       "      <td>6.001415</td>\n",
       "      <td>3.871201</td>\n",
       "      <td>29.789062</td>\n",
       "      <td>27.942060</td>\n",
       "      <td>-0.428728</td>\n",
       "      <td>-1.170405</td>\n",
       "      <td>-0.318091</td>\n",
       "      <td>-0.531718</td>\n",
       "    </tr>\n",
       "  </tbody>\n",
       "</table>\n",
       "<p>20369 rows × 98 columns</p>\n",
       "</div>"
      ],
      "text/plain": [
       "          IG  Participant    HR_Mean  HR_Max    HR_Std   HR_Skew     HR_Q1G  \\\n",
       "0       97.0         16.0  73.225681   73.57  0.234825 -0.862047  73.108174   \n",
       "1       95.0         16.0  72.758239   73.57  0.351658  0.620606  72.608911   \n",
       "2       92.0         16.0  73.699934   75.07  0.628637 -0.038853  73.416714   \n",
       "3       89.0         16.0  73.565316   77.47  2.043241  0.121869  72.647048   \n",
       "4       90.0         16.0  75.144385   80.30  2.978029  0.467569  73.879337   \n",
       "...      ...          ...        ...     ...       ...       ...        ...   \n",
       "21756  174.0          2.0  83.044585   87.05  1.797977  0.482883  82.291102   \n",
       "21760  181.0          2.0  85.898538   88.55  1.808236 -0.842159  84.978402   \n",
       "21761  177.0          2.0  82.445449   86.57  2.433794 -0.729108  81.244232   \n",
       "21763  166.0          2.0  86.173621   87.45  0.689601 -1.170720  85.873365   \n",
       "21764  163.0          2.0  85.970698   92.77  2.603373  1.245301  85.027960   \n",
       "\n",
       "          HR_Q3G  EDA_Mean   EDA_Max  ...  glucose_level  Gender  \\\n",
       "0      73.313689  0.301333  0.334533  ...         Normal    MALE   \n",
       "1      72.921836  0.359451  0.394727  ...         Normal    MALE   \n",
       "2      73.968872  0.423380  0.458762  ...         Normal    MALE   \n",
       "3      74.517301  0.481480  1.456508  ...            Low    MALE   \n",
       "4      76.672485  1.854490  5.904090  ...            Low    MALE   \n",
       "...          ...       ...       ...  ...            ...     ...   \n",
       "21756  83.831879  0.570997  0.596047  ...           High    MALE   \n",
       "21760  86.595798  0.530921  0.566582  ...           High    MALE   \n",
       "21761  83.365709  0.515155  0.538398  ...           High    MALE   \n",
       "21763  86.427853  0.509617  0.516619  ...         Normal    MALE   \n",
       "21764  87.309510  0.494071  0.726719  ...         Normal    MALE   \n",
       "\n",
       "       total_sleep_time_log  percent_time_asleep_log  stage_0_count_log  \\\n",
       "0                  6.363028                 3.688879           4.127134   \n",
       "1                  6.363028                 3.688879           4.127134   \n",
       "2                  6.363028                 3.688879           4.127134   \n",
       "3                  6.363028                 3.688879           4.127134   \n",
       "4                  6.363028                 3.688879           4.127134   \n",
       "...                     ...                      ...                ...   \n",
       "21756              6.001415                 3.871201          28.835470   \n",
       "21760              6.001415                 3.871201          29.284244   \n",
       "21761              6.001415                 3.871201          29.363008   \n",
       "21763              6.001415                 3.871201          29.914055   \n",
       "21764              6.001415                 3.871201          29.789062   \n",
       "\n",
       "       total_sleep_time_boxcox  HR_Std_yeojohnson  total_sleep_time_rank  \\\n",
       "0                    32.989376          -1.854988              -0.020245   \n",
       "1                    32.989376          -1.732922              -0.020245   \n",
       "2                    32.989376          -1.482199              -0.020245   \n",
       "3                    32.989376          -0.650880              -0.020245   \n",
       "4                    32.989376          -0.299151              -0.020245   \n",
       "...                        ...                ...                    ...   \n",
       "21756                27.942060          -0.761763              -1.170405   \n",
       "21760                27.942060          -0.756928              -1.170405   \n",
       "21761                27.942060          -0.492006              -1.170405   \n",
       "21763                27.942060          -1.432926              -1.170405   \n",
       "21764                27.942060          -0.428728              -1.170405   \n",
       "\n",
       "       total_sleep_time_standardized  total_sleep_time_yeojohnson  \n",
       "0                          -0.047577                     0.067502  \n",
       "1                          -0.047577                     0.067502  \n",
       "2                          -0.047577                     0.067502  \n",
       "3                          -0.047577                     0.067502  \n",
       "4                          -0.047577                     0.067502  \n",
       "...                              ...                          ...  \n",
       "21756                      -0.318091                    -0.531718  \n",
       "21760                      -0.318091                    -0.531718  \n",
       "21761                      -0.318091                    -0.531718  \n",
       "21763                      -0.318091                    -0.531718  \n",
       "21764                      -0.318091                    -0.531718  \n",
       "\n",
       "[20369 rows x 98 columns]"
      ]
     },
     "execution_count": 24,
     "metadata": {},
     "output_type": "execute_result"
    }
   ],
   "source": [
    "df"
   ]
  },
  {
   "cell_type": "code",
   "execution_count": 24,
   "id": "5af3be3e-5d56-4453-9671-f2482acbefae",
   "metadata": {
    "tags": []
   },
   "outputs": [],
   "source": [
    "sleep_features.append('total_sleep_time_rank')\n",
    "sleep_features.append('total_sleep_time_standardized')\n",
    "sleep_features.append('total_sleep_time_yeojohnson')\n",
    "sleep_features.append('total_sleep_time_boxcox')"
   ]
  },
  {
   "cell_type": "code",
   "execution_count": 30,
   "id": "d8e64f23-37de-4883-a071-041c3d27c793",
   "metadata": {
    "tags": []
   },
   "outputs": [],
   "source": [
    "sleep_features.append('stage_0_count_rank')\n",
    "sleep_features.append('stage_0_count_standardized')\n",
    "sleep_features.append('stage_0_count_yeojohnson')\n",
    "sleep_features.append('stage_0_count_boxcox')"
   ]
  },
  {
   "cell_type": "code",
   "execution_count": 31,
   "id": "ddbbf23f-71b6-4c89-bd89-a93ac04753f4",
   "metadata": {
    "tags": []
   },
   "outputs": [
    {
     "data": {
      "image/png": "[encoded data removed]",
      "text/plain": [
       "<Figure size 864x1152 with 1 Axes>"
      ]
     },
     "metadata": {
      "needs_background": "light"
     },
     "output_type": "display_data"
    },
    {
     "data": {
      "text/plain": [
       "<Axes: title={'center': 'Features correlation with dependent variable'}, xlabel='Pearson Correlation'>"
      ]
     },
     "execution_count": 31,
     "metadata": {},
     "output_type": "execute_result"
    }
   ],
   "source": [
    "from yellowbrick.target import FeatureCorrelation\n",
    "\n",
    "plt.figure(figsize=(12, 16))\n",
    "visualizer = FeatureCorrelation(labels=sleep_features)\n",
    "visualizer.fit(df_imputed[sleep_features], df_imputed['IG'])\n",
    "visualizer.show()"
   ]
  },
  {
   "cell_type": "code",
   "execution_count": 29,
   "id": "9f060321",
   "metadata": {},
   "outputs": [
    {
     "data": {
      "image/png": "[encoded data removed]",
      "text/plain": [
       "<Figure size 432x288 with 1 Axes>"
      ]
     },
     "metadata": {
      "needs_background": "light"
     },
     "output_type": "display_data"
    },
    {
     "data": {
      "image/png": "[encoded data removed]",
      "text/plain": [
       "<Figure size 432x288 with 1 Axes>"
      ]
     },
     "metadata": {
      "needs_background": "light"
     },
     "output_type": "display_data"
    },
    {
     "data": {
      "image/png": "[encoded data removed]",
      "text/plain": [
       "<Figure size 432x288 with 1 Axes>"
      ]
     },
     "metadata": {
      "needs_background": "light"
     },
     "output_type": "display_data"
    },
    {
     "data": {
      "image/png": "[encoded data removed]",
      "text/plain": [
       "<Figure size 432x288 with 1 Axes>"
      ]
     },
     "metadata": {
      "needs_background": "light"
     },
     "output_type": "display_data"
    },
    {
     "ename": "MemoryError",
     "evalue": "Unable to allocate 107. TiB for an array with shape (14715876027564,) and data type float64",
     "output_type": "error",
     "traceback": [
      "\u001b[0;31m---------------------------------------------------------------------------\u001b[0m",
      "\u001b[0;31mMemoryError\u001b[0m                               Traceback (most recent call last)",
      "Input \u001b[0;32mIn [29]\u001b[0m, in \u001b[0;36m<cell line: 45>\u001b[0;34m()\u001b[0m\n\u001b[1;32m     43\u001b[0m scaler \u001b[38;5;241m=\u001b[39m StandardScaler()\n\u001b[1;32m     44\u001b[0m df[\u001b[38;5;124m'\u001b[39m\u001b[38;5;124mstage_0_count_standardized\u001b[39m\u001b[38;5;124m'\u001b[39m] \u001b[38;5;241m=\u001b[39m scaler\u001b[38;5;241m.\u001b[39mfit_transform(df[[\u001b[38;5;124m'\u001b[39m\u001b[38;5;124mstage_0_count\u001b[39m\u001b[38;5;124m'\u001b[39m]])\n\u001b[0;32m---> 45\u001b[0m \u001b[43msns\u001b[49m\u001b[38;5;241;43m.\u001b[39;49m\u001b[43mhistplot\u001b[49m\u001b[43m(\u001b[49m\u001b[43mdf\u001b[49m\u001b[43m[\u001b[49m\u001b[38;5;124;43m'\u001b[39;49m\u001b[38;5;124;43mstage_0_count_standardized\u001b[39;49m\u001b[38;5;124;43m'\u001b[39;49m\u001b[43m]\u001b[49m\u001b[43m,\u001b[49m\u001b[43m \u001b[49m\u001b[43mkde\u001b[49m\u001b[38;5;241;43m=\u001b[39;49m\u001b[38;5;28;43;01mTrue\u001b[39;49;00m\u001b[43m)\u001b[49m\n\u001b[1;32m     46\u001b[0m plt\u001b[38;5;241m.\u001b[39mtitle(\u001b[38;5;124m'\u001b[39m\u001b[38;5;124mStandardized stage_0_count Distribution\u001b[39m\u001b[38;5;124m'\u001b[39m)\n\u001b[1;32m     47\u001b[0m plt\u001b[38;5;241m.\u001b[39mshow()\n",
      "File \u001b[0;32m~/.local/Python-3.10-gimkl-2022a/lib/python3.10/site-packages/seaborn/distributions.py:1416\u001b[0m, in \u001b[0;36mhistplot\u001b[0;34m(data, x, y, hue, weights, stat, bins, binwidth, binrange, discrete, cumulative, common_bins, common_norm, multiple, element, fill, shrink, kde, kde_kws, line_kws, thresh, pthresh, pmax, cbar, cbar_ax, cbar_kws, palette, hue_order, hue_norm, color, log_scale, legend, ax, **kwargs)\u001b[0m\n\u001b[1;32m   1405\u001b[0m estimate_kws \u001b[38;5;241m=\u001b[39m \u001b[38;5;28mdict\u001b[39m(\n\u001b[1;32m   1406\u001b[0m     stat\u001b[38;5;241m=\u001b[39mstat,\n\u001b[1;32m   1407\u001b[0m     bins\u001b[38;5;241m=\u001b[39mbins,\n\u001b[0;32m   (...)\u001b[0m\n\u001b[1;32m   1411\u001b[0m     cumulative\u001b[38;5;241m=\u001b[39mcumulative,\n\u001b[1;32m   1412\u001b[0m )\n\u001b[1;32m   1414\u001b[0m \u001b[38;5;28;01mif\u001b[39;00m p\u001b[38;5;241m.\u001b[39munivariate:\n\u001b[0;32m-> 1416\u001b[0m     \u001b[43mp\u001b[49m\u001b[38;5;241;43m.\u001b[39;49m\u001b[43mplot_univariate_histogram\u001b[49m\u001b[43m(\u001b[49m\n\u001b[1;32m   1417\u001b[0m \u001b[43m        \u001b[49m\u001b[43mmultiple\u001b[49m\u001b[38;5;241;43m=\u001b[39;49m\u001b[43mmultiple\u001b[49m\u001b[43m,\u001b[49m\n\u001b[1;32m   1418\u001b[0m \u001b[43m        \u001b[49m\u001b[43melement\u001b[49m\u001b[38;5;241;43m=\u001b[39;49m\u001b[43melement\u001b[49m\u001b[43m,\u001b[49m\n\u001b[1;32m   1419\u001b[0m \u001b[43m        \u001b[49m\u001b[43mfill\u001b[49m\u001b[38;5;241;43m=\u001b[39;49m\u001b[43mfill\u001b[49m\u001b[43m,\u001b[49m\n\u001b[1;32m   1420\u001b[0m \u001b[43m        \u001b[49m\u001b[43mshrink\u001b[49m\u001b[38;5;241;43m=\u001b[39;49m\u001b[43mshrink\u001b[49m\u001b[43m,\u001b[49m\n\u001b[1;32m   1421\u001b[0m \u001b[43m        \u001b[49m\u001b[43mcommon_norm\u001b[49m\u001b[38;5;241;43m=\u001b[39;49m\u001b[43mcommon_norm\u001b[49m\u001b[43m,\u001b[49m\n\u001b[1;32m   1422\u001b[0m \u001b[43m        \u001b[49m\u001b[43mcommon_bins\u001b[49m\u001b[38;5;241;43m=\u001b[39;49m\u001b[43mcommon_bins\u001b[49m\u001b[43m,\u001b[49m\n\u001b[1;32m   1423\u001b[0m \u001b[43m        \u001b[49m\u001b[43mkde\u001b[49m\u001b[38;5;241;43m=\u001b[39;49m\u001b[43mkde\u001b[49m\u001b[43m,\u001b[49m\n\u001b[1;32m   1424\u001b[0m \u001b[43m        \u001b[49m\u001b[43mkde_kws\u001b[49m\u001b[38;5;241;43m=\u001b[39;49m\u001b[43mkde_kws\u001b[49m\u001b[43m,\u001b[49m\n\u001b[1;32m   1425\u001b[0m \u001b[43m        \u001b[49m\u001b[43mcolor\u001b[49m\u001b[38;5;241;43m=\u001b[39;49m\u001b[43mcolor\u001b[49m\u001b[43m,\u001b[49m\n\u001b[1;32m   1426\u001b[0m \u001b[43m        \u001b[49m\u001b[43mlegend\u001b[49m\u001b[38;5;241;43m=\u001b[39;49m\u001b[43mlegend\u001b[49m\u001b[43m,\u001b[49m\n\u001b[1;32m   1427\u001b[0m \u001b[43m        \u001b[49m\u001b[43mestimate_kws\u001b[49m\u001b[38;5;241;43m=\u001b[39;49m\u001b[43mestimate_kws\u001b[49m\u001b[43m,\u001b[49m\n\u001b[1;32m   1428\u001b[0m \u001b[43m        \u001b[49m\u001b[43mline_kws\u001b[49m\u001b[38;5;241;43m=\u001b[39;49m\u001b[43mline_kws\u001b[49m\u001b[43m,\u001b[49m\n\u001b[1;32m   1429\u001b[0m \u001b[43m        \u001b[49m\u001b[38;5;241;43m*\u001b[39;49m\u001b[38;5;241;43m*\u001b[39;49m\u001b[43mkwargs\u001b[49m\u001b[43m,\u001b[49m\n\u001b[1;32m   1430\u001b[0m \u001b[43m    \u001b[49m\u001b[43m)\u001b[49m\n\u001b[1;32m   1432\u001b[0m \u001b[38;5;28;01melse\u001b[39;00m:\n\u001b[1;32m   1434\u001b[0m     p\u001b[38;5;241m.\u001b[39mplot_bivariate_histogram(\n\u001b[1;32m   1435\u001b[0m         common_bins\u001b[38;5;241m=\u001b[39mcommon_bins,\n\u001b[1;32m   1436\u001b[0m         common_norm\u001b[38;5;241m=\u001b[39mcommon_norm,\n\u001b[0;32m   (...)\u001b[0m\n\u001b[1;32m   1446\u001b[0m         \u001b[38;5;241m*\u001b[39m\u001b[38;5;241m*\u001b[39mkwargs,\n\u001b[1;32m   1447\u001b[0m     )\n",
      "File \u001b[0;32m~/.local/Python-3.10-gimkl-2022a/lib/python3.10/site-packages/seaborn/distributions.py:470\u001b[0m, in \u001b[0;36m_DistributionPlotter.plot_univariate_histogram\u001b[0;34m(self, multiple, element, fill, common_norm, common_bins, shrink, kde, kde_kws, color, legend, line_kws, estimate_kws, **plot_kws)\u001b[0m\n\u001b[1;32m    468\u001b[0m \u001b[38;5;66;03m# Do the histogram computation\u001b[39;00m\n\u001b[1;32m    469\u001b[0m \u001b[38;5;28;01mif\u001b[39;00m \u001b[38;5;129;01mnot\u001b[39;00m (multiple_histograms \u001b[38;5;129;01mand\u001b[39;00m common_bins):\n\u001b[0;32m--> 470\u001b[0m     bin_kws \u001b[38;5;241m=\u001b[39m \u001b[43mestimator\u001b[49m\u001b[38;5;241;43m.\u001b[39;49m\u001b[43m_define_bin_params\u001b[49m\u001b[43m(\u001b[49m\u001b[43msub_data\u001b[49m\u001b[43m,\u001b[49m\u001b[43m \u001b[49m\u001b[43morient\u001b[49m\u001b[43m,\u001b[49m\u001b[43m \u001b[49m\u001b[38;5;28;43;01mNone\u001b[39;49;00m\u001b[43m)\u001b[49m\n\u001b[1;32m    471\u001b[0m res \u001b[38;5;241m=\u001b[39m estimator\u001b[38;5;241m.\u001b[39m_normalize(estimator\u001b[38;5;241m.\u001b[39m_eval(sub_data, orient, bin_kws))\n\u001b[1;32m    472\u001b[0m heights \u001b[38;5;241m=\u001b[39m res[estimator\u001b[38;5;241m.\u001b[39mstat]\u001b[38;5;241m.\u001b[39mto_numpy()\n",
      "File \u001b[0;32m~/.local/Python-3.10-gimkl-2022a/lib/python3.10/site-packages/seaborn/_stats/counting.py:152\u001b[0m, in \u001b[0;36mHist._define_bin_params\u001b[0;34m(self, data, orient, scale_type)\u001b[0m\n\u001b[1;32m    148\u001b[0m \u001b[38;5;66;03m# TODO We'll want this for ordinal / discrete scales too\u001b[39;00m\n\u001b[1;32m    149\u001b[0m \u001b[38;5;66;03m# (Do we need discrete as a parameter or just infer from scale?)\u001b[39;00m\n\u001b[1;32m    150\u001b[0m discrete \u001b[38;5;241m=\u001b[39m \u001b[38;5;28mself\u001b[39m\u001b[38;5;241m.\u001b[39mdiscrete \u001b[38;5;129;01mor\u001b[39;00m scale_type \u001b[38;5;241m==\u001b[39m \u001b[38;5;124m\"\u001b[39m\u001b[38;5;124mnominal\u001b[39m\u001b[38;5;124m\"\u001b[39m\n\u001b[0;32m--> 152\u001b[0m bin_edges \u001b[38;5;241m=\u001b[39m \u001b[38;5;28;43mself\u001b[39;49m\u001b[38;5;241;43m.\u001b[39;49m\u001b[43m_define_bin_edges\u001b[49m\u001b[43m(\u001b[49m\n\u001b[1;32m    153\u001b[0m \u001b[43m    \u001b[49m\u001b[43mvals\u001b[49m\u001b[43m,\u001b[49m\u001b[43m \u001b[49m\u001b[43mweights\u001b[49m\u001b[43m,\u001b[49m\u001b[43m \u001b[49m\u001b[38;5;28;43mself\u001b[39;49m\u001b[38;5;241;43m.\u001b[39;49m\u001b[43mbins\u001b[49m\u001b[43m,\u001b[49m\u001b[43m \u001b[49m\u001b[38;5;28;43mself\u001b[39;49m\u001b[38;5;241;43m.\u001b[39;49m\u001b[43mbinwidth\u001b[49m\u001b[43m,\u001b[49m\u001b[43m \u001b[49m\u001b[38;5;28;43mself\u001b[39;49m\u001b[38;5;241;43m.\u001b[39;49m\u001b[43mbinrange\u001b[49m\u001b[43m,\u001b[49m\u001b[43m \u001b[49m\u001b[43mdiscrete\u001b[49m\u001b[43m,\u001b[49m\n\u001b[1;32m    154\u001b[0m \u001b[43m\u001b[49m\u001b[43m)\u001b[49m\n\u001b[1;32m    156\u001b[0m \u001b[38;5;28;01mif\u001b[39;00m \u001b[38;5;28misinstance\u001b[39m(\u001b[38;5;28mself\u001b[39m\u001b[38;5;241m.\u001b[39mbins, (\u001b[38;5;28mstr\u001b[39m, \u001b[38;5;28mint\u001b[39m)):\n\u001b[1;32m    157\u001b[0m     n_bins \u001b[38;5;241m=\u001b[39m \u001b[38;5;28mlen\u001b[39m(bin_edges) \u001b[38;5;241m-\u001b[39m \u001b[38;5;241m1\u001b[39m\n",
      "File \u001b[0;32m~/.local/Python-3.10-gimkl-2022a/lib/python3.10/site-packages/seaborn/_stats/counting.py:137\u001b[0m, in \u001b[0;36mHist._define_bin_edges\u001b[0;34m(self, vals, weight, bins, binwidth, binrange, discrete)\u001b[0m\n\u001b[1;32m    135\u001b[0m     \u001b[38;5;28;01mif\u001b[39;00m binwidth \u001b[38;5;129;01mis\u001b[39;00m \u001b[38;5;129;01mnot\u001b[39;00m \u001b[38;5;28;01mNone\u001b[39;00m:\n\u001b[1;32m    136\u001b[0m         bins \u001b[38;5;241m=\u001b[39m \u001b[38;5;28mint\u001b[39m(\u001b[38;5;28mround\u001b[39m((stop \u001b[38;5;241m-\u001b[39m start) \u001b[38;5;241m/\u001b[39m binwidth))\n\u001b[0;32m--> 137\u001b[0m     bin_edges \u001b[38;5;241m=\u001b[39m \u001b[43mnp\u001b[49m\u001b[38;5;241;43m.\u001b[39;49m\u001b[43mhistogram_bin_edges\u001b[49m\u001b[43m(\u001b[49m\u001b[43mvals\u001b[49m\u001b[43m,\u001b[49m\u001b[43m \u001b[49m\u001b[43mbins\u001b[49m\u001b[43m,\u001b[49m\u001b[43m \u001b[49m\u001b[43mbinrange\u001b[49m\u001b[43m,\u001b[49m\u001b[43m \u001b[49m\u001b[43mweight\u001b[49m\u001b[43m)\u001b[49m\n\u001b[1;32m    139\u001b[0m \u001b[38;5;66;03m# TODO warning or cap on too many bins?\u001b[39;00m\n\u001b[1;32m    141\u001b[0m \u001b[38;5;28;01mreturn\u001b[39;00m bin_edges\n",
      "File \u001b[0;32m~/.local/Python-3.10-gimkl-2022a/lib/python3.10/site-packages/numpy/lib/histograms.py:669\u001b[0m, in \u001b[0;36mhistogram_bin_edges\u001b[0;34m(a, bins, range, weights)\u001b[0m\n\u001b[1;32m    472\u001b[0m \u001b[38;5;124mr\u001b[39m\u001b[38;5;124;03m\"\"\"\u001b[39;00m\n\u001b[1;32m    473\u001b[0m \u001b[38;5;124;03mFunction to calculate only the edges of the bins used by the `histogram`\u001b[39;00m\n\u001b[1;32m    474\u001b[0m \u001b[38;5;124;03mfunction.\u001b[39;00m\n\u001b[0;32m   (...)\u001b[0m\n\u001b[1;32m    666\u001b[0m \n\u001b[1;32m    667\u001b[0m \u001b[38;5;124;03m\"\"\"\u001b[39;00m\n\u001b[1;32m    668\u001b[0m a, weights \u001b[38;5;241m=\u001b[39m _ravel_and_check_weights(a, weights)\n\u001b[0;32m--> 669\u001b[0m bin_edges, _ \u001b[38;5;241m=\u001b[39m \u001b[43m_get_bin_edges\u001b[49m\u001b[43m(\u001b[49m\u001b[43ma\u001b[49m\u001b[43m,\u001b[49m\u001b[43m \u001b[49m\u001b[43mbins\u001b[49m\u001b[43m,\u001b[49m\u001b[43m \u001b[49m\u001b[38;5;28;43mrange\u001b[39;49m\u001b[43m,\u001b[49m\u001b[43m \u001b[49m\u001b[43mweights\u001b[49m\u001b[43m)\u001b[49m\n\u001b[1;32m    670\u001b[0m \u001b[38;5;28;01mreturn\u001b[39;00m bin_edges\n",
      "File \u001b[0;32m~/.local/Python-3.10-gimkl-2022a/lib/python3.10/site-packages/numpy/lib/histograms.py:446\u001b[0m, in \u001b[0;36m_get_bin_edges\u001b[0;34m(a, bins, range, weights)\u001b[0m\n\u001b[1;32m    443\u001b[0m         bin_type \u001b[38;5;241m=\u001b[39m np\u001b[38;5;241m.\u001b[39mresult_type(bin_type, \u001b[38;5;28mfloat\u001b[39m)\n\u001b[1;32m    445\u001b[0m     \u001b[38;5;66;03m# bin edges must be computed\u001b[39;00m\n\u001b[0;32m--> 446\u001b[0m     bin_edges \u001b[38;5;241m=\u001b[39m \u001b[43mnp\u001b[49m\u001b[38;5;241;43m.\u001b[39;49m\u001b[43mlinspace\u001b[49m\u001b[43m(\u001b[49m\n\u001b[1;32m    447\u001b[0m \u001b[43m        \u001b[49m\u001b[43mfirst_edge\u001b[49m\u001b[43m,\u001b[49m\u001b[43m \u001b[49m\u001b[43mlast_edge\u001b[49m\u001b[43m,\u001b[49m\u001b[43m \u001b[49m\u001b[43mn_equal_bins\u001b[49m\u001b[43m \u001b[49m\u001b[38;5;241;43m+\u001b[39;49m\u001b[43m \u001b[49m\u001b[38;5;241;43m1\u001b[39;49m\u001b[43m,\u001b[49m\n\u001b[1;32m    448\u001b[0m \u001b[43m        \u001b[49m\u001b[43mendpoint\u001b[49m\u001b[38;5;241;43m=\u001b[39;49m\u001b[38;5;28;43;01mTrue\u001b[39;49;00m\u001b[43m,\u001b[49m\u001b[43m \u001b[49m\u001b[43mdtype\u001b[49m\u001b[38;5;241;43m=\u001b[39;49m\u001b[43mbin_type\u001b[49m\u001b[43m)\u001b[49m\n\u001b[1;32m    449\u001b[0m     \u001b[38;5;28;01mreturn\u001b[39;00m bin_edges, (first_edge, last_edge, n_equal_bins)\n\u001b[1;32m    450\u001b[0m \u001b[38;5;28;01melse\u001b[39;00m:\n",
      "File \u001b[0;32m~/.local/Python-3.10-gimkl-2022a/lib/python3.10/site-packages/numpy/core/function_base.py:140\u001b[0m, in \u001b[0;36mlinspace\u001b[0;34m(start, stop, num, endpoint, retstep, dtype, axis)\u001b[0m\n\u001b[1;32m    137\u001b[0m     integer_dtype \u001b[38;5;241m=\u001b[39m _nx\u001b[38;5;241m.\u001b[39missubdtype(dtype, _nx\u001b[38;5;241m.\u001b[39minteger)\n\u001b[1;32m    139\u001b[0m delta \u001b[38;5;241m=\u001b[39m stop \u001b[38;5;241m-\u001b[39m start\n\u001b[0;32m--> 140\u001b[0m y \u001b[38;5;241m=\u001b[39m \u001b[43m_nx\u001b[49m\u001b[38;5;241;43m.\u001b[39;49m\u001b[43marange\u001b[49m\u001b[43m(\u001b[49m\u001b[38;5;241;43m0\u001b[39;49m\u001b[43m,\u001b[49m\u001b[43m \u001b[49m\u001b[43mnum\u001b[49m\u001b[43m,\u001b[49m\u001b[43m \u001b[49m\u001b[43mdtype\u001b[49m\u001b[38;5;241;43m=\u001b[39;49m\u001b[43mdt\u001b[49m\u001b[43m)\u001b[49m\u001b[38;5;241m.\u001b[39mreshape((\u001b[38;5;241m-\u001b[39m\u001b[38;5;241m1\u001b[39m,) \u001b[38;5;241m+\u001b[39m (\u001b[38;5;241m1\u001b[39m,) \u001b[38;5;241m*\u001b[39m ndim(delta))\n\u001b[1;32m    141\u001b[0m \u001b[38;5;66;03m# In-place multiplication y *= delta/div is faster, but prevents the multiplicant\u001b[39;00m\n\u001b[1;32m    142\u001b[0m \u001b[38;5;66;03m# from overriding what class is produced, and thus prevents, e.g. use of Quantities,\u001b[39;00m\n\u001b[1;32m    143\u001b[0m \u001b[38;5;66;03m# see gh-7142. Hence, we multiply in place only for standard scalar types.\u001b[39;00m\n\u001b[1;32m    144\u001b[0m \u001b[38;5;28;01mif\u001b[39;00m div \u001b[38;5;241m>\u001b[39m \u001b[38;5;241m0\u001b[39m:\n",
      "\u001b[0;31mMemoryError\u001b[0m: Unable to allocate 107. TiB for an array with shape (14715876027564,) and data type float64"
     ]
    },
    {
     "data": {
      "image/png": "[encoded data removed]",
      "text/plain": [
       "<Figure size 432x288 with 1 Axes>"
      ]
     },
     "metadata": {
      "needs_background": "light"
     },
     "output_type": "display_data"
    }
   ],
   "source": [
    "import pandas as pd\n",
    "import numpy as np\n",
    "from scipy.stats import boxcox, shapiro, rankdata, norm\n",
    "from sklearn.preprocessing import PowerTransformer, StandardScaler\n",
    "import matplotlib.pyplot as plt\n",
    "import seaborn as sns\n",
    "\n",
    "# Assuming df is your DataFrame and 'HR_Std' is a non-normal feature\n",
    "df= df_imputed\n",
    "\"\"\"\n",
    "# Original Data\n",
    "sns.histplot(df['stage_0_count'], kde=True)\n",
    "plt.title('Original stage_0_count Distribution')\n",
    "plt.show()\n",
    "\"\"\"\n",
    "# Log Transformation\n",
    "df['stage_0_count_log'] = np.log(df['stage_0_count'] + 1)\n",
    "sns.histplot(df['stage_0_count_log'], kde=True)\n",
    "plt.title('Log Transformed stage_0_count_log Distribution')\n",
    "plt.show()\n",
    "\n",
    "# Box-Cox Transformation\n",
    "df['stage_0_count_boxcox'], _ = boxcox(df['stage_0_count'] + 1)\n",
    "sns.histplot(df['stage_0_count_boxcox'], kde=True)\n",
    "plt.title('Box-Cox Transformed stage_0_count_boxcox Distribution')\n",
    "plt.show()\n",
    "\n",
    "# Yeo-Johnson Transformation\n",
    "pt = PowerTransformer(method='yeo-johnson')\n",
    "df['stage_0_count_yeojohnson'] = pt.fit_transform(df[['stage_0_count']])\n",
    "sns.histplot(df['stage_0_count_yeojohnson'], kde=True)\n",
    "plt.title('Yeo-Johnson Transformed stage_0_count Distribution')\n",
    "plt.show()\n",
    "\n",
    "# Rank-Based Inverse Normal Transformation\n",
    "ranks = rankdata(df['stage_0_count'])\n",
    "df['stage_0_count_rank'] = norm.ppf((ranks - 0.5) / len(ranks))\n",
    "sns.histplot(df['stage_0_count_rank'], kde=True)\n",
    "plt.title('Rank-Based Inverse Normal Transformed stage_0_count')\n",
    "plt.show()\n",
    "\n",
    "# Standardization\n",
    "scaler = StandardScaler()\n",
    "df['stage_0_count_standardized'] = scaler.fit_transform(df[['stage_0_count']])\n",
    "sns.histplot(df['stage_0_count_standardized'], kde=True)\n",
    "plt.title('Standardized stage_0_count Distribution')\n",
    "plt.show()\n",
    "\n",
    "# Re-evaluate normality using Shapiro-Wilk test\n",
    "_, p_value_original = shapiro(df['stage_0_count'])\n",
    "_, p_value_log = shapiro(df['stage_0_count_log'])\n",
    "_, p_value_boxcox = shapiro(df['stage_0_count_boxcox'])\n",
    "_, p_value_yeojohnson = shapiro(df['stage_0_count_yeojohnson'])\n",
    "_, p_value_rank = shapiro(df['stage_0_count_rank'])\n",
    "_, p_value_standardized = shapiro(df['stage_0_count'])\n",
    "\n",
    "print(f'Original: p-value = {p_value_original}')\n",
    "print(f'Log: p-value = {p_value_log}')\n",
    "print(f'Box-Cox: p-value = {p_value_boxcox}')\n",
    "print(f'Yeo-Johnson: p-value = {p_value_yeojohnson}')\n",
    "print(f'Rank-Based Inverse Normal: p-value = {p_value_rank}')\n",
    "print(f'Standardized: p-value = {p_value_standardized}')"
   ]
  },
  {
   "cell_type": "code",
   "execution_count": null,
   "id": "085d2911-2924-4bc0-9fa4-412148641823",
   "metadata": {},
   "outputs": [],
   "source": []
  },
  {
   "cell_type": "code",
   "execution_count": 31,
   "id": "56f95a68",
   "metadata": {
    "tags": []
   },
   "outputs": [
    {
     "data": {
      "image/png": "[encoded data removed]",
      "text/plain": [
       "<Figure size 864x1152 with 1 Axes>"
      ]
     },
     "metadata": {
      "needs_background": "light"
     },
     "output_type": "display_data"
    },
    {
     "data": {
      "text/plain": [
       "<Axes: title={'center': 'Features correlation with dependent variable'}, xlabel='Pearson Correlation'>"
      ]
     },
     "execution_count": 31,
     "metadata": {},
     "output_type": "execute_result"
    }
   ],
   "source": [
    "from yellowbrick.target import FeatureCorrelation\n",
    "\n",
    "plt.figure(figsize=(12, 16))\n",
    "visualizer = FeatureCorrelation(labels=sleep_features)\n",
    "visualizer.fit(df_imputed[sleep_features], df_imputed['IG'])\n",
    "visualizer.show()"
   ]
  },
  {
   "cell_type": "markdown",
   "id": "962fff6e-3254-4053-a85a-be48d8b60460",
   "metadata": {},
   "source": [
    "total_sleep_time_log, rank based inverse normal transformed total_sleep_time, percent_time_asleep_log,rank based inverse normal transformed percent_time_asleep, waso, rank based inverse sleep_onset_latency, number_wake_bouts, rank based inverse normal stage_0_count, ank based inverse normal stage_1_count,ank based inverse normal stage_2_count, yeo-johnson transformed stage 3, yeo-johnson transformed stage 5"
   ]
  },
  {
   "cell_type": "code",
   "execution_count": 1,
   "id": "2a81856c-c26e-47c3-981a-9747556cea6e",
   "metadata": {
    "tags": []
   },
   "outputs": [],
   "source": [
    "import pandas as pd"
   ]
  },
  {
   "cell_type": "code",
   "execution_count": 4,
   "id": "3e8b923d-e4b5-47c4-a6f0-e3463b584d20",
   "metadata": {
    "tags": []
   },
   "outputs": [],
   "source": [
    "df=pd.read_csv('data_compiled.csv')"
   ]
  },
  {
   "cell_type": "code",
   "execution_count": 7,
   "id": "4a40d593-7dd1-4926-8abc-924d282434eb",
   "metadata": {
    "tags": []
   },
   "outputs": [
    {
     "name": "stdout",
     "output_type": "stream",
     "text": [
      "Unnamed: 0\n",
      "IG\n",
      "HR_Mean\n",
      "HR_Max\n",
      "HR_Std\n",
      "HR_Skew\n",
      "HR_Q1G\n",
      "HR_Q3G\n",
      "EDA_Mean\n",
      "EDA_Max\n",
      "EDA_Std\n",
      "EDA_Skew\n",
      "EDA_Q1G\n",
      "EDA_Q3G\n",
      "TEMP_Mean\n",
      "TEMP_Max\n",
      "TEMP_Std\n",
      "TEMP_Skew\n",
      "TEMP_Q1G\n",
      "TEMP_Q3G\n",
      "ACC_Mean\n",
      "ACC_Max\n",
      "ACC_Std\n",
      "ACC_Skew\n",
      "ACC_Q1G\n",
      "ACC_Q3G\n",
      "BVP_Mean\n",
      "BVP_Max\n",
      "BVP_Std\n",
      "BVP_Skew\n",
      "BVP_Q1G\n",
      "BVP_Q3G\n",
      "PeakEDA\n",
      "maxHRV\n",
      "minHRV\n",
      "medianHRV\n",
      "SDNN\n",
      "NN50\n",
      "pNN50\n",
      "RMSSD\n",
      "calories2hr\n",
      "protien2hr\n",
      "sugar2hr\n",
      "carbs2hr\n",
      "protien8hr\n",
      "sugar8hr\n",
      "carbs8hr\n",
      "calories24hr\n",
      "protien24hr\n",
      "sugar24hr\n",
      "carbs24hr\n",
      "Eat\n",
      "Eatcnt2hr\n",
      "Eatcnt8hr\n",
      "Eatcnt24hr\n",
      "Eatmean2hr\n",
      "Eatmean8hr\n",
      "Eatmean24hr\n",
      "Minfrommid\n",
      "Hourfrommid\n",
      "EDA_Min\n",
      "calories8hr\n",
      "TEMP_Min\n",
      "BVP_Min\n",
      "ACC_Min\n",
      "HR_Min\n",
      "HR_Mean_Historical\n",
      "HR_Std_Historical\n",
      "ACC_Mean_Historical\n",
      "ACC_Std_Historical\n",
      "Activity_Bouts\n",
      "Mean\n",
      "Std\n",
      "Activity24\n",
      "Activity1h\n",
      "total_sleep_time\n",
      "percent_time_asleep\n",
      "waso\n",
      "sleep_onset_latency\n",
      "number_wake_bouts\n",
      "stage_0_count\n",
      "stage_1_count\n",
      "stage_2_count\n",
      "stage_3_count\n",
      "stage_5_count\n",
      "HbA1c\n",
      "Time\n",
      "Date\n",
      "glucose_level\n",
      "2.0\n",
      "3.0\n",
      "4.0\n",
      "5.0\n",
      "6.0\n",
      "8.0\n",
      "9.0\n",
      "10.0\n",
      "11.0\n",
      "12.0\n",
      "13.0\n",
      "14.0\n",
      "15.0\n",
      "16.0\n",
      "FEMALE\n",
      "MALE\n",
      "stage_0_count_log\n",
      "total_sleep_time_log\n",
      "percent_time_asleep_log\n",
      "stage_0_count_boxcox\n",
      "stage_0_count_yeojohnson\n",
      "stage_0_count_rank\n",
      "stage_0_count_standardized\n",
      "total_sleep_timelog\n",
      "percent_time_asleeplog\n",
      "wasolog\n",
      "sleep_onset_latencylog\n",
      "number_wake_boutslog\n",
      "stage_0_countlog\n",
      "stage_1_countlog\n",
      "stage_2_countlog\n",
      "stage_3_countlog\n",
      "stage_5_countlog\n",
      "total_sleep_time_boxcox\n",
      "total_sleep_time_yeojohnson\n",
      "total_sleep_time_rank\n",
      "percent_time_asleep_boxcox\n",
      "percent_time_asleep_yeojohnson\n",
      "percent_time_asleep_rank\n",
      "waso_boxcox\n",
      "waso_yeojohnson\n",
      "waso_rank\n",
      "sleep_onset_latency_yeojohnson\n",
      "sleep_onset_latency_rank\n",
      "number_wake_bouts_boxcox\n",
      "number_wake_bouts_yeojohnson\n",
      "number_wake_bouts_rank\n",
      "stage_1_count_boxcox\n",
      "stage_1_count_yeojohnson\n",
      "stage_1_count_rank\n",
      "stage_2_count_boxcox\n",
      "stage_2_count_yeojohnson\n",
      "stage_2_count_rank\n",
      "stage_3_count_boxcox\n",
      "stage_3_count_yeojohnson\n",
      "stage_3_count_rank\n",
      "stage_5_count_boxcox\n",
      "stage_5_count_yeojohnson\n",
      "stage_5_count_rank\n",
      "stage_0_count_percent\n",
      "stage_1_count_percent\n",
      "stage_2_count_percent\n",
      "stage_3_count_percent\n",
      "stage_5_count_percent\n",
      "stage_1_count_percent_diff_from_recommended\n",
      "stage_2_count_percent_diff_from_recommended\n",
      "stage_3_count_percent_diff_from_recommended\n",
      "stage_5_count_percent_diff_from_recommended\n"
     ]
    }
   ],
   "source": [
    "for col in  df.columns:\n",
    "    print(col)\n",
    "    "
   ]
  },
  {
   "cell_type": "code",
   "execution_count": 9,
   "id": "bbd10faa-c0e3-4621-9f62-d48fde239053",
   "metadata": {
    "tags": []
   },
   "outputs": [
    {
     "data": {
      "text/plain": [
       "0        Normal\n",
       "1        Normal\n",
       "2        Normal\n",
       "3           Low\n",
       "4           Low\n",
       "          ...  \n",
       "20364      High\n",
       "20365      High\n",
       "20366      High\n",
       "20367    Normal\n",
       "20368    Normal\n",
       "Name: glucose_level, Length: 20369, dtype: object"
      ]
     },
     "execution_count": 9,
     "metadata": {},
     "output_type": "execute_result"
    }
   ],
   "source": [
    "df['glucose_level']"
   ]
  },
  {
   "cell_type": "code",
   "execution_count": null,
   "id": "29172b4c-6b93-4999-9b9d-edbf0a24ea7e",
   "metadata": {},
   "outputs": [],
   "source": []
  }
 ],
 "metadata": {
  "kernelspec": {
   "display_name": "Python 3.10.5 (gimkl-2022a)",
   "language": "python",
   "name": "python3105-gimkl-2022a"
  },
  "language_info": {
   "codemirror_mode": {
    "name": "ipython",
    "version": 3
   },
   "file_extension": ".py",
   "mimetype": "text/x-python",
   "name": "python",
   "nbconvert_exporter": "python",
   "pygments_lexer": "ipython3",
   "version": "3.10.5"
  }
 },
 "nbformat": 4,
 "nbformat_minor": 5
}
